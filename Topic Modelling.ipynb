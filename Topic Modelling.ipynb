{
 "cells": [
  {
   "cell_type": "markdown",
   "metadata": {},
   "source": [
    "# TOPIC MODELLING"
   ]
  },
  {
   "cell_type": "markdown",
   "metadata": {},
   "source": [
    "<left><img src=\"images/topic.gif\" width=\"500\" height=\"100\" /></left>"
   ]
  },
  {
   "cell_type": "markdown",
   "metadata": {},
   "source": [
    "# Latent Dirichlet Allocation #\n",
    " \n",
    "\n",
    "LDA is used to classify text in a document to a particular topic. It builds a topic per document model and words per topic model, modeled as Dirichlet distributions. \n",
    "\n",
    "* Each document is modeled as a multinomial distribution of topics and each topic is modeled as a multinomial distribution of words.\n",
    "* LDA assumes that the every chunk of text we feed into it will contain words that are somehow related. Therefore choosing the right corpus of data is crucial. \n",
    "* It also assumes documents are produced from a mixture of topics. Those topics then generate words based on their probability distribution. "
   ]
  },
  {
   "cell_type": "markdown",
   "metadata": {},
   "source": [
    "## Load the dataset\n",
    "\n",
    "The dataset we'll use is a list of over one million news headlines published over a period of 15 years. We'll start by loading it from the `abcnews-date-text.csv` file."
   ]
  },
  {
   "cell_type": "code",
   "execution_count": 42,
   "metadata": {
    "_cell_guid": "79c7e3d0-c299-4dcb-8224-4455121ee9b0",
    "_uuid": "d629ff2d2480ee46fbb7e2d37f6b5fab8052498a"
   },
   "outputs": [],
   "source": [
    "\n",
    "#Load the dataset from the csv and save it to 'data_text'\n",
    "\n",
    "import pandas as pd\n",
    "data = pd.read_excel('output-merged.xlsx')\n",
    "# we only need to headlines from the data\n",
    "data_text = data[:300000][['Content']]\n",
    "data_text['index'] = data_text.index\n",
    "documents = data_text"
   ]
  },
  {
   "cell_type": "markdown",
   "metadata": {},
   "source": [
    "Let's glance at the dataset:"
   ]
  },
  {
   "cell_type": "code",
   "execution_count": 43,
   "metadata": {},
   "outputs": [
    {
     "name": "stdout",
     "output_type": "stream",
     "text": [
      "1250\n"
     ]
    }
   ],
   "source": [
    "\n",
    "#Get the total number of documents - in our case its\n",
    "\n",
    "print(len(documents))"
   ]
  },
  {
   "cell_type": "code",
   "execution_count": 44,
   "metadata": {},
   "outputs": [
    {
     "data": {
      "text/html": [
       "<div>\n",
       "<style scoped>\n",
       "    .dataframe tbody tr th:only-of-type {\n",
       "        vertical-align: middle;\n",
       "    }\n",
       "\n",
       "    .dataframe tbody tr th {\n",
       "        vertical-align: top;\n",
       "    }\n",
       "\n",
       "    .dataframe thead th {\n",
       "        text-align: right;\n",
       "    }\n",
       "</style>\n",
       "<table border=\"1\" class=\"dataframe\">\n",
       "  <thead>\n",
       "    <tr style=\"text-align: right;\">\n",
       "      <th></th>\n",
       "      <th>Content</th>\n",
       "      <th>index</th>\n",
       "    </tr>\n",
       "  </thead>\n",
       "  <tbody>\n",
       "    <tr>\n",
       "      <th>0</th>\n",
       "      <td>For decades, blue and white paper coupons defi...</td>\n",
       "      <td>0</td>\n",
       "    </tr>\n",
       "    <tr>\n",
       "      <th>1</th>\n",
       "      <td>A federal appeals court largely sided with App...</td>\n",
       "      <td>1</td>\n",
       "    </tr>\n",
       "    <tr>\n",
       "      <th>2</th>\n",
       "      <td>Anheuser-Busch has placed two executives who m...</td>\n",
       "      <td>2</td>\n",
       "    </tr>\n",
       "    <tr>\n",
       "      <th>3</th>\n",
       "      <td>US manufacturers have now mostly worked their ...</td>\n",
       "      <td>3</td>\n",
       "    </tr>\n",
       "    <tr>\n",
       "      <th>4</th>\n",
       "      <td>A copyright infringement case against British ...</td>\n",
       "      <td>4</td>\n",
       "    </tr>\n",
       "  </tbody>\n",
       "</table>\n",
       "</div>"
      ],
      "text/plain": [
       "                                             Content  index\n",
       "0  For decades, blue and white paper coupons defi...      0\n",
       "1  A federal appeals court largely sided with App...      1\n",
       "2  Anheuser-Busch has placed two executives who m...      2\n",
       "3  US manufacturers have now mostly worked their ...      3\n",
       "4  A copyright infringement case against British ...      4"
      ]
     },
     "execution_count": 44,
     "metadata": {},
     "output_type": "execute_result"
    }
   ],
   "source": [
    "documents.head()"
   ]
  },
  {
   "cell_type": "markdown",
   "metadata": {},
   "source": [
    "## Data Preprocessing ##\n",
    "\n",
    "We will perform the following steps:\n",
    "\n",
    "* **Tokenization**: Split the text into sentences and the sentences into words. Lowercase the words and remove punctuation.\n",
    "* Words that have fewer than 3 characters are removed.\n",
    "* All **stopwords** are removed.\n",
    "* Words are **lemmatized** - words in third person are changed to first person and verbs in past and future tenses are changed into present.\n",
    "* Words are **stemmed** - words are reduced to their root form."
   ]
  },
  {
   "cell_type": "code",
   "execution_count": 45,
   "metadata": {},
   "outputs": [],
   "source": [
    "\n",
    "#Loading Gensim and nltk libraries\n",
    "\n",
    "\n",
    "import gensim\n",
    "from gensim.utils import simple_preprocess\n",
    "from gensim.parsing.preprocessing import STOPWORDS\n",
    "from nltk.stem import WordNetLemmatizer, SnowballStemmer\n",
    "from nltk.stem.porter import *\n",
    "import numpy as np\n",
    "np.random.seed(400)"
   ]
  },
  {
   "cell_type": "code",
   "execution_count": 46,
   "metadata": {},
   "outputs": [
    {
     "name": "stderr",
     "output_type": "stream",
     "text": [
      "[nltk_data] Downloading package wordnet to\n",
      "[nltk_data]     /Users/keerthanaakannan/nltk_data...\n",
      "[nltk_data]   Package wordnet is already up-to-date!\n"
     ]
    },
    {
     "data": {
      "text/plain": [
       "True"
      ]
     },
     "execution_count": 46,
     "metadata": {},
     "output_type": "execute_result"
    }
   ],
   "source": [
    "import nltk\n",
    "nltk.download('wordnet')"
   ]
  },
  {
   "cell_type": "code",
   "execution_count": 47,
   "metadata": {},
   "outputs": [],
   "source": [
    "\n",
    "#Write a function to perform the pre processing steps on the entire dataset\n",
    "\n",
    "stemmer = SnowballStemmer(\"english\")\n",
    "def lemmatize_stemming(text):\n",
    "    return stemmer.stem(WordNetLemmatizer().lemmatize(text, pos='v'))\n",
    "\n",
    "# Tokenize and Lemmatize\n",
    "def preprocess(text):\n",
    "    result=[]\n",
    "    for token in gensim.utils.simple_preprocess(text) :\n",
    "        if token not in gensim.parsing.preprocessing.STOPWORDS and len(token) > 3:\n",
    "            result.append(lemmatize_stemming(token))\n",
    "    return result"
   ]
  },
  {
   "cell_type": "code",
   "execution_count": 48,
   "metadata": {},
   "outputs": [
    {
     "name": "stdout",
     "output_type": "stream",
     "text": [
      "Original document: \n",
      "['Fox', 'News', 'Flash', 'top', 'headlines', 'are', 'here.', 'Check', 'out', \"what's\", 'clicking', 'on', 'Foxnews.com.', 'People', 'all', 'over', 'the', 'world', 'lost', 'confidence', 'in', 'the', 'importance', 'of', 'routine', 'childhood', 'vaccines', 'against', 'killer', 'diseases', 'like', 'measles', 'and', 'polio', 'during', 'the', 'COVID-19', 'pandemic,', 'according', 'to', 'a', 'new', 'report', 'from', 'UNICEF.', 'In', '52', 'of', 'the', '55', 'countries', 'surveyed,', 'the', 'public', 'perception', 'of', 'vaccines', 'for', 'children', 'declined', 'between', '2019', 'and', '2021,', 'the', 'UN', 'agency', 'said.', 'The', 'data', 'was', 'a', '\"worrying', 'warning', 'signal\"', 'of', 'rising', 'vaccine', 'hesitancy', 'amid', 'misinformation,', 'dwindling', 'trust', 'in', 'governments', 'and', 'political', 'polarisation,', 'UNICEF,', 'the', 'United', 'Nations', \"Children's\", 'Fund,', 'said.', 'NEARLY', '13', 'MILLION', 'AFRICAN', 'CHILDREN', 'MISSED', 'VACCINATIONS', 'BETWEEN', '2019', 'AND', '2021,', 'ACCORDING', 'TO', 'UNICEF', 'REPORT', '\"We', 'cannot', 'allow', 'confidence', 'in', 'routine', 'immunizations', 'to', 'become', 'another', 'victim', 'of', 'the', 'pandemic,\"', 'Catherine', 'Russell,', 'UNICEF', 'executive', 'director,', 'said', 'in', 'a', 'statement.', '\"Otherwise,', 'the', 'next', 'wave', 'of', 'deaths', 'could', 'be', 'of', 'more', 'children', 'with', 'measles,', 'diphtheria', 'or', 'other', 'preventable', 'diseases.\"', 'The', 'change', 'in', 'perception', 'was', 'particularly', 'worrying,', 'the', 'agency', 'said,', 'as', 'it', 'comes', 'after', 'the', 'largest', 'sustained', 'backslide', 'in', 'childhood', 'immunization', 'in', 'a', 'generation', 'during', 'COVID', 'disruptions.', 'A', 'vial', 'of', 'the', 'measles,', 'mumps,', 'and', 'rubella', 'vaccine', 'is', 'pictured', 'in', 'Seattle,', 'Washington,', 'on', 'March', '20,', '2019.', 'People', 'have', 'become', 'more', 'wary', 'of', 'childhood', 'vaccines', 'during', 'the', 'coronavirus', 'pandemic,', 'according', 'to', 'UNICEF.', '(AP', 'Photo/Vincent', 'Thian,', 'File)', 'In', 'total,', '67', 'million', 'children', 'missed', 'out', 'on', 'one', 'or', 'more', 'potentially', 'lifesaving', 'vaccines', 'during', 'the', 'pandemic,', 'and', 'efforts', 'to', 'catch', 'up', 'have', 'so', 'far', 'stalled', 'despite', 'increasing', 'outbreaks.', 'The', 'picture', 'on', 'vaccine', 'confidence', 'varied', 'globally,', 'according', 'to', 'the', 'UNICEF', 'report,', 'its', 'flagship', 'annual', 'State', 'of', 'the', \"World's\", 'Children.', 'WHO', 'RECOMMENDS', 'FIRST', 'MALARIA', 'VACCINE', 'FOR', 'AFRICAN', 'CHILDREN:', '‘GLIMMER', 'OF', 'HOPE’', 'In', 'countries', 'including', 'Papua', 'New', 'Guinea', 'and', 'South', 'Korea,', 'agreement', 'with', 'the', 'statement', '\"vaccines', 'are', 'important', 'for', 'children\"', 'declined', 'by', '44%,', 'and', 'by', 'more', 'than', 'a', 'third', 'in', 'Ghana,', 'Senegal', 'and', 'Japan.', 'In', 'the', 'United', 'States,', 'it', 'declined', 'by', '13.6', 'percentage', 'points.', 'In', 'India,', 'China', 'and', 'Mexico,', 'confidence', 'remained', 'broadly', 'the', 'same', 'or', 'increased,', 'the', 'report', 'added.', 'The', 'report', 'stressed', 'that', 'vaccine', 'confidence', 'can', 'easily', 'shift', 'and', 'the', 'results', 'may', 'not', 'indicate', 'a', 'long-term', 'trend.', 'CLICK', 'HERE', 'TO', 'GET', 'THE', 'FOX', 'NEWS', 'APP', 'Despite', 'the', 'fall', 'in', 'confidence,', 'more', 'than', '80%', 'of', 'respondents', 'in', 'almost', 'half', 'of', 'the', 'countries', 'surveyed', 'still', 'said', 'childhood', 'vaccines', 'were', 'important.', 'The', 'data', 'was', 'collected', 'by', 'the', 'Vaccine', 'Confidence', 'Project', 'at', 'the', 'London', 'School', 'of', 'Hygiene', 'and', 'Tropical', 'Medicine.', '']\n",
      "\n",
      "\n",
      "Tokenized and lemmatized document: \n",
      "['news', 'flash', 'headlin', 'check', 'click', 'foxnew', 'peopl', 'world', 'lose', 'confid', 'import', 'routin', 'childhood', 'vaccin', 'killer', 'diseas', 'like', 'measl', 'polio', 'covid', 'pandem', 'accord', 'report', 'unicef', 'countri', 'survey', 'public', 'percept', 'vaccin', 'children', 'declin', 'agenc', 'say', 'data', 'worri', 'warn', 'signal', 'rise', 'vaccin', 'hesit', 'amid', 'misinform', 'dwindl', 'trust', 'govern', 'polit', 'polaris', 'unicef', 'unit', 'nation', 'children', 'fund', 'say', 'near', 'million', 'african', 'children', 'miss', 'vaccin', 'accord', 'unicef', 'report', 'allow', 'confid', 'routin', 'immun', 'victim', 'pandem', 'catherin', 'russel', 'unicef', 'execut', 'director', 'say', 'statement', 'wave', 'death', 'children', 'measl', 'diphtheria', 'prevent', 'diseas', 'chang', 'percept', 'particular', 'worri', 'agenc', 'say', 'come', 'largest', 'sustain', 'backslid', 'childhood', 'immun', 'generat', 'covid', 'disrupt', 'vial', 'measl', 'mump', 'rubella', 'vaccin', 'pictur', 'seattl', 'washington', 'march', 'peopl', 'wari', 'childhood', 'vaccin', 'coronavirus', 'pandem', 'accord', 'unicef', 'photo', 'vincent', 'thian', 'file', 'total', 'million', 'children', 'miss', 'potenti', 'lifesav', 'vaccin', 'pandem', 'effort', 'catch', 'stall', 'despit', 'increas', 'outbreak', 'pictur', 'vaccin', 'confid', 'vari', 'global', 'accord', 'unicef', 'report', 'flagship', 'annual', 'state', 'world', 'children', 'recommend', 'malaria', 'vaccin', 'african', 'children', 'glimmer', 'hope', 'countri', 'includ', 'papua', 'guinea', 'south', 'korea', 'agreement', 'statement', 'vaccin', 'import', 'children', 'declin', 'ghana', 'seneg', 'japan', 'unit', 'state', 'declin', 'percentag', 'point', 'india', 'china', 'mexico', 'confid', 'remain', 'broad', 'increas', 'report', 'add', 'report', 'stress', 'vaccin', 'confid', 'easili', 'shift', 'result', 'indic', 'long', 'term', 'trend', 'click', 'news', 'despit', 'fall', 'confid', 'respond', 'half', 'countri', 'survey', 'say', 'childhood', 'vaccin', 'import', 'data', 'collect', 'vaccin', 'confid', 'project', 'london', 'school', 'hygien', 'tropic', 'medicin']\n"
     ]
    }
   ],
   "source": [
    "\n",
    "#Preview a document after preprocessing\n",
    "\n",
    "document_num = 1248\n",
    "doc_sample = documents[documents['index'] == document_num].values[0][0]\n",
    "\n",
    "print(\"Original document: \")\n",
    "words = []\n",
    "for word in doc_sample.split(' '):\n",
    "    words.append(word)\n",
    "print(words)\n",
    "print(\"\\n\\nTokenized and lemmatized document: \")\n",
    "print(preprocess(doc_sample))"
   ]
  },
  {
   "cell_type": "markdown",
   "metadata": {},
   "source": [
    "<left><img src=\"images/sidelook.gif\" width=\"500\" height=\"100\" /></left>"
   ]
  },
  {
   "cell_type": "code",
   "execution_count": 49,
   "metadata": {},
   "outputs": [
    {
     "data": {
      "text/html": [
       "<div>\n",
       "<style scoped>\n",
       "    .dataframe tbody tr th:only-of-type {\n",
       "        vertical-align: middle;\n",
       "    }\n",
       "\n",
       "    .dataframe tbody tr th {\n",
       "        vertical-align: top;\n",
       "    }\n",
       "\n",
       "    .dataframe thead th {\n",
       "        text-align: right;\n",
       "    }\n",
       "</style>\n",
       "<table border=\"1\" class=\"dataframe\">\n",
       "  <thead>\n",
       "    <tr style=\"text-align: right;\">\n",
       "      <th></th>\n",
       "      <th>Content</th>\n",
       "      <th>index</th>\n",
       "    </tr>\n",
       "  </thead>\n",
       "  <tbody>\n",
       "    <tr>\n",
       "      <th>0</th>\n",
       "      <td>For decades, blue and white paper coupons defi...</td>\n",
       "      <td>0</td>\n",
       "    </tr>\n",
       "    <tr>\n",
       "      <th>1</th>\n",
       "      <td>A federal appeals court largely sided with App...</td>\n",
       "      <td>1</td>\n",
       "    </tr>\n",
       "    <tr>\n",
       "      <th>2</th>\n",
       "      <td>Anheuser-Busch has placed two executives who m...</td>\n",
       "      <td>2</td>\n",
       "    </tr>\n",
       "    <tr>\n",
       "      <th>3</th>\n",
       "      <td>US manufacturers have now mostly worked their ...</td>\n",
       "      <td>3</td>\n",
       "    </tr>\n",
       "    <tr>\n",
       "      <th>4</th>\n",
       "      <td>A copyright infringement case against British ...</td>\n",
       "      <td>4</td>\n",
       "    </tr>\n",
       "  </tbody>\n",
       "</table>\n",
       "</div>"
      ],
      "text/plain": [
       "                                             Content  index\n",
       "0  For decades, blue and white paper coupons defi...      0\n",
       "1  A federal appeals court largely sided with App...      1\n",
       "2  Anheuser-Busch has placed two executives who m...      2\n",
       "3  US manufacturers have now mostly worked their ...      3\n",
       "4  A copyright infringement case against British ...      4"
      ]
     },
     "execution_count": 49,
     "metadata": {},
     "output_type": "execute_result"
    }
   ],
   "source": [
    "documents.head()"
   ]
  },
  {
   "cell_type": "markdown",
   "metadata": {},
   "source": [
    "Let's now preprocess all the news headlines we have. To do that, let's use the [map](https://pandas.pydata.org/pandas-docs/stable/generated/pandas.Series.map.html) function from pandas to apply `preprocess()` to the `headline_text` column\n"
   ]
  },
  {
   "cell_type": "code",
   "execution_count": 50,
   "metadata": {},
   "outputs": [],
   "source": [
    "# preprocess all the headlines, saving the list of results as 'processed_docs'\n",
    "processed_docs = documents['Content'].map(preprocess)"
   ]
  },
  {
   "cell_type": "code",
   "execution_count": 51,
   "metadata": {},
   "outputs": [
    {
     "data": {
      "text/plain": [
       "0    [decad, blue, white, paper, coupon, defin, bat...\n",
       "1    [feder, appeal, court, larg, side, appl, monda...\n",
       "2    [anheus, busch, place, execut, manag, light, s...\n",
       "3    [manufactur, work, backlog, order, mean, cut, ...\n",
       "4    [copyright, infring, case, british, artist, sh...\n",
       "Name: Content, dtype: object"
      ]
     },
     "execution_count": 51,
     "metadata": {},
     "output_type": "execute_result"
    }
   ],
   "source": [
    "\n",
    "#Preview 'processed_docs'\n",
    "\n",
    "processed_docs.head()"
   ]
  },
  {
   "cell_type": "markdown",
   "metadata": {},
   "source": [
    "## Bag of words on the dataset\n",
    "\n",
    "Now let's create a dictionary from 'processed_docs' containing the number of times a word appears in the training set. To do that, let's pass `processed_docs` to [`gensim.corpora.Dictionary()`](https://radimrehurek.com/gensim/corpora/dictionary.html) and call it '`dictionary`'."
   ]
  },
  {
   "cell_type": "code",
   "execution_count": 52,
   "metadata": {},
   "outputs": [],
   "source": [
    "'''\n",
    "Create a dictionary from 'processed_docs' containing the number of times a word appears \n",
    "in the training set using gensim.corpora.Dictionary and call it 'dictionary'\n",
    "'''\n",
    "dictionary = gensim.corpora.Dictionary(processed_docs)"
   ]
  },
  {
   "cell_type": "code",
   "execution_count": 53,
   "metadata": {},
   "outputs": [
    {
     "name": "stdout",
     "output_type": "stream",
     "text": [
      "0 accord\n",
      "1 admit\n",
      "2 analyst\n",
      "3 attach\n",
      "4 away\n",
      "5 backfir\n",
      "6 backlash\n",
      "7 bankruptci\n",
      "8 bath\n",
      "9 begin\n",
      "10 better\n"
     ]
    }
   ],
   "source": [
    "\n",
    "#Checking dictionary created\n",
    "\n",
    "count = 0\n",
    "for k, v in dictionary.iteritems():\n",
    "    print(k, v)\n",
    "    count += 1\n",
    "    if count > 10:\n",
    "        break"
   ]
  },
  {
   "cell_type": "markdown",
   "metadata": {},
   "source": [
    "** Gensim filter_extremes **\n",
    "​\n",
    "[`filter_extremes(no_below=5, no_above=0.5, keep_n=100000)`](https://radimrehurek.com/gensim/corpora/dictionary.html#gensim.corpora.dictionary.Dictionary.filter_extremes)\n",
    "​\n",
    "Filter out tokens that appear in\n",
    "​\n",
    "* less than no_below documents (absolute number) or\n",
    "* more than no_above documents (fraction of total corpus size, not absolute number).\n",
    "* after (1) and (2), keep only the first keep_n most frequent tokens (or keep all if None)."
   ]
  },
  {
   "cell_type": "code",
   "execution_count": 54,
   "metadata": {},
   "outputs": [],
   "source": [
    "'''\n",
    "Remove very rare and very common words:\n",
    "\n",
    "- words appearing less than 15 times\n",
    "- words appearing in more than 10% of all documents\n",
    "'''\n",
    "dictionary.filter_extremes(no_below=15, no_above=0.1, keep_n=100000)"
   ]
  },
  {
   "cell_type": "markdown",
   "metadata": {},
   "source": [
    "** Gensim doc2bow **\n",
    "\n",
    "[`doc2bow(document)`](https://radimrehurek.com/gensim/corpora/dictionary.html#gensim.corpora.dictionary.Dictionary.doc2bow)\n",
    "\n",
    "* Convert document (a list of words) into the bag-of-words format = list of (token_id, token_count) 2-tuples. Each word is assumed to be a tokenized and normalized string (either unicode or utf8-encoded). No further preprocessing is done on the words in document; apply tokenization, stemming etc. before calling this method."
   ]
  },
  {
   "cell_type": "code",
   "execution_count": 55,
   "metadata": {},
   "outputs": [],
   "source": [
    "bow_corpus = [dictionary.doc2bow(doc) for doc in processed_docs]"
   ]
  },
  {
   "cell_type": "code",
   "execution_count": 56,
   "metadata": {},
   "outputs": [
    {
     "data": {
      "text/plain": [
       "[(11, 1),\n",
       " (84, 1),\n",
       " (186, 1),\n",
       " (268, 1),\n",
       " (270, 1),\n",
       " (284, 1),\n",
       " (303, 4),\n",
       " (313, 1),\n",
       " (319, 2),\n",
       " (320, 1),\n",
       " (378, 1),\n",
       " (463, 1),\n",
       " (487, 2),\n",
       " (504, 1),\n",
       " (510, 1),\n",
       " (532, 1),\n",
       " (626, 1),\n",
       " (688, 1),\n",
       " (740, 2),\n",
       " (812, 1),\n",
       " (860, 1),\n",
       " (931, 2),\n",
       " (933, 1),\n",
       " (1009, 1),\n",
       " (1124, 1),\n",
       " (1139, 1),\n",
       " (1165, 2),\n",
       " (1214, 1),\n",
       " (1266, 1),\n",
       " (1277, 2),\n",
       " (1395, 1),\n",
       " (1685, 1),\n",
       " (1744, 13),\n",
       " (1745, 2),\n",
       " (1752, 1),\n",
       " (1765, 2),\n",
       " (1802, 1),\n",
       " (1812, 7),\n",
       " (1859, 1),\n",
       " (1961, 1),\n",
       " (2089, 4),\n",
       " (2198, 1),\n",
       " (2202, 2),\n",
       " (2376, 1),\n",
       " (2381, 1),\n",
       " (2401, 2),\n",
       " (2443, 1),\n",
       " (2598, 1)]"
      ]
     },
     "execution_count": 56,
     "metadata": {},
     "output_type": "execute_result"
    }
   ],
   "source": [
    "'''\n",
    "Checking Bag of Words corpus for our sample document --> (token_id, token_count)\n",
    "'''\n",
    "bow_corpus[document_num]"
   ]
  },
  {
   "cell_type": "code",
   "execution_count": 57,
   "metadata": {},
   "outputs": [
    {
     "name": "stdout",
     "output_type": "stream",
     "text": [
      "Word 11 (\"catch\") appears 1 time.\n",
      "Word 84 (\"agreement\") appears 1 time.\n",
      "Word 186 (\"broad\") appears 1 time.\n",
      "Word 268 (\"disrupt\") appears 1 time.\n",
      "Word 270 (\"dwindl\") appears 1 time.\n",
      "Word 284 (\"hesit\") appears 1 time.\n",
      "Word 303 (\"pandem\") appears 4 time.\n",
      "Word 313 (\"shift\") appears 1 time.\n",
      "Word 319 (\"survey\") appears 2 time.\n",
      "Word 320 (\"sustain\") appears 1 time.\n",
      "Word 378 (\"wave\") appears 1 time.\n",
      "Word 463 (\"indic\") appears 1 time.\n",
      "Word 487 (\"percept\") appears 2 time.\n",
      "Word 504 (\"signal\") appears 1 time.\n",
      "Word 510 (\"stress\") appears 1 time.\n",
      "Word 532 (\"annual\") appears 1 time.\n",
      "Word 626 (\"recommend\") appears 1 time.\n",
      "Word 688 (\"victim\") appears 1 time.\n",
      "Word 740 (\"miss\") appears 2 time.\n",
      "Word 812 (\"trust\") appears 1 time.\n",
      "Word 860 (\"india\") appears 1 time.\n",
      "Word 931 (\"african\") appears 2 time.\n",
      "Word 933 (\"amid\") appears 1 time.\n",
      "Word 1009 (\"japan\") appears 1 time.\n",
      "Word 1124 (\"mexico\") appears 1 time.\n",
      "Word 1139 (\"medicin\") appears 1 time.\n",
      "Word 1165 (\"covid\") appears 2 time.\n",
      "Word 1214 (\"korea\") appears 1 time.\n",
      "Word 1266 (\"tropic\") appears 1 time.\n",
      "Word 1277 (\"pictur\") appears 2 time.\n",
      "Word 1395 (\"trend\") appears 1 time.\n",
      "Word 1685 (\"london\") appears 1 time.\n",
      "Word 1744 (\"vaccin\") appears 13 time.\n",
      "Word 1745 (\"worri\") appears 2 time.\n",
      "Word 1752 (\"easili\") appears 1 time.\n",
      "Word 1765 (\"routin\") appears 2 time.\n",
      "Word 1802 (\"stall\") appears 1 time.\n",
      "Word 1812 (\"confid\") appears 7 time.\n",
      "Word 1859 (\"percentag\") appears 1 time.\n",
      "Word 1961 (\"vari\") appears 1 time.\n",
      "Word 2089 (\"childhood\") appears 4 time.\n",
      "Word 2198 (\"outbreak\") appears 1 time.\n",
      "Word 2202 (\"diseas\") appears 2 time.\n",
      "Word 2376 (\"killer\") appears 1 time.\n",
      "Word 2381 (\"coronavirus\") appears 1 time.\n",
      "Word 2401 (\"immun\") appears 2 time.\n",
      "Word 2443 (\"seattl\") appears 1 time.\n",
      "Word 2598 (\"foxnew\") appears 1 time.\n"
     ]
    }
   ],
   "source": [
    "'''\n",
    "Preview BOW for our sample preprocessed document\n",
    "'''\n",
    "# Here document_num is document number 4310 which we have checked in Step 2\n",
    "bow_doc_4310 = bow_corpus[document_num]\n",
    "\n",
    "for i in range(len(bow_doc_4310)):\n",
    "    print(\"Word {} (\\\"{}\\\") appears {} time.\".format(bow_doc_4310[i][0], \n",
    "                                                     dictionary[bow_doc_4310[i][0]], \n",
    "                                                     bow_doc_4310[i][1]))"
   ]
  },
  {
   "cell_type": "markdown",
   "metadata": {},
   "source": [
    "## TF-IDF on our document set ##\n",
    "\n",
    "While performing TF-IDF on the corpus is not necessary for LDA implemention using the gensim model, it is recemmended. TF-IDF expects a bag-of-words (integer values) training corpus during initialization. During transformation, it will take a vector and return another vector of the same dimensionality."
   ]
  },
  {
   "cell_type": "markdown",
   "metadata": {},
   "source": [
    "TF-IDF stands for \"Term Frequency, Inverse Document Frequency\".**\n",
    "\n",
    "* It is a way to score the importance of words (or \"terms\") in a document based on how frequently they appear across multiple documents.\n",
    "* If a word appears frequently in a document, it's important. Give the word a high score. But if a word appears in many documents, it's not a unique identifier. Give the word a low score.\n",
    "* Therefore, common words like \"the\" and \"for\", which appear in many documents, will be scaled down. Words that appear frequently in a single document will be scaled up.\n",
    "\n",
    "In other words:\n",
    "\n",
    "* TF(w) = `(Number of times term w appears in a document) / (Total number of terms in the document)`.\n",
    "* IDF(w) = `log_e(Total number of documents / Number of documents with term w in it)`.\n",
    "\n",
    "For example\n",
    "\n",
    "* Consider a document containing `100` words wherein the word 'tiger' appears 3 times. \n",
    "* The term frequency (i.e., tf) for 'tiger' is then: \n",
    "    - `TF = (3 / 100) = 0.03`. \n",
    "\n",
    "* Now, assume we have `10 million` documents and the word 'tiger' appears in `1000` of these. Then, the inverse document frequency (i.e., idf) is calculated as:\n",
    "    - `IDF = log(10,000,000 / 1,000) = 4`. \n",
    "\n",
    "* Thus, the Tf-idf weight is the product of these quantities: \n",
    "    - `TF-IDF = 0.03 * 4 = 0.12`."
   ]
  },
  {
   "cell_type": "code",
   "execution_count": 58,
   "metadata": {},
   "outputs": [],
   "source": [
    " '''\n",
    "Create tf-idf model object using models.TfidfModel on 'bow_corpus' and save it to 'tfidf'\n",
    "'''\n",
    "from gensim import corpora, models\n",
    "\n",
    "\n",
    "tfidf = models.TfidfModel(bow_corpus)"
   ]
  },
  {
   "cell_type": "code",
   "execution_count": 59,
   "metadata": {},
   "outputs": [],
   "source": [
    "'''\n",
    "Apply transformation to the entire corpus and call it 'corpus_tfidf'\n",
    "'''\n",
    "corpus_tfidf = tfidf[bow_corpus]"
   ]
  },
  {
   "cell_type": "code",
   "execution_count": 60,
   "metadata": {},
   "outputs": [
    {
     "name": "stdout",
     "output_type": "stream",
     "text": [
      "[(0, 0.04073058553936874),\n",
      " (1, 0.039035783503742094),\n",
      " (2, 0.10788788894098837),\n",
      " (3, 0.05037511517775265),\n",
      " (4, 0.12378170952523458),\n",
      " (5, 0.7221927172465836),\n",
      " (6, 0.1605715535817654),\n",
      " (7, 0.03438501860300902),\n",
      " (8, 0.04360248134796318),\n",
      " (9, 0.13080744404388953),\n",
      " (10, 0.04720633076746646),\n",
      " (11, 0.06655582742261955),\n",
      " (12, 0.048186074678061866),\n",
      " (13, 0.03705107248905493),\n",
      " (14, 0.04155404253355692),\n",
      " (15, 0.3529296939616342),\n",
      " (16, 0.03281227677595765),\n",
      " (17, 0.05499632615688211),\n",
      " (18, 0.04628984154589048),\n",
      " (19, 0.06021825860204716),\n",
      " (20, 0.03629953976630424),\n",
      " (21, 0.03629953976630424),\n",
      " (22, 0.049986031819735835),\n",
      " (23, 0.04785192622106832),\n",
      " (24, 0.048186074678061866),\n",
      " (25, 0.05249856362454665),\n",
      " (26, 0.037844611555530865),\n",
      " (27, 0.06021825860204716),\n",
      " (28, 0.04628984154589048),\n",
      " (29, 0.06189085476261729),\n",
      " (30, 0.03644669812159597),\n",
      " (31, 0.04335972921099753),\n",
      " (32, 0.04360248134796318),\n",
      " (33, 0.03339674833118179),\n",
      " (34, 0.03572569788578483),\n",
      " (35, 0.05344562477225768),\n",
      " (36, 0.061029945471893894),\n",
      " (37, 0.11605843620471275),\n",
      " (38, 0.13217274724020317),\n",
      " (39, 0.03976418184037437),\n",
      " (40, 0.03752185552129433),\n",
      " (41, 0.04599703417837108),\n",
      " (42, 0.06826285750677309),\n",
      " (43, 0.048186074678061866),\n",
      " (44, 0.05613298497018498),\n",
      " (45, 0.03976418184037437),\n",
      " (46, 0.043849455472236565),\n",
      " (47, 0.05613298497018498),\n",
      " (48, 0.054460388809614846),\n",
      " (49, 0.03705107248905493),\n",
      " (50, 0.1463815897203527),\n",
      " (51, 0.08923449077064069),\n",
      " (52, 0.0353100393082931),\n",
      " (53, 0.08671945842199506),\n",
      " (54, 0.04073058553936874),\n",
      " (55, 0.03705107248905493),\n",
      " (56, 0.03976418184037437),\n",
      " (57, 0.03615389075407658),\n",
      " (58, 0.05077516006020799),\n",
      " (59, 0.03558578883087258),\n",
      " (60, 0.1535604061427982),\n",
      " (61, 0.04265542020025215),\n",
      " (62, 0.06021825860204716),\n",
      " (63, 0.04113634612091712),\n",
      " (64, 0.039035783503742094),\n",
      " (65, 0.03615389075407658),\n",
      " (66, 0.06021825860204716),\n",
      " (67, 0.043121057135604275),\n",
      " (68, 0.15112534553325796),\n",
      " (69, 0.03375933792366868),\n",
      " (70, 0.0511868020475994),\n",
      " (71, 0.03400631204794206),\n",
      " (72, 0.1135338346665926),\n",
      " (73, 0.08396879664460281),\n",
      " (74, 0.049986031819735835),\n",
      " (75, 0.04785192622106832),\n",
      " (76, 0.08769891094447313),\n",
      " (77, 0.03438501860300902),\n",
      " (78, 0.03868513225092848),\n",
      " (79, 0.04571014251775039),\n",
      " (80, 0.05736860344671461),\n",
      " (81, 0.05736860344671461)]\n"
     ]
    }
   ],
   "source": [
    "'''\n",
    "Preview TF-IDF scores for our first document --> --> (token_id, tfidf score)\n",
    "'''\n",
    "from pprint import pprint\n",
    "for doc in corpus_tfidf:\n",
    "    pprint(doc)\n",
    "    break"
   ]
  },
  {
   "cell_type": "markdown",
   "metadata": {},
   "source": [
    "## Running LDA using Bag of Words ##\n",
    "\n",
    "We are going for 10 topics in the document corpus.\n",
    "\n",
    "\n",
    "Some of the parameters we will be tweaking are:\n",
    "\n",
    "* **num_topics** is the number of requested latent topics to be extracted from the training corpus.\n",
    "* **id2word** is a mapping from word ids (integers) to words (strings). It is used to determine the vocabulary size, as well as for debugging and topic printing.\n",
    "* **workers** is the number of extra processes to use for parallelization. Uses all available cores by default.\n",
    "* **alpha** and **eta** are hyperparameters that affect sparsity of the document-topic (theta) and topic-word (lambda) distributions. We will let these be the default values for now(default value is `1/num_topics`)\n",
    "    - Alpha is the per document topic distribution.\n",
    "        * High alpha: Every document has a mixture of all topics(documents appear similar to each other).\n",
    "        * Low alpha: Every document has a mixture of very few topics\n",
    "\n",
    "    - Eta is the per topic word distribution.\n",
    "        * High eta: Each topic has a mixture of most words(topics appear similar to each other).\n",
    "        * Low eta: Each topic has a mixture of few words.\n",
    "\n"
   ]
  },
  {
   "cell_type": "code",
   "execution_count": 61,
   "metadata": {},
   "outputs": [
    {
     "name": "stderr",
     "output_type": "stream",
     "text": [
      "<frozen importlib._bootstrap>:228: RuntimeWarning: scipy._lib.messagestream.MessageStream size changed, may indicate binary incompatibility. Expected 56 from C header, got 64 from PyObject\n",
      "<frozen importlib._bootstrap>:228: RuntimeWarning: scipy._lib.messagestream.MessageStream size changed, may indicate binary incompatibility. Expected 56 from C header, got 64 from PyObject\n"
     ]
    }
   ],
   "source": [
    "# LDA mono-core -- fallback code in case LdaMulticore throws an error on your machine\n",
    "# lda_model = gensim.models.LdaModel(bow_corpus, \n",
    "#                                    num_topics = 10, \n",
    "#                                    id2word = dictionary,                                    \n",
    "#                                    passes = 50)\n",
    "\n",
    "# LDA multicore \n",
    "\n",
    "#Train your lda model using gensim.models.LdaMulticore and save it to 'lda_model'\n",
    "\n",
    "lda_model = gensim.models.LdaMulticore(bow_corpus, \n",
    "                                       num_topics=5, \n",
    "                                       id2word = dictionary, \n",
    "                                       passes = 2, \n",
    "                                       workers=2)"
   ]
  },
  {
   "cell_type": "code",
   "execution_count": 62,
   "metadata": {},
   "outputs": [
    {
     "name": "stdout",
     "output_type": "stream",
     "text": [
      "Topic: 0.006*\"trump\" + 0.004*\"florida\" + 0.004*\"russian\" + 0.004*\"medic\" + 0.003*\"goal\" + 0.003*\"nasa\" + 0.003*\"station\" + 0.003*\"bird\" + 0.003*\"murder\" + 0.003*\"russia\" \n",
      "Words: 0\n",
      "\n",
      "\n",
      "Topic: 0.007*\"trump\" + 0.006*\"republican\" + 0.005*\"sudan\" + 0.003*\"credit\" + 0.003*\"vote\" + 0.003*\"round\" + 0.003*\"presidenti\" + 0.003*\"rocket\" + 0.002*\"poll\" + 0.002*\"evacu\" \n",
      "Words: 1\n",
      "\n",
      "\n",
      "Topic: 0.004*\"militari\" + 0.004*\"russia\" + 0.004*\"ukrain\" + 0.004*\"fuel\" + 0.004*\"pollut\" + 0.004*\"energi\" + 0.003*\"plastic\" + 0.003*\"chines\" + 0.003*\"taiwan\" + 0.003*\"electr\" \n",
      "Words: 2\n",
      "\n",
      "\n",
      "Topic: 0.008*\"moon\" + 0.005*\"speci\" + 0.004*\"anim\" + 0.004*\"race\" + 0.004*\"plant\" + 0.003*\"abort\" + 0.003*\"solar\" + 0.003*\"egg\" + 0.003*\"bird\" + 0.003*\"australia\" \n",
      "Words: 3\n",
      "\n",
      "\n",
      "Topic: 0.007*\"moon\" + 0.006*\"nasa\" + 0.005*\"flight\" + 0.005*\"spacex\" + 0.005*\"rocket\" + 0.004*\"starship\" + 0.004*\"astronaut\" + 0.003*\"musk\" + 0.003*\"eclips\" + 0.003*\"isra\" \n",
      "Words: 4\n",
      "\n",
      "\n"
     ]
    }
   ],
   "source": [
    "\n",
    "#For each topic, we will explore the words occuring in that topic and its relative weight\n",
    "\n",
    "for idx, topic in lda_model.print_topics(-1):\n",
    "    print(\"Topic: {} \\nWords: {}\".format(topic, idx ))\n",
    "    print(\"\\n\")"
   ]
  },
  {
   "cell_type": "code",
   "execution_count": 63,
   "metadata": {},
   "outputs": [],
   "source": [
    "import pyLDAvis\n",
    "import pyLDAvis.gensim_models\n",
    "import gensim.corpora as corpora\n",
    "import gensim.models.ldamodel as lda"
   ]
  },
  {
   "cell_type": "code",
   "execution_count": 64,
   "metadata": {},
   "outputs": [
    {
     "name": "stderr",
     "output_type": "stream",
     "text": [
      "/Users/keerthanaakannan/opt/anaconda3/lib/python3.9/site-packages/scipy/sparse/linalg/isolve/iterative.py:10: DeprecationWarning: Please use `LinearOperator` from the `scipy.sparse.linalg` namespace, the `scipy.sparse.linalg.interface` namespace is deprecated.\n",
      "  from scipy.sparse.linalg.interface import LinearOperator\n",
      "/Users/keerthanaakannan/opt/anaconda3/lib/python3.9/site-packages/scipy/sparse/linalg/isolve/utils.py:7: DeprecationWarning: Please use `asmatrix` from the `scipy.sparse` namespace, the `scipy.sparse.sputils` namespace is deprecated.\n",
      "  from scipy.sparse.sputils import asmatrix\n",
      "/Users/keerthanaakannan/opt/anaconda3/lib/python3.9/site-packages/scipy/sparse/linalg/isolve/utils.py:9: DeprecationWarning: Please use `aslinearoperator` from the `scipy.sparse.linalg` namespace, the `scipy.sparse.linalg.interface` namespace is deprecated.\n",
      "  from scipy.sparse.linalg.interface import aslinearoperator, LinearOperator, \\\n",
      "/Users/keerthanaakannan/opt/anaconda3/lib/python3.9/site-packages/scipy/sparse/linalg/isolve/utils.py:9: DeprecationWarning: Please use `LinearOperator` from the `scipy.sparse.linalg` namespace, the `scipy.sparse.linalg.interface` namespace is deprecated.\n",
      "  from scipy.sparse.linalg.interface import aslinearoperator, LinearOperator, \\\n",
      "/Users/keerthanaakannan/opt/anaconda3/lib/python3.9/site-packages/scipy/sparse/linalg/isolve/utils.py:9: DeprecationWarning: Please use `IdentityOperator` from the `scipy.sparse.linalg` namespace, the `scipy.sparse.linalg.interface` namespace is deprecated.\n",
      "  from scipy.sparse.linalg.interface import aslinearoperator, LinearOperator, \\\n",
      "/Users/keerthanaakannan/opt/anaconda3/lib/python3.9/site-packages/scipy/sparse/linalg/isolve/iterative.py:10: DeprecationWarning: Please use `LinearOperator` from the `scipy.sparse.linalg` namespace, the `scipy.sparse.linalg.interface` namespace is deprecated.\n",
      "  from scipy.sparse.linalg.interface import LinearOperator\n",
      "/Users/keerthanaakannan/opt/anaconda3/lib/python3.9/site-packages/scipy/sparse/linalg/isolve/lsqr.py:56: DeprecationWarning: Please use `aslinearoperator` from the `scipy.sparse.linalg` namespace, the `scipy.sparse.linalg.interface` namespace is deprecated.\n",
      "  from scipy.sparse.linalg.interface import aslinearoperator\n",
      "/Users/keerthanaakannan/opt/anaconda3/lib/python3.9/site-packages/scipy/sparse/linalg/isolve/utils.py:7: DeprecationWarning: Please use `asmatrix` from the `scipy.sparse` namespace, the `scipy.sparse.sputils` namespace is deprecated.\n",
      "  from scipy.sparse.sputils import asmatrix\n",
      "/Users/keerthanaakannan/opt/anaconda3/lib/python3.9/site-packages/scipy/sparse/linalg/isolve/utils.py:9: DeprecationWarning: Please use `aslinearoperator` from the `scipy.sparse.linalg` namespace, the `scipy.sparse.linalg.interface` namespace is deprecated.\n",
      "  from scipy.sparse.linalg.interface import aslinearoperator, LinearOperator, \\\n",
      "/Users/keerthanaakannan/opt/anaconda3/lib/python3.9/site-packages/scipy/sparse/linalg/isolve/utils.py:9: DeprecationWarning: Please use `LinearOperator` from the `scipy.sparse.linalg` namespace, the `scipy.sparse.linalg.interface` namespace is deprecated.\n",
      "  from scipy.sparse.linalg.interface import aslinearoperator, LinearOperator, \\\n",
      "/Users/keerthanaakannan/opt/anaconda3/lib/python3.9/site-packages/scipy/sparse/linalg/isolve/utils.py:9: DeprecationWarning: Please use `IdentityOperator` from the `scipy.sparse.linalg` namespace, the `scipy.sparse.linalg.interface` namespace is deprecated.\n",
      "  from scipy.sparse.linalg.interface import aslinearoperator, LinearOperator, \\\n",
      "/Users/keerthanaakannan/opt/anaconda3/lib/python3.9/site-packages/scipy/sparse/linalg/isolve/lsmr.py:24: DeprecationWarning: Please use `aslinearoperator` from the `scipy.sparse.linalg` namespace, the `scipy.sparse.linalg.interface` namespace is deprecated.\n",
      "  from scipy.sparse.linalg.interface import aslinearoperator\n",
      "/Users/keerthanaakannan/opt/anaconda3/lib/python3.9/site-packages/scipy/sparse/linalg/dsolve/linsolve.py:7: DeprecationWarning: Please use `is_pydata_spmatrix` from the `scipy.sparse` namespace, the `scipy.sparse.sputils` namespace is deprecated.\n",
      "  from scipy.sparse.sputils import is_pydata_spmatrix\n",
      "/Users/keerthanaakannan/opt/anaconda3/lib/python3.9/site-packages/scipy/sparse/linalg/isolve/lsqr.py:56: DeprecationWarning: Please use `aslinearoperator` from the `scipy.sparse.linalg` namespace, the `scipy.sparse.linalg.interface` namespace is deprecated.\n",
      "  from scipy.sparse.linalg.interface import aslinearoperator\n",
      "/Users/keerthanaakannan/opt/anaconda3/lib/python3.9/site-packages/scipy/sparse/linalg/isolve/lsmr.py:24: DeprecationWarning: Please use `aslinearoperator` from the `scipy.sparse.linalg` namespace, the `scipy.sparse.linalg.interface` namespace is deprecated.\n",
      "  from scipy.sparse.linalg.interface import aslinearoperator\n",
      "/Users/keerthanaakannan/opt/anaconda3/lib/python3.9/site-packages/scipy/sparse/linalg/dsolve/linsolve.py:7: DeprecationWarning: Please use `is_pydata_spmatrix` from the `scipy.sparse` namespace, the `scipy.sparse.sputils` namespace is deprecated.\n",
      "  from scipy.sparse.sputils import is_pydata_spmatrix\n",
      "/Users/keerthanaakannan/opt/anaconda3/lib/python3.9/site-packages/scipy/sparse/linalg/isolve/iterative.py:10: DeprecationWarning: Please use `LinearOperator` from the `scipy.sparse.linalg` namespace, the `scipy.sparse.linalg.interface` namespace is deprecated.\n",
      "  from scipy.sparse.linalg.interface import LinearOperator\n",
      "/Users/keerthanaakannan/opt/anaconda3/lib/python3.9/site-packages/scipy/sparse/linalg/isolve/utils.py:7: DeprecationWarning: Please use `asmatrix` from the `scipy.sparse` namespace, the `scipy.sparse.sputils` namespace is deprecated.\n",
      "  from scipy.sparse.sputils import asmatrix\n",
      "/Users/keerthanaakannan/opt/anaconda3/lib/python3.9/site-packages/scipy/sparse/linalg/isolve/utils.py:9: DeprecationWarning: Please use `aslinearoperator` from the `scipy.sparse.linalg` namespace, the `scipy.sparse.linalg.interface` namespace is deprecated.\n",
      "  from scipy.sparse.linalg.interface import aslinearoperator, LinearOperator, \\\n",
      "/Users/keerthanaakannan/opt/anaconda3/lib/python3.9/site-packages/scipy/sparse/linalg/isolve/utils.py:9: DeprecationWarning: Please use `LinearOperator` from the `scipy.sparse.linalg` namespace, the `scipy.sparse.linalg.interface` namespace is deprecated.\n",
      "  from scipy.sparse.linalg.interface import aslinearoperator, LinearOperator, \\\n",
      "/Users/keerthanaakannan/opt/anaconda3/lib/python3.9/site-packages/scipy/sparse/linalg/isolve/utils.py:9: DeprecationWarning: Please use `IdentityOperator` from the `scipy.sparse.linalg` namespace, the `scipy.sparse.linalg.interface` namespace is deprecated.\n",
      "  from scipy.sparse.linalg.interface import aslinearoperator, LinearOperator, \\\n",
      "/Users/keerthanaakannan/opt/anaconda3/lib/python3.9/site-packages/scipy/sparse/linalg/eigen/arpack/arpack.py:47: DeprecationWarning: Please use `aslinearoperator` from the `scipy.sparse.linalg` namespace, the `scipy.sparse.linalg.interface` namespace is deprecated.\n",
      "  from scipy.sparse.linalg.interface import aslinearoperator, LinearOperator\n",
      "/Users/keerthanaakannan/opt/anaconda3/lib/python3.9/site-packages/scipy/sparse/linalg/eigen/arpack/arpack.py:47: DeprecationWarning: Please use `LinearOperator` from the `scipy.sparse.linalg` namespace, the `scipy.sparse.linalg.interface` namespace is deprecated.\n",
      "  from scipy.sparse.linalg.interface import aslinearoperator, LinearOperator\n",
      "/Users/keerthanaakannan/opt/anaconda3/lib/python3.9/site-packages/scipy/sparse/linalg/eigen/arpack/arpack.py:50: DeprecationWarning: Please use `isdense` from the `scipy.sparse` namespace, the `scipy.sparse.sputils` namespace is deprecated.\n",
      "  from scipy.sparse.sputils import isdense, is_pydata_spmatrix\n",
      "/Users/keerthanaakannan/opt/anaconda3/lib/python3.9/site-packages/scipy/sparse/linalg/eigen/arpack/arpack.py:50: DeprecationWarning: Please use `is_pydata_spmatrix` from the `scipy.sparse` namespace, the `scipy.sparse.sputils` namespace is deprecated.\n",
      "  from scipy.sparse.sputils import isdense, is_pydata_spmatrix\n",
      "/Users/keerthanaakannan/opt/anaconda3/lib/python3.9/site-packages/scipy/sparse/linalg/isolve/lsqr.py:56: DeprecationWarning: Please use `aslinearoperator` from the `scipy.sparse.linalg` namespace, the `scipy.sparse.linalg.interface` namespace is deprecated.\n",
      "  from scipy.sparse.linalg.interface import aslinearoperator\n",
      "/Users/keerthanaakannan/opt/anaconda3/lib/python3.9/site-packages/scipy/sparse/linalg/isolve/lsmr.py:24: DeprecationWarning: Please use `aslinearoperator` from the `scipy.sparse.linalg` namespace, the `scipy.sparse.linalg.interface` namespace is deprecated.\n",
      "  from scipy.sparse.linalg.interface import aslinearoperator\n",
      "/Users/keerthanaakannan/opt/anaconda3/lib/python3.9/site-packages/scipy/sparse/linalg/eigen/arpack/arpack.py:47: DeprecationWarning: Please use `aslinearoperator` from the `scipy.sparse.linalg` namespace, the `scipy.sparse.linalg.interface` namespace is deprecated.\n",
      "  from scipy.sparse.linalg.interface import aslinearoperator, LinearOperator\n",
      "/Users/keerthanaakannan/opt/anaconda3/lib/python3.9/site-packages/scipy/sparse/linalg/eigen/arpack/arpack.py:47: DeprecationWarning: Please use `LinearOperator` from the `scipy.sparse.linalg` namespace, the `scipy.sparse.linalg.interface` namespace is deprecated.\n",
      "  from scipy.sparse.linalg.interface import aslinearoperator, LinearOperator\n",
      "/Users/keerthanaakannan/opt/anaconda3/lib/python3.9/site-packages/scipy/sparse/linalg/eigen/arpack/arpack.py:50: DeprecationWarning: Please use `isdense` from the `scipy.sparse` namespace, the `scipy.sparse.sputils` namespace is deprecated.\n",
      "  from scipy.sparse.sputils import isdense, is_pydata_spmatrix\n",
      "/Users/keerthanaakannan/opt/anaconda3/lib/python3.9/site-packages/scipy/sparse/linalg/eigen/arpack/arpack.py:50: DeprecationWarning: Please use `is_pydata_spmatrix` from the `scipy.sparse` namespace, the `scipy.sparse.sputils` namespace is deprecated.\n",
      "  from scipy.sparse.sputils import isdense, is_pydata_spmatrix\n",
      "/Users/keerthanaakannan/opt/anaconda3/lib/python3.9/site-packages/scipy/sparse/linalg/dsolve/linsolve.py:7: DeprecationWarning: Please use `is_pydata_spmatrix` from the `scipy.sparse` namespace, the `scipy.sparse.sputils` namespace is deprecated.\n",
      "  from scipy.sparse.sputils import is_pydata_spmatrix\n",
      "/Users/keerthanaakannan/opt/anaconda3/lib/python3.9/site-packages/scipy/sparse/linalg/isolve/iterative.py:10: DeprecationWarning: Please use `LinearOperator` from the `scipy.sparse.linalg` namespace, the `scipy.sparse.linalg.interface` namespace is deprecated.\n",
      "  from scipy.sparse.linalg.interface import LinearOperator\n",
      "/Users/keerthanaakannan/opt/anaconda3/lib/python3.9/site-packages/scipy/sparse/linalg/isolve/utils.py:7: DeprecationWarning: Please use `asmatrix` from the `scipy.sparse` namespace, the `scipy.sparse.sputils` namespace is deprecated.\n",
      "  from scipy.sparse.sputils import asmatrix\n",
      "/Users/keerthanaakannan/opt/anaconda3/lib/python3.9/site-packages/scipy/sparse/linalg/isolve/utils.py:9: DeprecationWarning: Please use `aslinearoperator` from the `scipy.sparse.linalg` namespace, the `scipy.sparse.linalg.interface` namespace is deprecated.\n",
      "  from scipy.sparse.linalg.interface import aslinearoperator, LinearOperator, \\\n",
      "/Users/keerthanaakannan/opt/anaconda3/lib/python3.9/site-packages/scipy/sparse/linalg/isolve/utils.py:9: DeprecationWarning: Please use `LinearOperator` from the `scipy.sparse.linalg` namespace, the `scipy.sparse.linalg.interface` namespace is deprecated.\n",
      "  from scipy.sparse.linalg.interface import aslinearoperator, LinearOperator, \\\n",
      "/Users/keerthanaakannan/opt/anaconda3/lib/python3.9/site-packages/scipy/sparse/linalg/isolve/utils.py:9: DeprecationWarning: Please use `IdentityOperator` from the `scipy.sparse.linalg` namespace, the `scipy.sparse.linalg.interface` namespace is deprecated.\n",
      "  from scipy.sparse.linalg.interface import aslinearoperator, LinearOperator, \\\n",
      "/Users/keerthanaakannan/opt/anaconda3/lib/python3.9/site-packages/scipy/sparse/linalg/isolve/lsqr.py:56: DeprecationWarning: Please use `aslinearoperator` from the `scipy.sparse.linalg` namespace, the `scipy.sparse.linalg.interface` namespace is deprecated.\n",
      "  from scipy.sparse.linalg.interface import aslinearoperator\n",
      "/Users/keerthanaakannan/opt/anaconda3/lib/python3.9/site-packages/scipy/sparse/linalg/isolve/lsmr.py:24: DeprecationWarning: Please use `aslinearoperator` from the `scipy.sparse.linalg` namespace, the `scipy.sparse.linalg.interface` namespace is deprecated.\n",
      "  from scipy.sparse.linalg.interface import aslinearoperator\n",
      "/Users/keerthanaakannan/opt/anaconda3/lib/python3.9/site-packages/scipy/sparse/linalg/dsolve/linsolve.py:7: DeprecationWarning: Please use `is_pydata_spmatrix` from the `scipy.sparse` namespace, the `scipy.sparse.sputils` namespace is deprecated.\n",
      "  from scipy.sparse.sputils import is_pydata_spmatrix\n",
      "/Users/keerthanaakannan/opt/anaconda3/lib/python3.9/site-packages/scipy/sparse/linalg/isolve/iterative.py:10: DeprecationWarning: Please use `LinearOperator` from the `scipy.sparse.linalg` namespace, the `scipy.sparse.linalg.interface` namespace is deprecated.\n",
      "  from scipy.sparse.linalg.interface import LinearOperator\n",
      "/Users/keerthanaakannan/opt/anaconda3/lib/python3.9/site-packages/scipy/sparse/linalg/isolve/utils.py:7: DeprecationWarning: Please use `asmatrix` from the `scipy.sparse` namespace, the `scipy.sparse.sputils` namespace is deprecated.\n",
      "  from scipy.sparse.sputils import asmatrix\n",
      "/Users/keerthanaakannan/opt/anaconda3/lib/python3.9/site-packages/scipy/sparse/linalg/isolve/utils.py:9: DeprecationWarning: Please use `aslinearoperator` from the `scipy.sparse.linalg` namespace, the `scipy.sparse.linalg.interface` namespace is deprecated.\n",
      "  from scipy.sparse.linalg.interface import aslinearoperator, LinearOperator, \\\n",
      "/Users/keerthanaakannan/opt/anaconda3/lib/python3.9/site-packages/scipy/sparse/linalg/isolve/utils.py:9: DeprecationWarning: Please use `LinearOperator` from the `scipy.sparse.linalg` namespace, the `scipy.sparse.linalg.interface` namespace is deprecated.\n",
      "  from scipy.sparse.linalg.interface import aslinearoperator, LinearOperator, \\\n",
      "/Users/keerthanaakannan/opt/anaconda3/lib/python3.9/site-packages/scipy/sparse/linalg/isolve/utils.py:9: DeprecationWarning: Please use `IdentityOperator` from the `scipy.sparse.linalg` namespace, the `scipy.sparse.linalg.interface` namespace is deprecated.\n",
      "  from scipy.sparse.linalg.interface import aslinearoperator, LinearOperator, \\\n",
      "/Users/keerthanaakannan/opt/anaconda3/lib/python3.9/site-packages/scipy/sparse/linalg/eigen/arpack/arpack.py:47: DeprecationWarning: Please use `aslinearoperator` from the `scipy.sparse.linalg` namespace, the `scipy.sparse.linalg.interface` namespace is deprecated.\n",
      "  from scipy.sparse.linalg.interface import aslinearoperator, LinearOperator\n",
      "/Users/keerthanaakannan/opt/anaconda3/lib/python3.9/site-packages/scipy/sparse/linalg/eigen/arpack/arpack.py:47: DeprecationWarning: Please use `LinearOperator` from the `scipy.sparse.linalg` namespace, the `scipy.sparse.linalg.interface` namespace is deprecated.\n",
      "  from scipy.sparse.linalg.interface import aslinearoperator, LinearOperator\n",
      "/Users/keerthanaakannan/opt/anaconda3/lib/python3.9/site-packages/scipy/sparse/linalg/eigen/arpack/arpack.py:50: DeprecationWarning: Please use `isdense` from the `scipy.sparse` namespace, the `scipy.sparse.sputils` namespace is deprecated.\n",
      "  from scipy.sparse.sputils import isdense, is_pydata_spmatrix\n",
      "/Users/keerthanaakannan/opt/anaconda3/lib/python3.9/site-packages/scipy/sparse/linalg/eigen/arpack/arpack.py:50: DeprecationWarning: Please use `is_pydata_spmatrix` from the `scipy.sparse` namespace, the `scipy.sparse.sputils` namespace is deprecated.\n",
      "  from scipy.sparse.sputils import isdense, is_pydata_spmatrix\n",
      "/Users/keerthanaakannan/opt/anaconda3/lib/python3.9/site-packages/scipy/sparse/linalg/isolve/lsqr.py:56: DeprecationWarning: Please use `aslinearoperator` from the `scipy.sparse.linalg` namespace, the `scipy.sparse.linalg.interface` namespace is deprecated.\n",
      "  from scipy.sparse.linalg.interface import aslinearoperator\n",
      "/Users/keerthanaakannan/opt/anaconda3/lib/python3.9/site-packages/scipy/sparse/linalg/isolve/lsmr.py:24: DeprecationWarning: Please use `aslinearoperator` from the `scipy.sparse.linalg` namespace, the `scipy.sparse.linalg.interface` namespace is deprecated.\n",
      "  from scipy.sparse.linalg.interface import aslinearoperator\n",
      "/Users/keerthanaakannan/opt/anaconda3/lib/python3.9/site-packages/scipy/sparse/linalg/dsolve/linsolve.py:7: DeprecationWarning: Please use `is_pydata_spmatrix` from the `scipy.sparse` namespace, the `scipy.sparse.sputils` namespace is deprecated.\n",
      "  from scipy.sparse.sputils import is_pydata_spmatrix\n",
      "/Users/keerthanaakannan/opt/anaconda3/lib/python3.9/site-packages/scipy/sparse/linalg/eigen/arpack/arpack.py:47: DeprecationWarning: Please use `aslinearoperator` from the `scipy.sparse.linalg` namespace, the `scipy.sparse.linalg.interface` namespace is deprecated.\n",
      "  from scipy.sparse.linalg.interface import aslinearoperator, LinearOperator\n",
      "/Users/keerthanaakannan/opt/anaconda3/lib/python3.9/site-packages/scipy/sparse/linalg/eigen/arpack/arpack.py:47: DeprecationWarning: Please use `LinearOperator` from the `scipy.sparse.linalg` namespace, the `scipy.sparse.linalg.interface` namespace is deprecated.\n",
      "  from scipy.sparse.linalg.interface import aslinearoperator, LinearOperator\n",
      "/Users/keerthanaakannan/opt/anaconda3/lib/python3.9/site-packages/scipy/sparse/linalg/eigen/arpack/arpack.py:50: DeprecationWarning: Please use `isdense` from the `scipy.sparse` namespace, the `scipy.sparse.sputils` namespace is deprecated.\n",
      "  from scipy.sparse.sputils import isdense, is_pydata_spmatrix\n",
      "/Users/keerthanaakannan/opt/anaconda3/lib/python3.9/site-packages/scipy/sparse/linalg/eigen/arpack/arpack.py:50: DeprecationWarning: Please use `is_pydata_spmatrix` from the `scipy.sparse` namespace, the `scipy.sparse.sputils` namespace is deprecated.\n",
      "  from scipy.sparse.sputils import isdense, is_pydata_spmatrix\n",
      "/Users/keerthanaakannan/opt/anaconda3/lib/python3.9/site-packages/scipy/sparse/linalg/eigen/arpack/arpack.py:47: DeprecationWarning: Please use `aslinearoperator` from the `scipy.sparse.linalg` namespace, the `scipy.sparse.linalg.interface` namespace is deprecated.\n",
      "  from scipy.sparse.linalg.interface import aslinearoperator, LinearOperator\n",
      "/Users/keerthanaakannan/opt/anaconda3/lib/python3.9/site-packages/scipy/sparse/linalg/eigen/arpack/arpack.py:47: DeprecationWarning: Please use `LinearOperator` from the `scipy.sparse.linalg` namespace, the `scipy.sparse.linalg.interface` namespace is deprecated.\n",
      "  from scipy.sparse.linalg.interface import aslinearoperator, LinearOperator\n",
      "/Users/keerthanaakannan/opt/anaconda3/lib/python3.9/site-packages/scipy/sparse/linalg/eigen/arpack/arpack.py:50: DeprecationWarning: Please use `isdense` from the `scipy.sparse` namespace, the `scipy.sparse.sputils` namespace is deprecated.\n",
      "  from scipy.sparse.sputils import isdense, is_pydata_spmatrix\n",
      "/Users/keerthanaakannan/opt/anaconda3/lib/python3.9/site-packages/scipy/sparse/linalg/eigen/arpack/arpack.py:50: DeprecationWarning: Please use `is_pydata_spmatrix` from the `scipy.sparse` namespace, the `scipy.sparse.sputils` namespace is deprecated.\n",
      "  from scipy.sparse.sputils import isdense, is_pydata_spmatrix\n",
      "/Users/keerthanaakannan/opt/anaconda3/lib/python3.9/site-packages/scipy/sparse/linalg/isolve/iterative.py:10: DeprecationWarning: Please use `LinearOperator` from the `scipy.sparse.linalg` namespace, the `scipy.sparse.linalg.interface` namespace is deprecated.\n",
      "  from scipy.sparse.linalg.interface import LinearOperator\n",
      "/Users/keerthanaakannan/opt/anaconda3/lib/python3.9/site-packages/scipy/sparse/linalg/isolve/utils.py:7: DeprecationWarning: Please use `asmatrix` from the `scipy.sparse` namespace, the `scipy.sparse.sputils` namespace is deprecated.\n",
      "  from scipy.sparse.sputils import asmatrix\n",
      "/Users/keerthanaakannan/opt/anaconda3/lib/python3.9/site-packages/scipy/sparse/linalg/isolve/utils.py:9: DeprecationWarning: Please use `aslinearoperator` from the `scipy.sparse.linalg` namespace, the `scipy.sparse.linalg.interface` namespace is deprecated.\n",
      "  from scipy.sparse.linalg.interface import aslinearoperator, LinearOperator, \\\n",
      "/Users/keerthanaakannan/opt/anaconda3/lib/python3.9/site-packages/scipy/sparse/linalg/isolve/utils.py:9: DeprecationWarning: Please use `LinearOperator` from the `scipy.sparse.linalg` namespace, the `scipy.sparse.linalg.interface` namespace is deprecated.\n",
      "  from scipy.sparse.linalg.interface import aslinearoperator, LinearOperator, \\\n",
      "/Users/keerthanaakannan/opt/anaconda3/lib/python3.9/site-packages/scipy/sparse/linalg/isolve/utils.py:9: DeprecationWarning: Please use `IdentityOperator` from the `scipy.sparse.linalg` namespace, the `scipy.sparse.linalg.interface` namespace is deprecated.\n",
      "  from scipy.sparse.linalg.interface import aslinearoperator, LinearOperator, \\\n",
      "/Users/keerthanaakannan/opt/anaconda3/lib/python3.9/site-packages/scipy/sparse/linalg/isolve/iterative.py:10: DeprecationWarning: Please use `LinearOperator` from the `scipy.sparse.linalg` namespace, the `scipy.sparse.linalg.interface` namespace is deprecated.\n",
      "  from scipy.sparse.linalg.interface import LinearOperator\n",
      "/Users/keerthanaakannan/opt/anaconda3/lib/python3.9/site-packages/scipy/sparse/linalg/isolve/utils.py:7: DeprecationWarning: Please use `asmatrix` from the `scipy.sparse` namespace, the `scipy.sparse.sputils` namespace is deprecated.\n",
      "  from scipy.sparse.sputils import asmatrix\n",
      "/Users/keerthanaakannan/opt/anaconda3/lib/python3.9/site-packages/scipy/sparse/linalg/isolve/utils.py:9: DeprecationWarning: Please use `aslinearoperator` from the `scipy.sparse.linalg` namespace, the `scipy.sparse.linalg.interface` namespace is deprecated.\n",
      "  from scipy.sparse.linalg.interface import aslinearoperator, LinearOperator, \\\n",
      "/Users/keerthanaakannan/opt/anaconda3/lib/python3.9/site-packages/scipy/sparse/linalg/isolve/utils.py:9: DeprecationWarning: Please use `LinearOperator` from the `scipy.sparse.linalg` namespace, the `scipy.sparse.linalg.interface` namespace is deprecated.\n",
      "  from scipy.sparse.linalg.interface import aslinearoperator, LinearOperator, \\\n",
      "/Users/keerthanaakannan/opt/anaconda3/lib/python3.9/site-packages/scipy/sparse/linalg/isolve/utils.py:9: DeprecationWarning: Please use `IdentityOperator` from the `scipy.sparse.linalg` namespace, the `scipy.sparse.linalg.interface` namespace is deprecated.\n",
      "  from scipy.sparse.linalg.interface import aslinearoperator, LinearOperator, \\\n",
      "/Users/keerthanaakannan/opt/anaconda3/lib/python3.9/site-packages/scipy/sparse/linalg/isolve/lsqr.py:56: DeprecationWarning: Please use `aslinearoperator` from the `scipy.sparse.linalg` namespace, the `scipy.sparse.linalg.interface` namespace is deprecated.\n",
      "  from scipy.sparse.linalg.interface import aslinearoperator\n",
      "/Users/keerthanaakannan/opt/anaconda3/lib/python3.9/site-packages/scipy/sparse/linalg/isolve/lsmr.py:24: DeprecationWarning: Please use `aslinearoperator` from the `scipy.sparse.linalg` namespace, the `scipy.sparse.linalg.interface` namespace is deprecated.\n",
      "  from scipy.sparse.linalg.interface import aslinearoperator\n",
      "/Users/keerthanaakannan/opt/anaconda3/lib/python3.9/site-packages/scipy/sparse/linalg/dsolve/linsolve.py:7: DeprecationWarning: Please use `is_pydata_spmatrix` from the `scipy.sparse` namespace, the `scipy.sparse.sputils` namespace is deprecated.\n",
      "  from scipy.sparse.sputils import is_pydata_spmatrix\n",
      "/Users/keerthanaakannan/opt/anaconda3/lib/python3.9/site-packages/scipy/sparse/linalg/isolve/lsqr.py:56: DeprecationWarning: Please use `aslinearoperator` from the `scipy.sparse.linalg` namespace, the `scipy.sparse.linalg.interface` namespace is deprecated.\n",
      "  from scipy.sparse.linalg.interface import aslinearoperator\n",
      "/Users/keerthanaakannan/opt/anaconda3/lib/python3.9/site-packages/scipy/sparse/linalg/isolve/lsmr.py:24: DeprecationWarning: Please use `aslinearoperator` from the `scipy.sparse.linalg` namespace, the `scipy.sparse.linalg.interface` namespace is deprecated.\n",
      "  from scipy.sparse.linalg.interface import aslinearoperator\n",
      "/Users/keerthanaakannan/opt/anaconda3/lib/python3.9/site-packages/scipy/sparse/linalg/dsolve/linsolve.py:7: DeprecationWarning: Please use `is_pydata_spmatrix` from the `scipy.sparse` namespace, the `scipy.sparse.sputils` namespace is deprecated.\n",
      "  from scipy.sparse.sputils import is_pydata_spmatrix\n",
      "/Users/keerthanaakannan/opt/anaconda3/lib/python3.9/site-packages/scipy/sparse/linalg/eigen/arpack/arpack.py:47: DeprecationWarning: Please use `aslinearoperator` from the `scipy.sparse.linalg` namespace, the `scipy.sparse.linalg.interface` namespace is deprecated.\n",
      "  from scipy.sparse.linalg.interface import aslinearoperator, LinearOperator\n",
      "/Users/keerthanaakannan/opt/anaconda3/lib/python3.9/site-packages/scipy/sparse/linalg/eigen/arpack/arpack.py:47: DeprecationWarning: Please use `LinearOperator` from the `scipy.sparse.linalg` namespace, the `scipy.sparse.linalg.interface` namespace is deprecated.\n",
      "  from scipy.sparse.linalg.interface import aslinearoperator, LinearOperator\n",
      "/Users/keerthanaakannan/opt/anaconda3/lib/python3.9/site-packages/scipy/sparse/linalg/eigen/arpack/arpack.py:50: DeprecationWarning: Please use `isdense` from the `scipy.sparse` namespace, the `scipy.sparse.sputils` namespace is deprecated.\n",
      "  from scipy.sparse.sputils import isdense, is_pydata_spmatrix\n",
      "/Users/keerthanaakannan/opt/anaconda3/lib/python3.9/site-packages/scipy/sparse/linalg/eigen/arpack/arpack.py:50: DeprecationWarning: Please use `is_pydata_spmatrix` from the `scipy.sparse` namespace, the `scipy.sparse.sputils` namespace is deprecated.\n",
      "  from scipy.sparse.sputils import isdense, is_pydata_spmatrix\n",
      "/Users/keerthanaakannan/opt/anaconda3/lib/python3.9/site-packages/scipy/sparse/linalg/eigen/arpack/arpack.py:47: DeprecationWarning: Please use `aslinearoperator` from the `scipy.sparse.linalg` namespace, the `scipy.sparse.linalg.interface` namespace is deprecated.\n",
      "  from scipy.sparse.linalg.interface import aslinearoperator, LinearOperator\n",
      "/Users/keerthanaakannan/opt/anaconda3/lib/python3.9/site-packages/scipy/sparse/linalg/eigen/arpack/arpack.py:47: DeprecationWarning: Please use `LinearOperator` from the `scipy.sparse.linalg` namespace, the `scipy.sparse.linalg.interface` namespace is deprecated.\n",
      "  from scipy.sparse.linalg.interface import aslinearoperator, LinearOperator\n",
      "/Users/keerthanaakannan/opt/anaconda3/lib/python3.9/site-packages/scipy/sparse/linalg/eigen/arpack/arpack.py:50: DeprecationWarning: Please use `isdense` from the `scipy.sparse` namespace, the `scipy.sparse.sputils` namespace is deprecated.\n",
      "  from scipy.sparse.sputils import isdense, is_pydata_spmatrix\n",
      "/Users/keerthanaakannan/opt/anaconda3/lib/python3.9/site-packages/scipy/sparse/linalg/eigen/arpack/arpack.py:50: DeprecationWarning: Please use `is_pydata_spmatrix` from the `scipy.sparse` namespace, the `scipy.sparse.sputils` namespace is deprecated.\n",
      "  from scipy.sparse.sputils import isdense, is_pydata_spmatrix\n",
      "/Users/keerthanaakannan/opt/anaconda3/lib/python3.9/site-packages/scipy/sparse/linalg/isolve/iterative.py:10: DeprecationWarning: Please use `LinearOperator` from the `scipy.sparse.linalg` namespace, the `scipy.sparse.linalg.interface` namespace is deprecated.\n",
      "  from scipy.sparse.linalg.interface import LinearOperator\n",
      "/Users/keerthanaakannan/opt/anaconda3/lib/python3.9/site-packages/scipy/sparse/linalg/isolve/utils.py:7: DeprecationWarning: Please use `asmatrix` from the `scipy.sparse` namespace, the `scipy.sparse.sputils` namespace is deprecated.\n",
      "  from scipy.sparse.sputils import asmatrix\n",
      "/Users/keerthanaakannan/opt/anaconda3/lib/python3.9/site-packages/scipy/sparse/linalg/isolve/utils.py:9: DeprecationWarning: Please use `aslinearoperator` from the `scipy.sparse.linalg` namespace, the `scipy.sparse.linalg.interface` namespace is deprecated.\n",
      "  from scipy.sparse.linalg.interface import aslinearoperator, LinearOperator, \\\n",
      "/Users/keerthanaakannan/opt/anaconda3/lib/python3.9/site-packages/scipy/sparse/linalg/isolve/utils.py:9: DeprecationWarning: Please use `LinearOperator` from the `scipy.sparse.linalg` namespace, the `scipy.sparse.linalg.interface` namespace is deprecated.\n",
      "  from scipy.sparse.linalg.interface import aslinearoperator, LinearOperator, \\\n",
      "/Users/keerthanaakannan/opt/anaconda3/lib/python3.9/site-packages/scipy/sparse/linalg/isolve/utils.py:9: DeprecationWarning: Please use `IdentityOperator` from the `scipy.sparse.linalg` namespace, the `scipy.sparse.linalg.interface` namespace is deprecated.\n",
      "  from scipy.sparse.linalg.interface import aslinearoperator, LinearOperator, \\\n",
      "/Users/keerthanaakannan/opt/anaconda3/lib/python3.9/site-packages/scipy/sparse/linalg/isolve/lsqr.py:56: DeprecationWarning: Please use `aslinearoperator` from the `scipy.sparse.linalg` namespace, the `scipy.sparse.linalg.interface` namespace is deprecated.\n",
      "  from scipy.sparse.linalg.interface import aslinearoperator\n",
      "/Users/keerthanaakannan/opt/anaconda3/lib/python3.9/site-packages/scipy/sparse/linalg/isolve/lsmr.py:24: DeprecationWarning: Please use `aslinearoperator` from the `scipy.sparse.linalg` namespace, the `scipy.sparse.linalg.interface` namespace is deprecated.\n",
      "  from scipy.sparse.linalg.interface import aslinearoperator\n",
      "/Users/keerthanaakannan/opt/anaconda3/lib/python3.9/site-packages/scipy/sparse/linalg/dsolve/linsolve.py:7: DeprecationWarning: Please use `is_pydata_spmatrix` from the `scipy.sparse` namespace, the `scipy.sparse.sputils` namespace is deprecated.\n",
      "  from scipy.sparse.sputils import is_pydata_spmatrix\n",
      "/Users/keerthanaakannan/opt/anaconda3/lib/python3.9/site-packages/scipy/sparse/linalg/eigen/arpack/arpack.py:47: DeprecationWarning: Please use `aslinearoperator` from the `scipy.sparse.linalg` namespace, the `scipy.sparse.linalg.interface` namespace is deprecated.\n",
      "  from scipy.sparse.linalg.interface import aslinearoperator, LinearOperator\n",
      "/Users/keerthanaakannan/opt/anaconda3/lib/python3.9/site-packages/scipy/sparse/linalg/eigen/arpack/arpack.py:47: DeprecationWarning: Please use `LinearOperator` from the `scipy.sparse.linalg` namespace, the `scipy.sparse.linalg.interface` namespace is deprecated.\n",
      "  from scipy.sparse.linalg.interface import aslinearoperator, LinearOperator\n",
      "/Users/keerthanaakannan/opt/anaconda3/lib/python3.9/site-packages/scipy/sparse/linalg/eigen/arpack/arpack.py:50: DeprecationWarning: Please use `isdense` from the `scipy.sparse` namespace, the `scipy.sparse.sputils` namespace is deprecated.\n",
      "  from scipy.sparse.sputils import isdense, is_pydata_spmatrix\n",
      "/Users/keerthanaakannan/opt/anaconda3/lib/python3.9/site-packages/scipy/sparse/linalg/eigen/arpack/arpack.py:50: DeprecationWarning: Please use `is_pydata_spmatrix` from the `scipy.sparse` namespace, the `scipy.sparse.sputils` namespace is deprecated.\n",
      "  from scipy.sparse.sputils import isdense, is_pydata_spmatrix\n",
      "<frozen importlib._bootstrap>:228: RuntimeWarning: scipy._lib.messagestream.MessageStream size changed, may indicate binary incompatibility. Expected 56 from C header, got 64 from PyObject\n",
      "<frozen importlib._bootstrap>:228: RuntimeWarning: scipy._lib.messagestream.MessageStream size changed, may indicate binary incompatibility. Expected 56 from C header, got 64 from PyObject\n",
      "<frozen importlib._bootstrap>:228: RuntimeWarning: scipy._lib.messagestream.MessageStream size changed, may indicate binary incompatibility. Expected 56 from C header, got 64 from PyObject\n",
      "<frozen importlib._bootstrap>:228: RuntimeWarning: scipy._lib.messagestream.MessageStream size changed, may indicate binary incompatibility. Expected 56 from C header, got 64 from PyObject\n",
      "<frozen importlib._bootstrap>:228: RuntimeWarning: scipy._lib.messagestream.MessageStream size changed, may indicate binary incompatibility. Expected 56 from C header, got 64 from PyObject\n",
      "<frozen importlib._bootstrap>:228: RuntimeWarning: scipy._lib.messagestream.MessageStream size changed, may indicate binary incompatibility. Expected 56 from C header, got 64 from PyObject\n",
      "<frozen importlib._bootstrap>:228: RuntimeWarning: scipy._lib.messagestream.MessageStream size changed, may indicate binary incompatibility. Expected 56 from C header, got 64 from PyObject\n",
      "<frozen importlib._bootstrap>:228: RuntimeWarning: scipy._lib.messagestream.MessageStream size changed, may indicate binary incompatibility. Expected 56 from C header, got 64 from PyObject\n"
     ]
    },
    {
     "data": {
      "text/html": [
       "\n",
       "<link rel=\"stylesheet\" type=\"text/css\" href=\"https://cdn.jsdelivr.net/gh/bmabey/pyLDAvis@3.4.0/pyLDAvis/js/ldavis.v1.0.0.css\">\n",
       "\n",
       "\n",
       "<div id=\"ldavis_el216901406907294996648566204320\" style=\"background-color:white;\"></div>\n",
       "<script type=\"text/javascript\">\n",
       "\n",
       "var ldavis_el216901406907294996648566204320_data = {\"mdsDat\": {\"x\": [0.04140755624424878, -0.04362841077379432, -0.017029559425198185, 0.013391350227924518, 0.0058590637268192206], \"y\": [0.010775614855706437, 0.02557203539988143, -0.042016558479408696, -0.010523044689898918, 0.016191952913719755], \"topics\": [1, 2, 3, 4, 5], \"cluster\": [1, 1, 1, 1, 1], \"Freq\": [22.28251245302351, 22.024333235920757, 21.300092398852886, 18.32327210748546, 16.069789804717395]}, \"tinfo\": {\"Term\": [\"moon\", \"sudan\", \"trump\", \"starship\", \"spacex\", \"speci\", \"flight\", \"nasa\", \"eclips\", \"taiwan\", \"astronaut\", \"rocket\", \"bath\", \"russian\", \"isra\", \"plastic\", \"egg\", \"musk\", \"bird\", \"florida\", \"ukrain\", \"artemi\", \"murder\", \"abort\", \"pollut\", \"plant\", \"russia\", \"republican\", \"israel\", \"fuel\", \"hay\", \"sudan\", \"sudanes\", \"madrid\", \"nomin\", \"elector\", \"paulina\", \"climb\", \"poll\", \"card\", \"appl\", \"candidaci\", \"tenni\", \"coup\", \"jet\", \"martian\", \"kennedi\", \"paramilitari\", \"quarterback\", \"clash\", \"aaron\", \"primari\", \"tournament\", \"dive\", \"draft\", \"credit\", \"reelect\", \"cloud\", \"curios\", \"tax\", \"citizen\", \"republican\", \"presidenti\", \"trump\", \"voter\", \"mar\", \"seal\", \"evacu\", \"round\", \"green\", \"player\", \"pick\", \"vote\", \"match\", \"senat\", \"colleg\", \"incom\", \"legal\", \"rocket\", \"justic\", \"militari\", \"titl\", \"orbit\", \"black\", \"race\", \"taiwan\", \"derail\", \"spill\", \"plug\", \"plastic\", \"emiss\", \"laptop\", \"cleanup\", \"nuclear\", \"missil\", \"sovereignti\", \"grid\", \"auto\", \"itali\", \"teacher\", \"electr\", \"blinken\", \"hazard\", \"ingest\", \"contamin\", \"bottl\", \"brazil\", \"antoni\", \"tide\", \"fuel\", \"broker\", \"renew\", \"greenhous\", \"coastal\", \"motor\", \"chemic\", \"pacif\", \"car\", \"territori\", \"pollut\", \"energi\", \"environment\", \"ukrain\", \"coast\", \"diplomat\", \"russia\", \"fish\", \"letter\", \"beij\", \"militari\", \"sever\", \"foreign\", \"peac\", \"contain\", \"chines\", \"propos\", \"island\", \"russian\", \"vehicl\", \"clean\", \"black\", \"plant\", \"minist\", \"book\", \"egg\", \"juic\", \"nest\", \"lewi\", \"formula\", \"insect\", \"specimen\", \"jupit\", \"dog\", \"hamilton\", \"asteroid\", \"prix\", \"flower\", \"speci\", \"reproduct\", \"museum\", \"meteor\", \"nois\", \"tennesse\", \"male\", \"radiat\", \"saturn\", \"gestur\", \"extinct\", \"outer\", \"femal\", \"cell\", \"vega\", \"characterist\", \"biologist\", \"creatur\", \"song\", \"moon\", \"abort\", \"anim\", \"plant\", \"race\", \"fossil\", \"object\", \"solar\", \"music\", \"popul\", \"bird\", \"australia\", \"discov\", \"occur\", \"telescop\", \"diseas\", \"conserv\", \"astronom\", \"orbit\", \"detect\", \"parent\", \"book\", \"black\", \"pollut\", \"student\", \"nasa\", \"materi\", \"vote\", \"republican\", \"educ\", \"starship\", \"bankruptci\", \"bath\", \"artemi\", \"isra\", \"diamond\", \"jerusalem\", \"spacex\", \"musk\", \"booster\", \"israel\", \"liftoff\", \"princ\", \"disney\", \"uncrew\", \"takeoff\", \"flight\", \"tall\", \"investor\", \"elon\", \"error\", \"mosqu\", \"spaceflight\", \"atop\", \"beer\", \"propel\", \"eclips\", \"lunar\", \"mistak\", \"eleph\", \"astronaut\", \"rocket\", \"retail\", \"nasa\", \"spacecraft\", \"moon\", \"blue\", \"journalist\", \"design\", \"custom\", \"prime\", \"minist\", \"crew\", \"market\", \"vehicl\", \"worker\", \"engin\", \"store\", \"orbit\", \"beij\", \"price\", \"facil\", \"killer\", \"guardian\", \"anthoni\", \"physician\", \"murder\", \"smith\", \"cruis\", \"idaho\", \"dmitri\", \"newspap\", \"austin\", \"relianc\", \"heal\", \"mask\", \"pregnanc\", \"ship\", \"juri\", \"capsul\", \"cloth\", \"chatgpt\", \"dragon\", \"sheet\", \"wed\", \"donat\", \"trauma\", \"drought\", \"nonprofit\", \"infrar\", \"manchest\", \"edward\", \"goal\", \"patient\", \"florida\", \"lake\", \"brand\", \"leagu\", \"station\", \"bird\", \"desanti\", \"russian\", \"strike\", \"medic\", \"babi\", \"trump\", \"arrest\", \"airport\", \"donald\", \"drug\", \"river\", \"west\", \"hospit\", \"heat\", \"parent\", \"russia\", \"nasa\", \"ukrain\", \"crew\", \"pandem\", \"astronaut\", \"texa\", \"chines\"], \"Freq\": [587.0, 251.0, 608.0, 155.0, 226.0, 330.0, 292.0, 517.0, 184.0, 165.0, 245.0, 331.0, 118.0, 321.0, 127.0, 200.0, 136.0, 148.0, 246.0, 269.0, 326.0, 113.0, 152.0, 229.0, 294.0, 311.0, 382.0, 511.0, 132.0, 268.0, 41.953978986072634, 199.5573824685742, 52.71458652243709, 32.79990078494934, 76.27650241295517, 42.210148985111836, 18.570785390457683, 74.023300261549, 101.30431981309883, 71.86260735122089, 94.18812996763029, 15.36422699948898, 43.62949386484167, 22.145657168902154, 76.8548880822297, 29.547276529289537, 70.30791037182556, 21.58190951563579, 44.100972940736085, 39.515173209381665, 43.48062212756707, 88.1516235724099, 56.050378964149765, 52.88824190254693, 45.74705606391422, 134.71806877225546, 42.35790706288356, 76.35596390604401, 20.553711582362876, 36.47907786524443, 93.17432230831513, 261.12248059967624, 112.387176051972, 272.8964852513866, 85.35965088531675, 88.71794774300072, 70.37164378388435, 98.55209910758299, 121.18359495351201, 95.38094423534456, 79.66026243452698, 79.38684015098556, 124.81763579166713, 70.50606626099872, 88.228192382129, 78.63027368014669, 82.01107495380197, 93.35897271656779, 104.82537140067379, 83.70065686213914, 97.064070693682, 77.00815783076143, 78.91389349837337, 79.81129542626056, 78.22709590783134, 129.6004487103419, 64.20097468560938, 58.72294613086071, 16.428578386367043, 136.76908447393797, 81.55450406482343, 35.84352630237748, 23.021293743269336, 80.28236601881633, 70.00612365260787, 29.50780131040864, 20.370162700953756, 19.705805183064772, 33.3411932095813, 86.51451967143174, 126.79904349284638, 45.61814812197483, 54.61045662955209, 20.79732597005397, 32.75106209030844, 46.18137135551083, 66.12932185699684, 16.235332751437795, 14.648746979183148, 155.84512899167973, 15.925307871896779, 41.093710037520864, 14.19376047115213, 47.104434505273765, 22.49740387780735, 117.80315286423499, 55.927842274715594, 78.16433900876343, 53.095252081654685, 154.98871288287606, 148.9052825522585, 123.10621253050265, 163.3649432147835, 87.2730617857299, 64.14810575081525, 178.48132606689944, 95.91893068141752, 107.09915020875395, 107.60462106905474, 178.85996745433548, 90.31518740240718, 114.9674376437094, 89.30341545062839, 103.71583689201574, 135.73231230244178, 90.83273859275798, 106.43976941370796, 125.85248666645722, 123.31235240188875, 89.97719935733245, 111.61687648048901, 101.76081971011635, 94.61609273873509, 88.02807774963507, 106.61104203323019, 52.375736945758796, 47.09551954166988, 24.346672996484422, 32.58707276493291, 40.00888977492625, 27.529833118184467, 83.83297875510533, 50.65301877222834, 27.897676612494063, 81.17910521431382, 18.304689162447115, 37.84282335422126, 208.68379665830702, 41.92331428367237, 59.4863418453684, 48.466554317502656, 28.932288173975472, 64.99271489599893, 85.11001657540447, 21.78669491724923, 16.350013270004606, 26.538408371765875, 38.918713643991765, 27.98664623301751, 89.03307004722842, 71.26129869465638, 32.74923984190344, 10.770242030394055, 11.030901118382873, 33.371867050625575, 39.605985750005026, 306.64035251728797, 123.13155503574374, 167.2537385935927, 148.8604587214708, 153.46856496433716, 66.45623098397063, 86.53133823386942, 107.38941513329073, 63.17189038856403, 92.79444586859472, 99.42308519036833, 97.48111296075437, 78.73301014390289, 85.5579252852935, 81.19485707959473, 68.64620487489005, 92.76860775738939, 66.2501170148182, 90.55967479150559, 73.51935474556568, 92.79639455295937, 83.2143616861984, 94.85412404684551, 82.71947705275974, 79.89571612645582, 90.5338908104215, 74.19980645630268, 78.03432560399482, 80.98358721639417, 74.26404086684106, 130.04234031474073, 46.24581124939892, 91.66198762699423, 84.64080866121552, 92.81054687131325, 39.065441727114724, 50.850940579739294, 158.28980120369025, 98.08909680295116, 50.92606560835537, 85.78788558317237, 24.724811045061237, 34.561932967507715, 56.95002966690621, 10.856235038235187, 11.138696996939078, 170.86337169560255, 25.81744754403414, 36.39015641700046, 35.001441547887, 25.71461822090337, 16.64439245834599, 12.096919453234692, 15.438952973804271, 37.5101363309601, 14.384207855160852, 96.73855367487573, 72.56094464610194, 35.74790338955852, 41.16431318130198, 122.25705133424577, 150.0776732305449, 44.795987446884325, 215.17524895679182, 82.05629813387067, 220.47327086123943, 65.22207528296794, 49.829201386310295, 83.16637132272407, 68.30116150231866, 62.23609986225579, 92.23567742454891, 68.52181023047814, 80.00290138063134, 90.141481882525, 66.67430882942729, 72.98743440049947, 70.20052866434483, 71.05413680199504, 63.424247202749456, 62.34604782510744, 61.7236703346785, 29.608091042809402, 18.142481667778156, 26.547351967410375, 24.57498775283479, 89.41803485794757, 80.17648978412616, 38.45239852046553, 35.0138336565562, 8.20402241073366, 47.50861255970164, 62.59936340153076, 16.36232804058845, 14.187954597815176, 53.542512965374684, 20.13929781748715, 85.53909013180669, 14.343462609358319, 20.952660725891526, 23.888943365132384, 34.718031603687585, 20.239089619006574, 22.85083535300596, 21.56111914043158, 25.858062636054566, 8.462680323586465, 43.05813915793514, 29.49140919897027, 22.884016475838354, 17.18901614760311, 17.272530481378183, 101.1980685529386, 54.646454026796626, 117.96138961215854, 75.73116541198483, 68.2971101057789, 69.7444060230784, 92.95762007571913, 90.89727994254456, 68.16551547422166, 111.33311490239076, 70.7853199670792, 107.3416878714441, 58.45394873510509, 171.25717455453568, 69.27991114172987, 37.266651527695366, 49.876856496800436, 62.84706133427262, 66.33367246404325, 62.890969318558106, 74.35171553209935, 54.596450925486224, 81.55288359751897, 87.92237277473075, 100.5501007798834, 76.54872105303839, 57.88944765113577, 57.88206953069468, 60.782998108956626, 58.89888887473105, 59.387954802935965], \"Total\": [587.0, 251.0, 608.0, 155.0, 226.0, 330.0, 292.0, 517.0, 184.0, 165.0, 245.0, 331.0, 118.0, 321.0, 127.0, 200.0, 136.0, 148.0, 246.0, 269.0, 326.0, 113.0, 152.0, 229.0, 294.0, 311.0, 382.0, 511.0, 132.0, 268.0, 51.130081575812426, 251.25276795128184, 70.1170772149299, 45.78315611592991, 106.83707589988985, 59.94928458779588, 26.695146098673987, 106.89937379379671, 151.4075719530879, 107.70550444065991, 141.32992915817388, 24.056513938988928, 68.34470062047545, 34.92590489385327, 121.44924717655411, 46.818954610613766, 111.77091901722014, 34.368704514782166, 70.27367666235835, 63.08368467336725, 70.21953149390939, 143.75221652064832, 92.14098860875262, 87.37245303789612, 76.05878621229542, 225.1344018700976, 70.9207918504154, 128.26952647785296, 34.56601776958109, 62.019591068162434, 162.07726304946718, 511.2255363191451, 217.28297041087012, 608.5638496665406, 162.5655307006103, 171.84859572972474, 132.46493733456447, 202.3537145119821, 270.67830488624617, 207.9652691936849, 166.38063132853515, 165.706929343618, 328.81677773350225, 140.72966600899576, 202.38596637454054, 172.3935532985066, 188.8340908284493, 253.1049904638154, 331.6698195419875, 245.1015832176452, 420.18706965950264, 208.2934786209388, 285.1134155715759, 384.79307303443244, 326.5730916767561, 165.03699137181044, 89.93031581053935, 84.07383759303431, 23.7944928966137, 200.77844960423369, 121.19679377904849, 53.54368762339262, 34.629700417165374, 121.72596971788346, 106.98114150051951, 46.109697929682035, 31.860716334546282, 31.086711964009275, 52.748035165309425, 138.58335517253212, 203.1435058989495, 74.04364039054164, 89.643879726573, 34.27264872190767, 55.03431803142995, 77.9558432497325, 112.19862268144239, 27.625515723735205, 25.198050121200865, 268.11296098011843, 27.446899976825456, 71.50459068816156, 24.697800489931396, 82.3021189720083, 39.324597253839514, 207.85559128709863, 99.68255167105437, 141.31140046882598, 95.38306114319582, 294.08905033361475, 289.43541956684385, 235.62659549889926, 326.46576482262446, 166.93622978273854, 118.064964632435, 382.0125888224501, 188.71267528173144, 222.4082290015813, 223.74792809958143, 420.18706965950264, 183.1399020192158, 249.85579194589948, 182.00871504020978, 221.94280985445062, 317.79182849889753, 189.24465703921172, 242.4373939840043, 321.0797824410916, 321.90644570360456, 213.83076849705904, 384.79307303443244, 311.11207492563955, 302.36140657077584, 257.47131705336994, 136.26494870644825, 69.02709634543662, 62.15789064272991, 32.61911366400468, 44.11393361088749, 54.210551959586184, 37.372320842969216, 117.57214805370371, 71.82206692175691, 40.27259889514081, 117.6578687093456, 27.66886891019655, 58.21711643047714, 330.131170237874, 67.35016518689622, 95.67541378393393, 78.23304924768446, 47.574155565885306, 107.87637610806766, 141.29360760005332, 36.184280926735426, 27.21589838324708, 44.89744300439109, 66.72706654193635, 48.991901374218564, 155.8732741259014, 124.91015260627694, 57.97251430286381, 19.07868858015743, 19.58558788181494, 59.302547103532945, 70.82735269697737, 587.0551915034405, 229.707090129864, 341.6113084958628, 311.11207492563955, 326.5730916767561, 135.08494396840553, 189.4615657564972, 250.57100242600995, 128.88986671390717, 220.00348822246306, 246.62093104128968, 241.15285222538105, 181.16019655104202, 209.9947320519051, 193.38013806569103, 150.84887483769, 264.5624689661417, 143.9044126325865, 285.1134155715759, 181.20695459791102, 311.9679043315895, 257.47131705336994, 384.79307303443244, 294.08905033361475, 284.0044300271895, 517.3062342019391, 220.22232177240045, 328.81677773350225, 511.2255363191451, 258.0113949909069, 155.8923305369396, 59.173507669217635, 118.36204887537946, 113.40512611599206, 127.13172977523307, 54.653916837322406, 72.12237501441393, 226.38816677670604, 148.50295314446936, 77.20497971295791, 132.00987726199014, 38.08056041147392, 53.59684625337747, 90.77107243647393, 17.771202063677734, 18.757970644408285, 292.7581533327502, 44.55903702554996, 63.10582637044413, 63.410329349401444, 47.072565113473416, 30.699199276188068, 22.336860059569972, 28.655733259496174, 70.22680196064644, 27.34531852294445, 184.3927338549792, 138.52235551257345, 70.09542494667771, 82.03310455981013, 245.70211942603848, 331.6698195419875, 91.23609497126803, 517.3062342019391, 181.22427119231813, 587.0551915034405, 154.22444636576333, 110.98393152847089, 236.29533606807573, 180.49739827953954, 159.7050366883172, 302.36140657077584, 192.85843485047002, 258.24107489463006, 321.90644570360456, 192.12388653304652, 244.1420521936875, 232.76853625824927, 285.1134155715759, 223.74792809958143, 208.88019296773209, 224.90430322530133, 46.477421079803555, 29.53727394673114, 43.541896770774834, 41.26963807357596, 152.53585441518334, 138.54587673924084, 67.68056635094636, 62.9555620703926, 14.817794386319399, 88.05411806752036, 118.96593579443544, 31.817175059166097, 27.908174947419454, 106.02015522533351, 39.970360364501786, 171.34174202018676, 28.932864155211107, 42.43487916924493, 49.279688730492566, 71.68643527547931, 41.93691315006551, 47.450878664701435, 44.88871960757667, 54.32296980767412, 17.843286346464915, 91.36919228728561, 63.109748557628976, 49.04377206330055, 37.769585161462714, 38.65733354064765, 226.84687742077259, 122.32901252044235, 269.8764963389593, 181.12228466830246, 161.85335317246592, 166.39225275514704, 249.47652510521175, 246.62093104128968, 175.80459131401201, 321.0797824410916, 191.08075252537213, 320.02036268119423, 150.93320982648166, 608.5638496665406, 192.79019822423624, 87.00781285047188, 130.4821274736996, 185.5360727293799, 206.9321248061338, 191.34215265332642, 253.3931752097594, 152.37314651948623, 311.9679043315895, 382.0125888224501, 517.3062342019391, 326.46576482262446, 192.85843485047002, 195.69659128588808, 245.70211942603848, 239.86218065104308, 317.79182849889753], \"Category\": [\"Default\", \"Default\", \"Default\", \"Default\", \"Default\", \"Default\", \"Default\", \"Default\", \"Default\", \"Default\", \"Default\", \"Default\", \"Default\", \"Default\", \"Default\", \"Default\", \"Default\", \"Default\", \"Default\", \"Default\", \"Default\", \"Default\", \"Default\", \"Default\", \"Default\", \"Default\", \"Default\", \"Default\", \"Default\", \"Default\", \"Topic1\", \"Topic1\", \"Topic1\", \"Topic1\", \"Topic1\", \"Topic1\", \"Topic1\", \"Topic1\", \"Topic1\", \"Topic1\", \"Topic1\", \"Topic1\", \"Topic1\", \"Topic1\", \"Topic1\", \"Topic1\", \"Topic1\", \"Topic1\", \"Topic1\", \"Topic1\", \"Topic1\", \"Topic1\", \"Topic1\", \"Topic1\", \"Topic1\", \"Topic1\", \"Topic1\", \"Topic1\", \"Topic1\", \"Topic1\", \"Topic1\", \"Topic1\", \"Topic1\", \"Topic1\", \"Topic1\", \"Topic1\", \"Topic1\", \"Topic1\", \"Topic1\", \"Topic1\", \"Topic1\", \"Topic1\", \"Topic1\", \"Topic1\", \"Topic1\", \"Topic1\", \"Topic1\", \"Topic1\", \"Topic1\", \"Topic1\", \"Topic1\", \"Topic1\", \"Topic1\", \"Topic1\", \"Topic1\", \"Topic2\", \"Topic2\", \"Topic2\", \"Topic2\", \"Topic2\", \"Topic2\", \"Topic2\", \"Topic2\", \"Topic2\", \"Topic2\", \"Topic2\", \"Topic2\", \"Topic2\", \"Topic2\", \"Topic2\", \"Topic2\", \"Topic2\", \"Topic2\", \"Topic2\", \"Topic2\", \"Topic2\", \"Topic2\", \"Topic2\", \"Topic2\", \"Topic2\", \"Topic2\", \"Topic2\", \"Topic2\", \"Topic2\", \"Topic2\", \"Topic2\", \"Topic2\", \"Topic2\", \"Topic2\", \"Topic2\", \"Topic2\", \"Topic2\", \"Topic2\", \"Topic2\", \"Topic2\", \"Topic2\", \"Topic2\", \"Topic2\", \"Topic2\", \"Topic2\", \"Topic2\", \"Topic2\", \"Topic2\", \"Topic2\", \"Topic2\", \"Topic2\", \"Topic2\", \"Topic2\", \"Topic2\", \"Topic2\", \"Topic2\", \"Topic2\", \"Topic2\", \"Topic2\", \"Topic3\", \"Topic3\", \"Topic3\", \"Topic3\", \"Topic3\", \"Topic3\", \"Topic3\", \"Topic3\", \"Topic3\", \"Topic3\", \"Topic3\", \"Topic3\", \"Topic3\", \"Topic3\", \"Topic3\", \"Topic3\", \"Topic3\", \"Topic3\", \"Topic3\", \"Topic3\", \"Topic3\", \"Topic3\", \"Topic3\", \"Topic3\", \"Topic3\", \"Topic3\", \"Topic3\", \"Topic3\", \"Topic3\", \"Topic3\", \"Topic3\", \"Topic3\", \"Topic3\", \"Topic3\", \"Topic3\", \"Topic3\", \"Topic3\", \"Topic3\", \"Topic3\", \"Topic3\", \"Topic3\", \"Topic3\", \"Topic3\", \"Topic3\", \"Topic3\", \"Topic3\", \"Topic3\", \"Topic3\", \"Topic3\", \"Topic3\", \"Topic3\", \"Topic3\", \"Topic3\", \"Topic3\", \"Topic3\", \"Topic3\", \"Topic3\", \"Topic3\", \"Topic3\", \"Topic3\", \"Topic3\", \"Topic3\", \"Topic4\", \"Topic4\", \"Topic4\", \"Topic4\", \"Topic4\", \"Topic4\", \"Topic4\", \"Topic4\", \"Topic4\", \"Topic4\", \"Topic4\", \"Topic4\", \"Topic4\", \"Topic4\", \"Topic4\", \"Topic4\", \"Topic4\", \"Topic4\", \"Topic4\", \"Topic4\", \"Topic4\", \"Topic4\", \"Topic4\", \"Topic4\", \"Topic4\", \"Topic4\", \"Topic4\", \"Topic4\", \"Topic4\", \"Topic4\", \"Topic4\", \"Topic4\", \"Topic4\", \"Topic4\", \"Topic4\", \"Topic4\", \"Topic4\", \"Topic4\", \"Topic4\", \"Topic4\", \"Topic4\", \"Topic4\", \"Topic4\", \"Topic4\", \"Topic4\", \"Topic4\", \"Topic4\", \"Topic4\", \"Topic4\", \"Topic4\", \"Topic4\", \"Topic4\", \"Topic5\", \"Topic5\", \"Topic5\", \"Topic5\", \"Topic5\", \"Topic5\", \"Topic5\", \"Topic5\", \"Topic5\", \"Topic5\", \"Topic5\", \"Topic5\", \"Topic5\", \"Topic5\", \"Topic5\", \"Topic5\", \"Topic5\", \"Topic5\", \"Topic5\", \"Topic5\", \"Topic5\", \"Topic5\", \"Topic5\", \"Topic5\", \"Topic5\", \"Topic5\", \"Topic5\", \"Topic5\", \"Topic5\", \"Topic5\", \"Topic5\", \"Topic5\", \"Topic5\", \"Topic5\", \"Topic5\", \"Topic5\", \"Topic5\", \"Topic5\", \"Topic5\", \"Topic5\", \"Topic5\", \"Topic5\", \"Topic5\", \"Topic5\", \"Topic5\", \"Topic5\", \"Topic5\", \"Topic5\", \"Topic5\", \"Topic5\", \"Topic5\", \"Topic5\", \"Topic5\", \"Topic5\", \"Topic5\", \"Topic5\", \"Topic5\", \"Topic5\", \"Topic5\", \"Topic5\", \"Topic5\"], \"logprob\": [30.0, 29.0, 28.0, 27.0, 26.0, 25.0, 24.0, 23.0, 22.0, 21.0, 20.0, 19.0, 18.0, 17.0, 16.0, 15.0, 14.0, 13.0, 12.0, 11.0, 10.0, 9.0, 8.0, 7.0, 6.0, 5.0, 4.0, 3.0, 2.0, 1.0, -6.8733, -5.3138, -6.645, -7.1195, -6.2756, -6.8673, -7.6883, -6.3055, -5.9918, -6.3352, -6.0646, -7.8779, -6.8342, -7.5123, -6.268, -7.2239, -6.357, -7.5381, -6.8234, -6.9332, -6.8376, -6.1309, -6.5837, -6.6417, -6.7868, -5.7067, -6.8638, -6.2745, -7.5869, -7.0132, -6.0754, -5.0449, -5.888, -5.0008, -6.163, -6.1245, -6.3561, -6.0193, -5.8126, -6.052, -6.2322, -6.2356, -5.7831, -6.3542, -6.13, -6.2452, -6.2031, -6.0735, -5.9576, -6.1827, -6.0346, -6.266, -6.2416, -6.2303, -6.2503, -5.7338, -6.4362, -6.5254, -7.7992, -5.68, -6.197, -7.0191, -7.4618, -6.2127, -6.3497, -7.2136, -7.5842, -7.6174, -7.0915, -6.138, -5.7557, -6.778, -6.598, -7.5634, -7.1093, -6.7657, -6.4067, -7.8111, -7.9139, -5.5494, -7.8304, -6.8824, -7.9455, -6.7459, -7.4849, -5.8293, -6.5742, -6.2395, -6.6262, -5.5549, -5.595, -5.7852, -5.5023, -6.1292, -6.4371, -5.4138, -6.0348, -5.9245, -5.9198, -5.4117, -6.095, -5.8536, -6.1062, -5.9566, -5.6876, -6.0892, -5.9307, -5.7632, -5.7835, -6.0987, -5.8832, -5.9756, -6.0484, -6.1206, -5.8956, -6.6064, -6.7127, -7.3724, -7.0809, -6.8757, -7.2496, -6.136, -6.6398, -7.2363, -6.1682, -7.6577, -6.9314, -5.224, -6.829, -6.4791, -6.684, -7.1999, -6.3906, -6.1209, -7.4835, -7.7706, -7.2862, -6.9034, -7.2331, -6.0758, -6.2985, -7.076, -8.188, -8.1641, -7.0571, -6.8859, -4.8392, -5.7516, -5.4453, -5.5618, -5.5313, -6.3683, -6.1043, -5.8884, -6.419, -6.0344, -5.9654, -5.9852, -6.1988, -6.1156, -6.168, -6.3359, -6.0347, -6.3714, -6.0588, -6.2673, -6.0344, -6.1434, -6.0125, -6.1494, -6.1841, -6.0591, -6.2581, -6.2077, -6.1706, -6.2572, -5.5464, -6.5803, -5.8962, -5.9759, -5.8837, -6.7491, -6.4854, -5.3499, -5.8284, -6.4839, -5.9624, -7.2065, -6.8715, -6.3721, -8.0296, -8.0039, -5.2734, -7.1632, -6.82, -6.8589, -7.1672, -7.6022, -7.9213, -7.6774, -6.7897, -7.7482, -5.8423, -6.1299, -6.8378, -6.6967, -5.6082, -5.4031, -6.6122, -5.0428, -6.0069, -5.0185, -6.2365, -6.5057, -5.9934, -6.1904, -6.2834, -5.8899, -6.1871, -6.0322, -5.9129, -6.2145, -6.124, -6.1629, -6.1508, -6.2644, -6.2816, -6.2916, -6.895, -7.3848, -7.0041, -7.0813, -5.7897, -5.8988, -6.6336, -6.7273, -8.1784, -6.4221, -6.1463, -7.4881, -7.6307, -6.3026, -7.2804, -5.8341, -7.6198, -7.2408, -7.1096, -6.7358, -7.2754, -7.1541, -7.2122, -7.0304, -8.1474, -6.5205, -6.899, -7.1526, -7.4388, -7.4339, -5.666, -6.2822, -5.5127, -5.9559, -6.0592, -6.0382, -5.7509, -5.7733, -6.0611, -5.5705, -6.0234, -5.607, -6.2148, -5.1399, -6.0449, -6.665, -6.3735, -6.1424, -6.0884, -6.1417, -5.9743, -6.2831, -5.8818, -5.8066, -5.6724, -5.9451, -6.2245, -6.2247, -6.1758, -6.2072, -6.199], \"loglift\": [30.0, 29.0, 28.0, 27.0, 26.0, 25.0, 24.0, 23.0, 22.0, 21.0, 20.0, 19.0, 18.0, 17.0, 16.0, 15.0, 14.0, 13.0, 12.0, 11.0, 10.0, 9.0, 8.0, 7.0, 6.0, 5.0, 4.0, 3.0, 2.0, 1.0, 1.3036, 1.271, 1.2161, 1.1679, 1.1644, 1.1505, 1.1385, 1.1339, 1.0995, 1.0967, 1.0956, 1.053, 1.0525, 1.0458, 1.0438, 1.0411, 1.0378, 1.0361, 1.0355, 1.0336, 1.0221, 1.0123, 1.0043, 0.9994, 0.993, 0.9879, 0.986, 0.9826, 0.9815, 0.9707, 0.9478, 0.8295, 0.8421, 0.6994, 0.8572, 0.8402, 0.8688, 0.7819, 0.6977, 0.7219, 0.7649, 0.7655, 0.5327, 0.8102, 0.6711, 0.7163, 0.6674, 0.504, 0.3495, 0.4269, 0.036, 0.5063, 0.2168, -0.0717, 0.0723, 1.2713, 1.176, 1.1542, 1.1426, 1.1291, 1.1169, 1.1117, 1.1047, 1.0968, 1.089, 1.0667, 1.0657, 1.0572, 1.0543, 1.0419, 1.0417, 1.0287, 1.0174, 1.0135, 0.994, 0.9895, 0.9844, 0.9815, 0.9706, 0.9705, 0.9687, 0.9591, 0.9591, 0.955, 0.9546, 0.9452, 0.9351, 0.9209, 0.9272, 0.8725, 0.8484, 0.8638, 0.8207, 0.8645, 0.903, 0.7521, 0.8363, 0.7823, 0.781, 0.6589, 0.8061, 0.7368, 0.801, 0.7523, 0.6623, 0.779, 0.6899, 0.5764, 0.5535, 0.6474, 0.2754, 0.3955, 0.3512, 0.4398, 1.301, 1.2704, 1.269, 1.254, 1.2436, 1.2427, 1.2408, 1.2082, 1.1973, 1.1793, 1.1753, 1.1333, 1.1157, 1.0878, 1.0724, 1.0712, 1.0676, 1.0491, 1.0397, 1.0396, 1.0391, 1.0369, 1.0207, 1.0073, 0.9865, 0.9864, 0.9852, 0.9754, 0.9747, 0.9724, 0.9715, 0.9652, 0.897, 0.9229, 0.8323, 0.8093, 0.7913, 0.8371, 0.7628, 0.6992, 0.8334, 0.6832, 0.638, 0.6407, 0.7131, 0.6486, 0.6787, 0.7591, 0.4985, 0.7707, 0.3996, 0.6444, 0.334, 0.417, 0.1461, 0.278, 0.2782, -0.1965, 0.4586, 0.1081, -0.2961, 0.3011, 1.5157, 1.4505, 1.4414, 1.4044, 1.3823, 1.3612, 1.3475, 1.3392, 1.2823, 1.2809, 1.266, 1.2651, 1.2583, 1.2308, 1.2042, 1.1758, 1.1585, 1.1512, 1.1465, 1.1028, 1.0924, 1.0848, 1.0837, 1.0785, 1.0699, 1.0546, 1.0519, 1.0504, 1.0236, 1.0074, 0.999, 0.904, 0.9857, 0.8198, 0.9047, 0.7177, 0.8364, 0.8962, 0.6528, 0.7252, 0.7546, 0.5097, 0.6622, 0.5252, 0.4241, 0.6387, 0.4895, 0.4983, 0.3076, 0.4363, 0.4879, 0.404, 1.3773, 1.3408, 1.3334, 1.3098, 1.2942, 1.2813, 1.2629, 1.2415, 1.237, 1.2112, 1.1861, 1.1632, 1.1517, 1.1451, 1.1428, 1.1335, 1.1265, 1.1225, 1.1041, 1.1032, 1.0997, 1.0975, 1.0949, 1.0859, 1.0823, 1.0759, 1.0675, 1.066, 1.041, 1.0226, 1.021, 1.0224, 1.0006, 0.9562, 0.9654, 0.9587, 0.841, 0.8301, 0.8808, 0.7691, 0.8352, 0.7359, 0.8796, 0.5603, 0.8048, 0.9803, 0.8665, 0.7457, 0.6905, 0.7156, 0.6021, 0.8019, 0.4866, 0.3592, 0.1903, 0.3778, 0.6248, 0.6101, 0.4314, 0.424, 0.1509]}, \"token.table\": {\"Topic\": [1, 2, 3, 4, 5, 1, 2, 3, 4, 5, 1, 2, 3, 4, 5, 1, 2, 3, 4, 5, 1, 2, 3, 4, 5, 1, 2, 3, 4, 5, 1, 2, 3, 4, 5, 1, 2, 3, 4, 5, 1, 2, 3, 4, 5, 1, 2, 3, 4, 5, 1, 2, 3, 4, 5, 1, 2, 3, 4, 5, 1, 2, 3, 4, 5, 1, 2, 3, 4, 5, 1, 2, 3, 4, 5, 1, 2, 3, 4, 5, 1, 2, 3, 4, 5, 1, 3, 4, 5, 1, 2, 3, 4, 5, 1, 2, 3, 4, 5, 1, 2, 3, 4, 5, 1, 2, 3, 4, 5, 1, 2, 3, 4, 5, 1, 2, 3, 4, 5, 1, 2, 3, 4, 5, 1, 2, 3, 4, 5, 1, 2, 3, 4, 5, 1, 2, 3, 4, 5, 1, 2, 3, 4, 5, 1, 2, 3, 4, 5, 1, 2, 3, 4, 5, 1, 2, 3, 4, 5, 1, 2, 3, 4, 5, 1, 2, 3, 4, 5, 1, 2, 3, 4, 5, 1, 2, 3, 4, 5, 1, 2, 3, 4, 5, 1, 2, 3, 4, 5, 1, 2, 3, 4, 5, 1, 2, 3, 4, 5, 1, 2, 3, 4, 5, 1, 2, 3, 4, 5, 1, 2, 3, 4, 5, 1, 2, 3, 4, 5, 1, 2, 3, 4, 5, 1, 2, 3, 4, 5, 1, 2, 3, 4, 5, 1, 2, 3, 4, 5, 1, 2, 3, 4, 5, 1, 2, 3, 4, 5, 1, 2, 3, 4, 5, 1, 2, 3, 4, 5, 1, 2, 3, 4, 5, 1, 2, 3, 4, 5, 1, 2, 3, 4, 5, 1, 2, 3, 4, 5, 1, 2, 3, 4, 5, 1, 2, 3, 4, 5, 1, 2, 3, 4, 5, 1, 2, 3, 4, 5, 1, 2, 3, 4, 5, 1, 2, 3, 4, 5, 1, 2, 3, 4, 5, 1, 2, 3, 4, 5, 1, 2, 3, 4, 5, 1, 2, 3, 4, 5, 1, 2, 3, 4, 5, 1, 2, 3, 4, 5, 1, 2, 3, 4, 5, 1, 2, 3, 4, 5, 1, 2, 3, 4, 5, 1, 2, 3, 4, 5, 1, 2, 3, 4, 5, 1, 2, 3, 4, 5, 1, 2, 3, 4, 5, 1, 2, 3, 4, 5, 1, 2, 3, 4, 5, 1, 2, 3, 4, 5, 1, 2, 3, 4, 5, 1, 2, 3, 4, 5, 1, 2, 3, 4, 5, 1, 2, 3, 4, 5, 1, 2, 3, 4, 5, 1, 2, 3, 4, 5, 1, 2, 3, 4, 5, 1, 2, 3, 4, 5, 1, 2, 3, 4, 5, 1, 2, 3, 4, 5, 1, 2, 3, 4, 5, 1, 2, 3, 4, 5, 1, 2, 3, 4, 5, 1, 2, 3, 4, 5, 1, 2, 3, 4, 5, 1, 2, 3, 4, 5, 1, 2, 3, 4, 5, 1, 2, 3, 4, 5, 1, 2, 3, 4, 5, 1, 2, 3, 4, 5, 1, 2, 3, 4, 5, 1, 2, 3, 4, 5, 1, 2, 3, 4, 5, 1, 2, 3, 4, 5, 1, 2, 3, 4, 5, 1, 2, 3, 4, 5, 1, 2, 3, 4, 5, 1, 2, 3, 4, 5, 1, 2, 3, 4, 5, 1, 2, 3, 4, 5, 1, 2, 3, 4, 5, 1, 2, 3, 4, 5, 1, 2, 3, 4, 5, 1, 2, 3, 4, 5, 1, 2, 3, 4, 5, 1, 2, 3, 4, 5, 1, 2, 3, 4, 5, 1, 2, 3, 4, 5, 1, 2, 3, 4, 5, 1, 2, 3, 4, 5, 1, 2, 3, 4, 5, 1, 2, 3, 4, 5, 1, 2, 3, 4, 5, 1, 2, 3, 4, 5, 1, 2, 3, 4, 5, 1, 2, 3, 4, 5, 1, 2, 3, 4, 5, 1, 2, 3, 4, 5, 1, 2, 3, 4, 5, 1, 2, 3, 4, 5, 1, 2, 3, 4, 5, 1, 2, 3, 4, 5, 1, 2, 3, 4, 5, 1, 2, 3, 4, 5, 1, 2, 3, 4, 5, 1, 2, 3, 4, 5, 1, 2, 3, 4, 5, 1, 2, 3, 4, 5, 1, 2, 3, 4, 5, 1, 2, 3, 4, 5, 1, 2, 3, 4, 5, 1, 2, 3, 4, 5, 1, 2, 3, 4, 5, 1, 2, 3, 4, 5, 1, 2, 3, 4, 5, 1, 2, 3, 4, 5, 1, 2, 3, 4, 5, 1, 2, 3, 4, 5, 1, 2, 3, 4, 5, 1, 2, 3, 4, 5, 1, 2, 3, 4, 5, 1, 2, 3, 4, 5, 1, 2, 3, 4, 5, 1, 2, 3, 4, 5, 1, 2, 3, 4, 5, 1, 2, 3, 4, 5, 1, 2, 3, 4, 5, 1, 2, 3, 4, 5, 1, 2, 3, 4, 5, 1, 2, 3, 4, 5, 1, 2, 3, 4, 5, 1, 2, 3, 4, 5, 1, 2, 3, 4, 5, 1, 2, 3, 4, 5, 1, 2, 3, 4, 5, 1, 2, 3, 4, 5, 1, 2, 3, 4, 5, 1, 2, 3, 4, 5, 1, 2, 3, 4, 5, 1, 2, 3, 4, 5, 1, 2, 3, 4, 5, 1, 2, 3, 4, 5, 1, 2, 3, 4, 5, 1, 2, 3, 4, 5, 1, 2, 3, 4, 5, 1, 2, 3, 4, 5, 1, 2, 3, 4, 5, 1, 2, 3, 4, 5, 1, 2, 3, 4, 5, 1, 2, 3, 4, 5, 1, 2, 3, 4, 5, 1, 2, 3, 4, 5, 1, 2, 3, 4, 5, 1, 2, 3, 4, 5, 1, 2, 3, 4, 5, 1, 2, 3, 4, 5, 1, 2, 3, 4, 5, 1, 2, 3, 4, 5, 1, 2, 3, 4, 5, 1, 2, 3, 4, 5, 1, 2, 3, 4, 5, 1, 2, 3, 4, 5, 1, 2, 3, 4, 5, 1, 2, 3, 4, 5, 1, 2, 3, 4, 5, 1, 2, 3, 4, 5, 1, 2, 3, 4, 5, 1, 2, 3, 4, 5, 1, 2, 3, 4, 5, 1, 2, 3, 4, 5, 1, 2, 3, 4, 5, 1, 2, 3, 4, 5, 1, 2, 3, 4, 5, 1, 2, 3, 4, 5, 1, 2, 3, 4, 5, 1, 2, 3, 4, 5, 1, 2, 3, 4, 5, 1, 2, 3, 4, 5, 1, 2, 3, 4, 5, 1, 2, 3, 4, 5, 1, 2, 3, 4, 5, 1, 2, 3, 4, 5, 1, 2, 3, 4, 5, 1, 2, 3, 4, 5, 1, 2, 3, 4, 5, 1, 2, 3, 4, 5, 1, 2, 3, 4, 5, 1, 2, 3, 4, 5, 1, 2, 3, 4, 5, 1, 2, 3, 4, 5, 1, 2, 3, 4, 5, 1, 2, 3, 4, 5, 1, 2, 3, 4, 5, 1, 2, 3, 4, 5, 1, 2, 3, 4, 5, 1, 2, 3, 4, 5, 1, 2, 3, 4, 5, 1, 2, 3, 4, 5, 1, 2, 3, 4, 5, 1, 2, 3, 4, 5, 1, 2, 3, 4, 5, 1, 2, 3, 4, 5, 1, 2, 3, 4, 5, 1, 2, 3, 4, 5, 1, 2, 3, 4, 5, 1, 2, 3, 4, 5, 1, 2, 3, 4, 5, 1, 2, 3, 4, 5, 1, 2, 3, 4, 5, 1, 2, 3, 4, 5, 1, 2, 3, 4, 5, 1, 2, 4, 5, 1, 2, 3, 4, 5, 1, 2, 3, 4, 5, 1, 2, 3, 4, 5, 1, 2, 3, 4, 5, 1, 2, 3, 4, 5, 1, 2, 3, 4, 5, 1, 2, 3, 4, 5, 1, 2, 3, 4, 5, 1, 2, 3, 4, 5, 1, 2, 3, 4, 5, 1, 2, 3, 4, 5, 1, 2, 3, 4, 5, 1, 2, 3, 4, 5, 1, 2, 3, 4, 5, 1, 2, 3, 4, 5, 1, 2, 3, 4, 5, 1, 2, 3, 4, 5, 1, 2, 3, 4, 5, 1, 2, 3, 4, 5, 1, 2, 3, 4, 5, 1, 2, 3, 4, 5, 1, 2, 3, 4, 5], \"Freq\": [0.6123652363549261, 0.056964208033016384, 0.11392841606603277, 0.12816946807428686, 0.08544631204952458, 0.14366121647069569, 0.052240442352980254, 0.5354645341180476, 0.030473591372571815, 0.23508199058841114, 0.16090509048951543, 0.1838915319880176, 0.0459728829970044, 0.1723983112387665, 0.42524916772229077, 0.11123753533604176, 0.1375832673893148, 0.4888596947662888, 0.14929248163521394, 0.11123753533604176, 0.1607647006480061, 0.045932771613716034, 0.11483192903429008, 0.06889915742057405, 0.6200924167851665, 0.2533889347081315, 0.5791747079043006, 0.03619841924401879, 0.03619841924401879, 0.07239683848803757, 0.6651103595672004, 0.11321027396888518, 0.06368077910749792, 0.09905898972277453, 0.05660513698444259, 0.17117052787931347, 0.12967464233281323, 0.176357513572626, 0.16079655649268842, 0.35790201283856454, 0.0617256048270721, 0.03527177418689834, 0.08817943546724585, 0.7495252014715899, 0.0617256048270721, 0.08499219057505923, 0.025497657172517767, 0.6884367436579798, 0.14448672397760068, 0.050995314345035535, 0.04476965858371943, 0.07732941028096993, 0.1343089757511583, 0.49653621338307, 0.248268106691535, 0.1806754881546448, 0.15287925920777637, 0.4586377776233291, 0.0972868013140395, 0.10423585855075661, 0.17448515292635405, 0.06979406117054163, 0.06979406117054163, 0.5234554587790622, 0.13958812234108325, 0.26898456088551004, 0.10086921033206628, 0.058840372693705324, 0.04202883763836095, 0.5295633542433479, 0.062201213303423944, 0.3151528140706813, 0.40223451269547483, 0.1078154363926015, 0.1119621839461631, 0.09650425569205447, 0.6433617046136965, 0.1286723409227393, 0.06433617046136965, 0.06433617046136965, 0.13250894235266533, 0.10600715388213228, 0.17226162505846496, 0.20538886064663128, 0.3842759328227295, 0.10139672695322118, 0.03379890898440706, 0.7773749066413623, 0.06759781796881412, 0.07603788617647099, 0.016897308039215776, 0.025345962058823664, 0.7772761698039258, 0.10138384823529466, 0.09967704358690072, 0.04271873296581459, 0.19935408717380143, 0.5411039509003182, 0.11391662124217225, 0.04916246641222229, 0.4826860338654552, 0.09385561769606074, 0.2815668530881822, 0.09385561769606074, 0.05105795169561859, 0.20423180678247435, 0.5616374686518044, 0.10211590339123718, 0.10211590339123718, 0.05271247637056207, 0.10542495274112414, 0.40142578159120346, 0.06893169986919655, 0.3689873345939345, 0.2079039504768875, 0.2910655306676425, 0.24688594119130391, 0.1325387684290158, 0.12214357090517142, 0.27011097637164266, 0.6212552456547782, 0.027011097637164267, 0.0405166464557464, 0.0405166464557464, 0.09077678882890705, 0.12968112689843866, 0.2399100847621115, 0.4214636624199256, 0.11671301420859478, 0.06602677220343016, 0.3417856443471679, 0.32236600546380606, 0.11651783330017086, 0.15147318329022214, 0.09066772669360777, 0.15543038861761332, 0.06476266192400555, 0.6605791516248566, 0.02590506476960222, 0.12827774780095544, 0.5900776398843951, 0.10262219824076435, 0.0897944234606688, 0.0897944234606688, 0.11121178305660284, 0.0679627563123684, 0.09885491827253585, 0.2965647548176076, 0.42013340265827737, 0.08021488842651005, 0.5882425151277403, 0.1426042460915734, 0.1158659499494034, 0.08021488842651005, 0.07286797422254178, 0.5829437937803342, 0.07286797422254178, 0.10930196133381267, 0.18216993555635447, 0.6235317402198148, 0.08313756536264198, 0.08313756536264198, 0.04156878268132099, 0.16627513072528396, 0.04713104029407767, 0.14139312088223302, 0.11782760073519417, 0.18852416117631068, 0.49487592308781553, 0.06368912890354834, 0.551972450497419, 0.2406033758578493, 0.0919954084162365, 0.04953598914720427, 0.6684895110413621, 0.09284576542241141, 0.046422882711205704, 0.10213034196465255, 0.10213034196465255, 0.0880632980625086, 0.1280920699091034, 0.5684085602216463, 0.0640460349545517, 0.16011508738637925, 0.20965801623074629, 0.1572435121730597, 0.5765595446345523, 0.05241450405768657, 0.05241450405768657, 0.1115971239085512, 0.09764748341998229, 0.1534460453742579, 0.1673956858628268, 0.4882374170999115, 0.09622064951996015, 0.5677018321677649, 0.21168542894391232, 0.04329929228398207, 0.08178755209196613, 0.06608099427601503, 0.42795310578752593, 0.1416021305914608, 0.17936269874918367, 0.18565612677547083, 0.5738004100650177, 0.1233979376483909, 0.11722804076597135, 0.09254845323629317, 0.09254845323629317, 0.6340783707722648, 0.09511175561583972, 0.06340783707722648, 0.1426676334237596, 0.06340783707722648, 0.07014893181851098, 0.4208935909110659, 0.23382977272836994, 0.10288510000048277, 0.17303403181899374, 0.057753892638604316, 0.6641697653439496, 0.08663083895790646, 0.057753892638604316, 0.14438473159651077, 0.6922397893811999, 0.09354591748394593, 0.09354591748394593, 0.07483673398715675, 0.046772958741972966, 0.06087700789683973, 0.1420463517592927, 0.1826310236905192, 0.12175401579367946, 0.48701606317471785, 0.5925023821860149, 0.07016475578518598, 0.18710601542716263, 0.07016475578518598, 0.07016475578518598, 0.11381591656123906, 0.5211570916225157, 0.1437674735510388, 0.14975778494899877, 0.0718837367755194, 0.09720284361962628, 0.5710667062653044, 0.09720284361962628, 0.13365390997698615, 0.09720284361962628, 0.45825379481104045, 0.08120953325765273, 0.20302383314413183, 0.1218142998864791, 0.1334156617804295, 0.19655093257636208, 0.17765180444401957, 0.35152378326157063, 0.12851407129992906, 0.14741319943227155, 0.1306642914858026, 0.46858918325943005, 0.20275493506417647, 0.10813596536756079, 0.09011330447296732, 0.03634096090475411, 0.5996258549284429, 0.18170480452377055, 0.054511441357131166, 0.14536384361901644, 0.6299049392381485, 0.08589612807792935, 0.11452817077057247, 0.08589612807792935, 0.05726408538528623, 0.08431341053986745, 0.21921486740365534, 0.5564685095631251, 0.050588046323920464, 0.08431341053986745, 0.5996418089754888, 0.14657910886067504, 0.07995224119673185, 0.10216119708471291, 0.07106865884153941, 0.0570366549356718, 0.13481391166613335, 0.15036936301222567, 0.3577753809601231, 0.30073872602445134, 0.0738764503546458, 0.20685406099300824, 0.08865174042557496, 0.05910116028371664, 0.5614610226953081, 0.6075331020190731, 0.11572059086077582, 0.08679044314558187, 0.11572059086077582, 0.08679044314558187, 0.16620738185676487, 0.12188541336162756, 0.22160984247568646, 0.376736732208667, 0.10526467517595108, 0.088957766109195, 0.71166212887356, 0.13343664916379247, 0.05559860381824687, 0.011119720763649374, 0.3811049500995595, 0.1137626716715103, 0.05119320225217963, 0.06256946941933067, 0.38679308368313503, 0.143887732046496, 0.15235171628452518, 0.20313562171270022, 0.3512553458782108, 0.15235171628452518, 0.1545194557357391, 0.248334839575295, 0.40837284730159623, 0.055185519905621115, 0.1379637997640528, 0.12807865209067315, 0.018296950298667593, 0.05489085089600278, 0.7135810616480361, 0.09148475149333797, 0.22021774267196315, 0.5420744435002169, 0.042349565898454455, 0.08469913179690891, 0.10163895815629069, 0.13799940867781202, 0.12143947963647458, 0.436078131421886, 0.1159195032893621, 0.19319917214893684, 0.11932472164189223, 0.15247047765352895, 0.45741143296058684, 0.059662360820946114, 0.21213283847447506, 0.11016725628088721, 0.08813380502470977, 0.06610035376853232, 0.6279533608010571, 0.11016725628088721, 0.606598511970498, 0.0686715296570375, 0.12589780437123543, 0.18312407908543335, 0.011445254942839584, 0.06748642705713712, 0.20245928117141135, 0.06748642705713712, 0.06748642705713712, 0.5398914164570969, 0.08353978459762806, 0.05569318973175204, 0.7100881690798385, 0.06961648716469004, 0.06961648716469004, 0.3678664728215367, 0.11495827275673022, 0.06131107880358945, 0.06897496365403813, 0.38319424252243406, 0.14726735353982529, 0.07363367676991264, 0.16567577273230347, 0.14726735353982529, 0.4786188990044322, 0.6047953470044174, 0.11832952441390775, 0.15777269921854364, 0.05259089973951455, 0.06573862467439319, 0.02384534112994051, 0.07153602338982153, 0.07153602338982153, 0.3338347758191671, 0.4769068225988102, 0.09850147270320551, 0.2517259857970808, 0.10944608078133947, 0.06566764846880367, 0.4706181473597597, 0.14013447421582112, 0.2479302236126066, 0.2048119238538924, 0.07545702457774983, 0.33955661059987424, 0.03796245032900995, 0.05965527908844421, 0.3687780889103824, 0.5260510974162808, 0.01084641437971713, 0.24805105992413842, 0.23642366649019442, 0.286809038037285, 0.17053510369784516, 0.058136967169719944, 0.1293415645117522, 0.10347325160940177, 0.20694650321880353, 0.10347325160940177, 0.4397613193399575, 0.04403186627931466, 0.10274102131840086, 0.785234948647778, 0.029354577519543103, 0.04403186627931466, 0.7005921803535602, 0.08340383099447146, 0.10008459719336575, 0.06672306479557716, 0.050042298596682876, 0.09352994040307272, 0.6251738121679071, 0.12798833949894162, 0.10829782572987368, 0.04430365598040287, 0.30475501487052176, 0.07314120356892521, 0.09752160475856696, 0.49979822438765564, 0.02438040118964174, 0.0946218078593947, 0.14193271178909206, 0.17347331440889027, 0.5519605458464691, 0.031540602619798234, 0.049506260132083056, 0.6765855551384684, 0.12376565033020764, 0.049506260132083056, 0.09901252026416611, 0.09674006050090052, 0.5147953219512206, 0.19348012100180104, 0.14511009075135078, 0.05182503241119671, 0.13926318589730893, 0.2744303957388146, 0.12697525772989932, 0.29900625207363385, 0.16383904223212814, 0.1018560742227934, 0.5220123803918162, 0.1527841113341901, 0.11034408040802618, 0.11034408040802618, 0.12746277976431417, 0.10621898313692847, 0.14870657639169985, 0.552338712312028, 0.06373138988215708, 0.4892423163012303, 0.2668594452552165, 0.06918578210320428, 0.0790694652608049, 0.09883683157600612, 0.14986422329408475, 0.13487780096467625, 0.5844704708469305, 0.08991853397645085, 0.04495926698822542, 0.11115838888576475, 0.3601531799898778, 0.15562174444007065, 0.27567280443669656, 0.09781938221947298, 0.1347248277022651, 0.07698561582986577, 0.570976650738171, 0.16680216763137581, 0.05132374388657718, 0.06888779452992302, 0.5087098672978931, 0.2490558725312602, 0.05299061117686387, 0.1218784057067869, 0.16395785891381473, 0.09222629563902078, 0.05806840836530938, 0.584099872380465, 0.09905787309376306, 0.24085091099730796, 0.08522416850673974, 0.1519213438598404, 0.08151876987601192, 0.43723703842588213, 0.10306247316740941, 0.0858853943061745, 0.6527289967269263, 0.10306247316740941, 0.0687083154449396, 0.2321339023133735, 0.46026549596617156, 0.07604386455093269, 0.11606695115668675, 0.11606695115668675, 0.06800572414289503, 0.045337149428596686, 0.7480629655718453, 0.09067429885719337, 0.06800572414289503, 0.037013747447453726, 0.3923457229430095, 0.4885814663063892, 0.029610997957962983, 0.04441649693694447, 0.05594656798823055, 0.5818443070775977, 0.20140764475762998, 0.09697405117959962, 0.06340611038666129, 0.15591088337292128, 0.11136491669494376, 0.6013705501526964, 0.08909193335595501, 0.04454596667797751, 0.19396343692395424, 0.12343127804251633, 0.12343127804251633, 0.11461475818233659, 0.44523425293907676, 0.45680704460091065, 0.2115737890783165, 0.12021238015813437, 0.10578689453915825, 0.10578689453915825, 0.0809788710057539, 0.5668520970402773, 0.1619577420115078, 0.04048943550287695, 0.1619577420115078, 0.03138661383189646, 0.6277322766379293, 0.21970629682327525, 0.06277322766379292, 0.06277322766379292, 0.16927763912868962, 0.033855527825737926, 0.06771105565147585, 0.1354221113029517, 0.6093995008632827, 0.12415389463736068, 0.024830778927472135, 0.6952618099692198, 0.04966155785494427, 0.12415389463736068, 0.8214342458602394, 0.05867387470430281, 0.019557958234767605, 0.05867387470430281, 0.05867387470430281, 0.06693150740798905, 0.6135388179065663, 0.17848401975463746, 0.055776256173324205, 0.07808675864265388, 0.0716635897463059, 0.17915897436576475, 0.1433271794926118, 0.10749538461945884, 0.5016451282241413, 0.06562836187622569, 0.2953276284430156, 0.21657359419154476, 0.06562836187622569, 0.36095599031924125, 0.22100042731475733, 0.13812526707172335, 0.17364319289016647, 0.1775896290922157, 0.29203627895164364, 0.07942110014694717, 0.14295798026450493, 0.14295798026450493, 0.07942110014694717, 0.5559477010286302, 0.43424362433844005, 0.09532177119624294, 0.19064354239248588, 0.22241746612456684, 0.05825219350881513, 0.14272964141023115, 0.06116984631867049, 0.24467938527468197, 0.08155979509156065, 0.46896882177647375, 0.14588892853221214, 0.612733499835291, 0.1167111428257697, 0.05835557141288485, 0.08753335711932728, 0.03689318643150866, 0.16601933894178894, 0.7378637286301731, 0.01844659321575433, 0.055339779647262985, 0.221849562951876, 0.12677117882964342, 0.031692794707410855, 0.5704703047333954, 0.04753919206111628, 0.10311940575326209, 0.4372262803938312, 0.2227379164270461, 0.16499104920521934, 0.07012119591221821, 0.031463427793139744, 0.11798785422427405, 0.039329284741424685, 0.7315246961904991, 0.0865244264311343, 0.03030076296534614, 0.14392862408539414, 0.06060152593069228, 0.6514664037549419, 0.11362786112004801, 0.094790260610282, 0.6256157200278613, 0.07583220848822561, 0.1137483127323384, 0.094790260610282, 0.05546129060781186, 0.08319193591171778, 0.05546129060781186, 0.7071314552496012, 0.09705725856367076, 0.6340096936793933, 0.18937951889124738, 0.08233892125706407, 0.04940335275423845, 0.04940335275423845, 0.15317532696739042, 0.1081237602122756, 0.13515470026534449, 0.4505156675511483, 0.1621856403184134, 0.04346119363020737, 0.11589651634721963, 0.7533273562569277, 0.07243532271701228, 0.014487064543402454, 0.02551624725466173, 0.10206498901864693, 0.7144549231305285, 0.13608665202486256, 0.01701083150310782, 0.13825108978295048, 0.10368831733721286, 0.10368831733721286, 0.17281386222868808, 0.48387881424032664, 0.34271504450222057, 0.2243967553288349, 0.0979185841434916, 0.15911769923317384, 0.17951740426306792, 0.6262809737586157, 0.053681226322167055, 0.10736245264433411, 0.06262809737586157, 0.15209680791280666, 0.19364241369043791, 0.08606329497352797, 0.06454747123014597, 0.04303164748676398, 0.6454747123014597, 0.3036622473083532, 0.1049015036156129, 0.11594376715409847, 0.060732449461670626, 0.4196060144624516, 0.16808704068540853, 0.6723481627416341, 0.01867633785393428, 0.056029013561802836, 0.07470535141573711, 0.3786233971644525, 0.08413853270321166, 0.07812863751012511, 0.03605937115851928, 0.42069266351605833, 0.36743645326620117, 0.16593904341054247, 0.23705577630077496, 0.15013532499049081, 0.07901859210025831, 0.13938333189901705, 0.48109730687725244, 0.10341343979604492, 0.1483758049247601, 0.13039085887327403, 0.06131374446899849, 0.09197061670349774, 0.7357649336279819, 0.06131374446899849, 0.030656872234499245, 0.10504047095889835, 0.07878035321917376, 0.10504047095889835, 0.6565029434931147, 0.05252023547944917, 0.05053335957288584, 0.036095256837775605, 0.360952568377756, 0.5269907498315238, 0.02165715410266536, 0.7207891023598063, 0.043684188021806444, 0.08736837604361289, 0.043684188021806444, 0.10921047005451612, 0.12739429833903687, 0.0778520712071892, 0.6015841866010074, 0.14154922037670764, 0.04954222713184767, 0.3441922897597572, 0.10590531992607913, 0.052952659963039564, 0.052952659963039564, 0.45009760968583634, 0.517897743778919, 0.04073353040957789, 0.10474336391034315, 0.22694395513907684, 0.11056243968313999, 0.23234104034178824, 0.20136223496288314, 0.06195761075781019, 0.309788053789051, 0.18974518294579373, 0.6407661223858052, 0.04271774149238702, 0.06407661223858052, 0.10679435373096753, 0.14951209522335454, 0.018864337594575602, 0.15091470075660482, 0.05659301278372681, 0.27353289512134626, 0.5093371150535413, 0.5045133838053841, 0.06395240076406278, 0.12079897922100746, 0.1492222684494798, 0.163433913063716, 0.14076683848623878, 0.35872839485202784, 0.3360240660639248, 0.0771947178795503, 0.08627644939479151, 0.16873926255059918, 0.15624005791722145, 0.22811048455914332, 0.10936804054205501, 0.3343537239428539, 0.05112928664375679, 0.11504089494845277, 0.6135514397250814, 0.15338785993127035, 0.06391160830469599, 0.23084955964638243, 0.4260007337804377, 0.13565386494684328, 0.10233537180200458, 0.10471526416949306, 0.15213581826367267, 0.31419353771845443, 0.12898471548441814, 0.30427163652734535, 0.10252631230812724, 0.037389767429062026, 0.6543209300085854, 0.12151674414445157, 0.14021162785898258, 0.05608465114359303, 0.17119519582238812, 0.08559759791119406, 0.11413013054825875, 0.5135855874671643, 0.11413013054825875, 0.022144425580680367, 0.056212772627880936, 0.5229491271745287, 0.3747518175192062, 0.023847842933040396, 0.16287069753895067, 0.16287069753895067, 0.06514827901558026, 0.5537603716324323, 0.0977224185233704, 0.12714688386317338, 0.5594462889979629, 0.2288643909537121, 0.05085875354526936, 0.02542937677263468, 0.10489337120995841, 0.10489337120995841, 0.131116714012448, 0.07867002840746881, 0.5834693773553937, 0.0940680541013903, 0.12542407213518705, 0.6166683546646697, 0.0940680541013903, 0.06271203606759353, 0.1629297984038811, 0.17068836023263734, 0.48878939521164333, 0.0543099328012937, 0.11637842743134365, 0.08754034667144364, 0.06060485538792253, 0.168346820522007, 0.6599195364462674, 0.02020161846264084, 0.11791854798368355, 0.09665454752760948, 0.17591127650024924, 0.41561455436872075, 0.19524218600577115, 0.08044031012472602, 0.06435224809978082, 0.7561389151724247, 0.03217612404989041, 0.06435224809978082, 0.12492317499069314, 0.05678326135940597, 0.11356652271881194, 0.1589931318063367, 0.5451193090502973, 0.08407926430686535, 0.06305944823014902, 0.6095746662247739, 0.08407926430686535, 0.14713871253701435, 0.7113635351758851, 0.07488037212377738, 0.07488037212377738, 0.03744018606188869, 0.09360046515472172, 0.15845412521123342, 0.09507247512674005, 0.17429953773235676, 0.1109178876478634, 0.45951696311257695, 0.01643034764590722, 0.6572139058362888, 0.13965795499021136, 0.12322760734430414, 0.04929104293772166, 0.1952902682518402, 0.1213966532376304, 0.45919603615973237, 0.1213966532376304, 0.10556230716315686, 0.08571643595112129, 0.17619489612174932, 0.40953408287757953, 0.20476704143878977, 0.11905060548766846, 0.27708271756215397, 0.06664014726178387, 0.319171231622228, 0.2490237081887713, 0.09119178046349372, 0.10205768422433985, 0.08164614737947189, 0.5715230316563031, 0.18370383160381173, 0.06123461053460391, 0.0601910755635509, 0.561783371926475, 0.16050953483613573, 0.13041399705436027, 0.09028661334532634, 0.1737383353311979, 0.13796867805712773, 0.18395823740950365, 0.20950799260526803, 0.29637716027086697, 0.640117231958443, 0.08728871344887858, 0.02909623781629286, 0.05819247563258572, 0.17457742689775715, 0.1025746544939037, 0.2532311782818248, 0.2981075896229076, 0.08654736472923125, 0.2628475521406282, 0.057222729553467404, 0.14714416170891617, 0.23706559386436493, 0.11444545910693481, 0.4496071607772439, 0.7117398769712587, 0.03745999352480309, 0.14983997409921235, 0.03745999352480309, 0.07491998704960617, 0.09889636326493156, 0.4889875739210505, 0.10439060566853887, 0.20328696893347045, 0.10439060566853887, 0.024230888534015952, 0.09692355413606381, 0.21807799680614356, 0.048461777068031904, 0.6057722133503989, 0.4767453015569538, 0.09052125978929504, 0.18104251957859008, 0.10862551174715404, 0.14483401566287205, 0.057856963617700374, 0.32785612716696877, 0.47892708772429754, 0.0642855151307782, 0.07392834240039492, 0.16934088328214217, 0.6823441473427493, 0.09463167006943239, 0.02490307107090326, 0.03486429949926456, 0.48082519798853285, 0.05409283477370994, 0.12621661447198987, 0.17429913427084315, 0.16227850432112984, 0.042026531279526214, 0.6724245004724194, 0.08405306255905243, 0.042026531279526214, 0.12607959383857864, 0.6670736390336793, 0.13869847940304225, 0.06604689495382964, 0.06604689495382964, 0.059442205458446674, 0.0442042979337476, 0.5270512445946829, 0.28222744065392696, 0.0748072734263421, 0.0748072734263421, 0.09090764951770404, 0.21817835884248968, 0.4227205702573238, 0.09090764951770404, 0.17726991655952287, 0.07505561552715798, 0.050037077018105315, 0.3002224621086319, 0.07505561552715798, 0.5003707701810531, 0.5154568707718519, 0.15187568513813493, 0.10125045675875663, 0.059829815357447094, 0.1702848590942725, 0.1531978668984827, 0.28245856709407746, 0.10532353349270684, 0.29682086711581024, 0.15798530023906027, 0.6121644739116758, 0.1391282895253809, 0.055651315810152355, 0.06956414476269045, 0.11825904609657376, 0.13775395226222914, 0.21915401496263726, 0.13775395226222914, 0.38821568364810033, 0.11270777912364202, 0.11194688530058618, 0.05597344265029309, 0.03731562843352873, 0.6530234975867527, 0.14926251373411492, 0.14456680585616266, 0.036141701464040665, 0.650550626352732, 0.07228340292808133, 0.10842510439212201, 0.2559853158823715, 0.07313866168067758, 0.14627732336135515, 0.511970631764743, 0.03656933084033879, 0.16909328115598826, 0.4808590182873416, 0.1426724559753651, 0.13210412590311582, 0.06869414546962023, 0.6261234944544792, 0.05692031767767993, 0.2419113501301397, 0.04269023825825995, 0.028460158838839966, 0.23884392801475768, 0.08880094759523043, 0.46850155110587083, 0.10411145580130463, 0.09798725251887494, 0.05527261973367731, 0.16581785920103193, 0.6079988170704504, 0.08290892960051596, 0.11054523946735462, 0.5922099698010351, 0.18330308589079658, 0.09870166163350585, 0.07050118688107561, 0.056400949504860486, 0.09428869767417458, 0.25143652713113224, 0.09428869767417458, 0.03142956589139153, 0.5028730542622645, 0.08391069639383827, 0.5733897586912282, 0.15383627672203684, 0.12586604459075743, 0.06992558032819857, 0.07423886765719187, 0.10393441472006863, 0.6236064883204118, 0.04454332059431512, 0.14847773531438374, 0.5105378770380209, 0.1584427894255927, 0.1584427894255927, 0.08802377190310706, 0.08606768808303801, 0.08768459459514737, 0.02192114864878684, 0.12056631756832761, 0.4932258445977039, 0.2740143581098355, 0.14980757593361893, 0.3382751714630105, 0.11598005878731789, 0.07248753674207369, 0.3189451616651242, 0.31657990511466355, 0.0934664481767102, 0.0874363547459547, 0.45225700730666224, 0.051255794161421724, 0.4470251136338792, 0.09605498309488314, 0.19580438861649255, 0.1588601643492298, 0.09974940552160941, 0.11779716511100338, 0.4659532308835245, 0.09685544686904723, 0.08638458774806915, 0.23035890066151773, 0.10277819347300231, 0.3924258296241906, 0.062289814226062, 0.093434721339093, 0.34570846895464413, 0.03674322948734834, 0.07348645897469668, 0.5878916717975734, 0.14697291794939335, 0.110229688462045, 0.5284417250974285, 0.12078668002226936, 0.15853251752922853, 0.15853251752922853, 0.03019667000556734, 0.4348127569139107, 0.23222954062447504, 0.11858529734015746, 0.11364424328431756, 0.09882108111679788, 0.11466643679757234, 0.49142758627531, 0.0928252107408919, 0.08190459771255167, 0.21295195405263434, 0.0632232760366499, 0.1264465520732998, 0.21074425345549966, 0.1264465520732998, 0.4847117829476492, 0.10505320996374203, 0.15757981494561304, 0.08170805219402158, 0.15757981494561304, 0.5019208920489897, 0.09383173506106923, 0.15157434125249644, 0.06496043196535561, 0.10826738660892603, 0.5774260619142721, 0.1516536216564838, 0.21550777814342437, 0.42702467150641493, 0.16362627599778515, 0.039908847804337844, 0.21178258721845664, 0.07059419573948554, 0.5647535659158843, 0.08471303488738266, 0.08471303488738266, 0.043374823297477015, 0.6506223494621552, 0.08674964659495403, 0.08674964659495403, 0.15181188154116956, 0.055180246741827636, 0.06621629609019317, 0.2538291350124071, 0.4524780232829866, 0.17105876489966568, 0.044769049782874985, 0.08953809956574997, 0.13430714934862495, 0.5372285973944998, 0.22384524891437493, 0.0883438400723773, 0.06625788005428299, 0.07509226406152071, 0.6979163365717808, 0.07067507205790184, 0.05149468312171417, 0.212036930501176, 0.6330816924963684, 0.060581980143193145, 0.0424073861002352, 0.05351554184722933, 0.080273312770844, 0.7492175858612106, 0.05351554184722933, 0.05351554184722933, 0.023788613167405884, 0.7017640884384736, 0.10704875925332649, 0.07136583950221766, 0.09515445266962354, 0.07056152128916622, 0.04490278627492396, 0.03207341876780283, 0.8339088879628734, 0.019244051260681697, 0.05611750441888582, 0.23649519719387596, 0.16835251325665745, 0.16835251325665745, 0.372780565068313, 0.19332509764152117, 0.1159950585849127, 0.1761406445178304, 0.3007279296645885, 0.21050955076521194, 0.07850084219240379, 0.20410218970024985, 0.1465349054258204, 0.20410218970024985, 0.37157065304404463, 0.2570382440619368, 0.24999610038900705, 0.28168574691719106, 0.09506893958455198, 0.11267429876687642, 0.7960111310645549, 0.08756122441710104, 0.03184044524258219, 0.051740723519196063, 0.03980055655322774, 0.7558786262230965, 0.11409488697707117, 0.02852372174426779, 0.05704744348853558, 0.05704744348853558, 0.036355485822464194, 0.7877021928200575, 0.060592476370773654, 0.07877021928200575, 0.036355485822464194, 0.053310670911946335, 0.159932012735839, 0.5864173800314096, 0.159932012735839, 0.08976854678673638, 0.06732641009005227, 0.20197923027015682, 0.5834955541137864, 0.08976854678673638, 0.5804617441033159, 0.09674362401721932, 0.1612393733620322, 0.11286756135342253, 0.04837181200860966, 0.12988572817847094, 0.6277810195292761, 0.0721587378769283, 0.13710160196616375, 0.03607936893846415, 0.1292790472179078, 0.10342323777432624, 0.4188641129860213, 0.10859439966304255, 0.23787344688095036, 0.24101662419540212, 0.05561922096816972, 0.6025415604885053, 0.05561922096816972, 0.046349350806808104, 0.6437953433190986, 0.058526849392645325, 0.07315856174080665, 0.17558054817793597, 0.058526849392645325, 0.07338829259726844, 0.5556542153793181, 0.10484041799609777, 0.14677658519453687, 0.1258085015953173, 0.21679115840129368, 0.1709314902779431, 0.1459171258470246, 0.21679115840129368, 0.2459745835706986, 0.15874244160799264, 0.5952841560299724, 0.07937122080399632, 0.11905683120599447, 0.03968561040199816, 0.3696707189768904, 0.14402755284813912, 0.18723581870258085, 0.15362938970468173, 0.14882847127641044, 0.6077642626321949, 0.05426466630644597, 0.13023519913547033, 0.13023519913547033, 0.07597053282902436, 0.1681304632873504, 0.11208697552490027, 0.11208697552490027, 0.11208697552490027, 0.44834790209960107, 0.448597135944879, 0.14131631388739777, 0.05586924037408749, 0.07230136989587793, 0.2809894148226165, 0.06432527469276826, 0.4992866559486298, 0.08270392460498777, 0.11639811611072352, 0.2358593405401503, 0.05627081366903612, 0.05627081366903612, 0.11254162733807224, 0.6189789503593973, 0.16881244100710838, 0.1552459835187001, 0.06899821489720004, 0.5692352729019003, 0.06899821489720004, 0.1552459835187001, 0.09630127142139694, 0.3820985930590911, 0.09319477879490026, 0.2795843363847008, 0.14911164607184044, 0.38015091827616343, 0.21896692892707012, 0.23721417300432596, 0.09123622038627922, 0.07298897630902337, 0.5228660690471999, 0.09842184829123762, 0.227600524173487, 0.06766502070022587, 0.07381638621842822, 0.2004958055983604, 0.04455462346630231, 0.04455462346630231, 0.2450504290646627, 0.4901008581293254, 0.08884607894424909, 0.30834815633592333, 0.0992985588200431, 0.17246591795060118, 0.32925311608751134, 0.10409949726141873, 0.21340396938590842, 0.13012437157677342, 0.3487333158257528, 0.20299401965976654], \"Term\": [\"aaron\", \"aaron\", \"aaron\", \"aaron\", \"aaron\", \"abort\", \"abort\", \"abort\", \"abort\", \"abort\", \"airport\", \"airport\", \"airport\", \"airport\", \"airport\", \"anim\", \"anim\", \"anim\", \"anim\", \"anim\", \"anthoni\", \"anthoni\", \"anthoni\", \"anthoni\", \"anthoni\", \"antoni\", \"antoni\", \"antoni\", \"antoni\", \"antoni\", \"appl\", \"appl\", \"appl\", \"appl\", \"appl\", \"arrest\", \"arrest\", \"arrest\", \"arrest\", \"arrest\", \"artemi\", \"artemi\", \"artemi\", \"artemi\", \"artemi\", \"asteroid\", \"asteroid\", \"asteroid\", \"asteroid\", \"asteroid\", \"astronaut\", \"astronaut\", \"astronaut\", \"astronaut\", \"astronaut\", \"astronom\", \"astronom\", \"astronom\", \"astronom\", \"astronom\", \"atop\", \"atop\", \"atop\", \"atop\", \"atop\", \"austin\", \"austin\", \"austin\", \"austin\", \"austin\", \"australia\", \"australia\", \"australia\", \"australia\", \"australia\", \"auto\", \"auto\", \"auto\", \"auto\", \"auto\", \"babi\", \"babi\", \"babi\", \"babi\", \"babi\", \"bankruptci\", \"bankruptci\", \"bankruptci\", \"bankruptci\", \"bath\", \"bath\", \"bath\", \"bath\", \"bath\", \"beer\", \"beer\", \"beer\", \"beer\", \"beer\", \"beij\", \"beij\", \"beij\", \"beij\", \"beij\", \"biologist\", \"biologist\", \"biologist\", \"biologist\", \"biologist\", \"bird\", \"bird\", \"bird\", \"bird\", \"bird\", \"black\", \"black\", \"black\", \"black\", \"black\", \"blinken\", \"blinken\", \"blinken\", \"blinken\", \"blinken\", \"blue\", \"blue\", \"blue\", \"blue\", \"blue\", \"book\", \"book\", \"book\", \"book\", \"book\", \"booster\", \"booster\", \"booster\", \"booster\", \"booster\", \"bottl\", \"bottl\", \"bottl\", \"bottl\", \"bottl\", \"brand\", \"brand\", \"brand\", \"brand\", \"brand\", \"brazil\", \"brazil\", \"brazil\", \"brazil\", \"brazil\", \"broker\", \"broker\", \"broker\", \"broker\", \"broker\", \"candidaci\", \"candidaci\", \"candidaci\", \"candidaci\", \"candidaci\", \"capsul\", \"capsul\", \"capsul\", \"capsul\", \"capsul\", \"car\", \"car\", \"car\", \"car\", \"car\", \"card\", \"card\", \"card\", \"card\", \"card\", \"cell\", \"cell\", \"cell\", \"cell\", \"cell\", \"characterist\", \"characterist\", \"characterist\", \"characterist\", \"characterist\", \"chatgpt\", \"chatgpt\", \"chatgpt\", \"chatgpt\", \"chatgpt\", \"chemic\", \"chemic\", \"chemic\", \"chemic\", \"chemic\", \"chines\", \"chines\", \"chines\", \"chines\", \"chines\", \"citizen\", \"citizen\", \"citizen\", \"citizen\", \"citizen\", \"clash\", \"clash\", \"clash\", \"clash\", \"clash\", \"clean\", \"clean\", \"clean\", \"clean\", \"clean\", \"cleanup\", \"cleanup\", \"cleanup\", \"cleanup\", \"cleanup\", \"climb\", \"climb\", \"climb\", \"climb\", \"climb\", \"cloth\", \"cloth\", \"cloth\", \"cloth\", \"cloth\", \"cloud\", \"cloud\", \"cloud\", \"cloud\", \"cloud\", \"coast\", \"coast\", \"coast\", \"coast\", \"coast\", \"coastal\", \"coastal\", \"coastal\", \"coastal\", \"coastal\", \"colleg\", \"colleg\", \"colleg\", \"colleg\", \"colleg\", \"conserv\", \"conserv\", \"conserv\", \"conserv\", \"conserv\", \"contain\", \"contain\", \"contain\", \"contain\", \"contain\", \"contamin\", \"contamin\", \"contamin\", \"contamin\", \"contamin\", \"coup\", \"coup\", \"coup\", \"coup\", \"coup\", \"creatur\", \"creatur\", \"creatur\", \"creatur\", \"creatur\", \"credit\", \"credit\", \"credit\", \"credit\", \"credit\", \"crew\", \"crew\", \"crew\", \"crew\", \"crew\", \"cruis\", \"cruis\", \"cruis\", \"cruis\", \"cruis\", \"curios\", \"curios\", \"curios\", \"curios\", \"curios\", \"custom\", \"custom\", \"custom\", \"custom\", \"custom\", \"derail\", \"derail\", \"derail\", \"derail\", \"derail\", \"desanti\", \"desanti\", \"desanti\", \"desanti\", \"desanti\", \"design\", \"design\", \"design\", \"design\", \"design\", \"detect\", \"detect\", \"detect\", \"detect\", \"detect\", \"diamond\", \"diamond\", \"diamond\", \"diamond\", \"diamond\", \"diplomat\", \"diplomat\", \"diplomat\", \"diplomat\", \"diplomat\", \"discov\", \"discov\", \"discov\", \"discov\", \"discov\", \"diseas\", \"diseas\", \"diseas\", \"diseas\", \"diseas\", \"disney\", \"disney\", \"disney\", \"disney\", \"disney\", \"dive\", \"dive\", \"dive\", \"dive\", \"dive\", \"dmitri\", \"dmitri\", \"dmitri\", \"dmitri\", \"dmitri\", \"dog\", \"dog\", \"dog\", \"dog\", \"dog\", \"donald\", \"donald\", \"donald\", \"donald\", \"donald\", \"donat\", \"donat\", \"donat\", \"donat\", \"donat\", \"draft\", \"draft\", \"draft\", \"draft\", \"draft\", \"dragon\", \"dragon\", \"dragon\", \"dragon\", \"dragon\", \"drought\", \"drought\", \"drought\", \"drought\", \"drought\", \"drug\", \"drug\", \"drug\", \"drug\", \"drug\", \"eclips\", \"eclips\", \"eclips\", \"eclips\", \"eclips\", \"educ\", \"educ\", \"educ\", \"educ\", \"educ\", \"edward\", \"edward\", \"edward\", \"edward\", \"edward\", \"egg\", \"egg\", \"egg\", \"egg\", \"egg\", \"elector\", \"elector\", \"elector\", \"elector\", \"elector\", \"electr\", \"electr\", \"electr\", \"electr\", \"electr\", \"eleph\", \"eleph\", \"eleph\", \"eleph\", \"eleph\", \"elon\", \"elon\", \"elon\", \"elon\", \"elon\", \"emiss\", \"emiss\", \"emiss\", \"emiss\", \"emiss\", \"energi\", \"energi\", \"energi\", \"energi\", \"energi\", \"engin\", \"engin\", \"engin\", \"engin\", \"engin\", \"environment\", \"environment\", \"environment\", \"environment\", \"environment\", \"error\", \"error\", \"error\", \"error\", \"error\", \"evacu\", \"evacu\", \"evacu\", \"evacu\", \"evacu\", \"extinct\", \"extinct\", \"extinct\", \"extinct\", \"extinct\", \"facil\", \"facil\", \"facil\", \"facil\", \"facil\", \"femal\", \"femal\", \"femal\", \"femal\", \"femal\", \"fish\", \"fish\", \"fish\", \"fish\", \"fish\", \"flight\", \"flight\", \"flight\", \"flight\", \"flight\", \"florida\", \"florida\", \"florida\", \"florida\", \"florida\", \"flower\", \"flower\", \"flower\", \"flower\", \"flower\", \"foreign\", \"foreign\", \"foreign\", \"foreign\", \"foreign\", \"formula\", \"formula\", \"formula\", \"formula\", \"formula\", \"fossil\", \"fossil\", \"fossil\", \"fossil\", \"fossil\", \"fuel\", \"fuel\", \"fuel\", \"fuel\", \"fuel\", \"gestur\", \"gestur\", \"gestur\", \"gestur\", \"gestur\", \"goal\", \"goal\", \"goal\", \"goal\", \"goal\", \"green\", \"green\", \"green\", \"green\", \"green\", \"greenhous\", \"greenhous\", \"greenhous\", \"greenhous\", \"greenhous\", \"grid\", \"grid\", \"grid\", \"grid\", \"grid\", \"guardian\", \"guardian\", \"guardian\", \"guardian\", \"guardian\", \"hamilton\", \"hamilton\", \"hamilton\", \"hamilton\", \"hamilton\", \"hay\", \"hay\", \"hay\", \"hay\", \"hay\", \"hazard\", \"hazard\", \"hazard\", \"hazard\", \"hazard\", \"heal\", \"heal\", \"heal\", \"heal\", \"heal\", \"heat\", \"heat\", \"heat\", \"heat\", \"heat\", \"hospit\", \"hospit\", \"hospit\", \"hospit\", \"hospit\", \"idaho\", \"idaho\", \"idaho\", \"idaho\", \"idaho\", \"incom\", \"incom\", \"incom\", \"incom\", \"incom\", \"infrar\", \"infrar\", \"infrar\", \"infrar\", \"infrar\", \"ingest\", \"ingest\", \"ingest\", \"ingest\", \"ingest\", \"insect\", \"insect\", \"insect\", \"insect\", \"insect\", \"investor\", \"investor\", \"investor\", \"investor\", \"investor\", \"island\", \"island\", \"island\", \"island\", \"island\", \"isra\", \"isra\", \"isra\", \"isra\", \"isra\", \"israel\", \"israel\", \"israel\", \"israel\", \"israel\", \"itali\", \"itali\", \"itali\", \"itali\", \"itali\", \"jerusalem\", \"jerusalem\", \"jerusalem\", \"jerusalem\", \"jerusalem\", \"jet\", \"jet\", \"jet\", \"jet\", \"jet\", \"journalist\", \"journalist\", \"journalist\", \"journalist\", \"journalist\", \"juic\", \"juic\", \"juic\", \"juic\", \"juic\", \"jupit\", \"jupit\", \"jupit\", \"jupit\", \"jupit\", \"juri\", \"juri\", \"juri\", \"juri\", \"juri\", \"justic\", \"justic\", \"justic\", \"justic\", \"justic\", \"kennedi\", \"kennedi\", \"kennedi\", \"kennedi\", \"kennedi\", \"killer\", \"killer\", \"killer\", \"killer\", \"killer\", \"lake\", \"lake\", \"lake\", \"lake\", \"lake\", \"laptop\", \"laptop\", \"laptop\", \"laptop\", \"laptop\", \"leagu\", \"leagu\", \"leagu\", \"leagu\", \"leagu\", \"legal\", \"legal\", \"legal\", \"legal\", \"legal\", \"letter\", \"letter\", \"letter\", \"letter\", \"letter\", \"lewi\", \"lewi\", \"lewi\", \"lewi\", \"lewi\", \"liftoff\", \"liftoff\", \"liftoff\", \"liftoff\", \"liftoff\", \"lunar\", \"lunar\", \"lunar\", \"lunar\", \"lunar\", \"madrid\", \"madrid\", \"madrid\", \"madrid\", \"madrid\", \"male\", \"male\", \"male\", \"male\", \"male\", \"manchest\", \"manchest\", \"manchest\", \"manchest\", \"manchest\", \"mar\", \"mar\", \"mar\", \"mar\", \"mar\", \"market\", \"market\", \"market\", \"market\", \"market\", \"martian\", \"martian\", \"martian\", \"martian\", \"martian\", \"mask\", \"mask\", \"mask\", \"mask\", \"mask\", \"match\", \"match\", \"match\", \"match\", \"match\", \"materi\", \"materi\", \"materi\", \"materi\", \"materi\", \"medic\", \"medic\", \"medic\", \"medic\", \"medic\", \"meteor\", \"meteor\", \"meteor\", \"meteor\", \"meteor\", \"militari\", \"militari\", \"militari\", \"militari\", \"militari\", \"minist\", \"minist\", \"minist\", \"minist\", \"minist\", \"missil\", \"missil\", \"missil\", \"missil\", \"missil\", \"mistak\", \"mistak\", \"mistak\", \"mistak\", \"mistak\", \"moon\", \"moon\", \"moon\", \"moon\", \"moon\", \"mosqu\", \"mosqu\", \"mosqu\", \"mosqu\", \"mosqu\", \"motor\", \"motor\", \"motor\", \"motor\", \"motor\", \"murder\", \"murder\", \"murder\", \"murder\", \"murder\", \"museum\", \"museum\", \"museum\", \"museum\", \"museum\", \"music\", \"music\", \"music\", \"music\", \"music\", \"musk\", \"musk\", \"musk\", \"musk\", \"musk\", \"nasa\", \"nasa\", \"nasa\", \"nasa\", \"nasa\", \"nest\", \"nest\", \"nest\", \"nest\", \"nest\", \"newspap\", \"newspap\", \"newspap\", \"newspap\", \"newspap\", \"nois\", \"nois\", \"nois\", \"nois\", \"nois\", \"nomin\", \"nomin\", \"nomin\", \"nomin\", \"nomin\", \"nonprofit\", \"nonprofit\", \"nonprofit\", \"nonprofit\", \"nonprofit\", \"nuclear\", \"nuclear\", \"nuclear\", \"nuclear\", \"nuclear\", \"object\", \"object\", \"object\", \"object\", \"object\", \"occur\", \"occur\", \"occur\", \"occur\", \"occur\", \"orbit\", \"orbit\", \"orbit\", \"orbit\", \"orbit\", \"outer\", \"outer\", \"outer\", \"outer\", \"outer\", \"pacif\", \"pacif\", \"pacif\", \"pacif\", \"pacif\", \"pandem\", \"pandem\", \"pandem\", \"pandem\", \"pandem\", \"paramilitari\", \"paramilitari\", \"paramilitari\", \"paramilitari\", \"paramilitari\", \"parent\", \"parent\", \"parent\", \"parent\", \"parent\", \"patient\", \"patient\", \"patient\", \"patient\", \"patient\", \"paulina\", \"paulina\", \"paulina\", \"paulina\", \"paulina\", \"peac\", \"peac\", \"peac\", \"peac\", \"peac\", \"physician\", \"physician\", \"physician\", \"physician\", \"physician\", \"pick\", \"pick\", \"pick\", \"pick\", \"pick\", \"plant\", \"plant\", \"plant\", \"plant\", \"plant\", \"plastic\", \"plastic\", \"plastic\", \"plastic\", \"plastic\", \"player\", \"player\", \"player\", \"player\", \"player\", \"plug\", \"plug\", \"plug\", \"plug\", \"plug\", \"poll\", \"poll\", \"poll\", \"poll\", \"poll\", \"pollut\", \"pollut\", \"pollut\", \"pollut\", \"pollut\", \"popul\", \"popul\", \"popul\", \"popul\", \"popul\", \"pregnanc\", \"pregnanc\", \"pregnanc\", \"pregnanc\", \"pregnanc\", \"presidenti\", \"presidenti\", \"presidenti\", \"presidenti\", \"presidenti\", \"price\", \"price\", \"price\", \"price\", \"price\", \"primari\", \"primari\", \"primari\", \"primari\", \"primari\", \"prime\", \"prime\", \"prime\", \"prime\", \"prime\", \"princ\", \"princ\", \"princ\", \"princ\", \"princ\", \"prix\", \"prix\", \"prix\", \"prix\", \"prix\", \"propel\", \"propel\", \"propel\", \"propel\", \"propel\", \"propos\", \"propos\", \"propos\", \"propos\", \"propos\", \"quarterback\", \"quarterback\", \"quarterback\", \"quarterback\", \"quarterback\", \"race\", \"race\", \"race\", \"race\", \"race\", \"radiat\", \"radiat\", \"radiat\", \"radiat\", \"radiat\", \"reelect\", \"reelect\", \"reelect\", \"reelect\", \"reelect\", \"relianc\", \"relianc\", \"relianc\", \"relianc\", \"relianc\", \"renew\", \"renew\", \"renew\", \"renew\", \"renew\", \"reproduct\", \"reproduct\", \"reproduct\", \"reproduct\", \"reproduct\", \"republican\", \"republican\", \"republican\", \"republican\", \"republican\", \"retail\", \"retail\", \"retail\", \"retail\", \"retail\", \"river\", \"river\", \"river\", \"river\", \"river\", \"rocket\", \"rocket\", \"rocket\", \"rocket\", \"rocket\", \"round\", \"round\", \"round\", \"round\", \"round\", \"russia\", \"russia\", \"russia\", \"russia\", \"russia\", \"russian\", \"russian\", \"russian\", \"russian\", \"russian\", \"saturn\", \"saturn\", \"saturn\", \"saturn\", \"saturn\", \"seal\", \"seal\", \"seal\", \"seal\", \"seal\", \"senat\", \"senat\", \"senat\", \"senat\", \"senat\", \"sever\", \"sever\", \"sever\", \"sever\", \"sever\", \"sheet\", \"sheet\", \"sheet\", \"sheet\", \"sheet\", \"ship\", \"ship\", \"ship\", \"ship\", \"ship\", \"smith\", \"smith\", \"smith\", \"smith\", \"smith\", \"solar\", \"solar\", \"solar\", \"solar\", \"solar\", \"song\", \"song\", \"song\", \"song\", \"song\", \"sovereignti\", \"sovereignti\", \"sovereignti\", \"sovereignti\", \"sovereignti\", \"spacecraft\", \"spacecraft\", \"spacecraft\", \"spacecraft\", \"spacecraft\", \"spaceflight\", \"spaceflight\", \"spaceflight\", \"spaceflight\", \"spaceflight\", \"spacex\", \"spacex\", \"spacex\", \"spacex\", \"spacex\", \"speci\", \"speci\", \"speci\", \"speci\", \"speci\", \"specimen\", \"specimen\", \"specimen\", \"specimen\", \"specimen\", \"spill\", \"spill\", \"spill\", \"spill\", \"spill\", \"starship\", \"starship\", \"starship\", \"starship\", \"starship\", \"station\", \"station\", \"station\", \"station\", \"station\", \"store\", \"store\", \"store\", \"store\", \"store\", \"strike\", \"strike\", \"strike\", \"strike\", \"strike\", \"student\", \"student\", \"student\", \"student\", \"student\", \"sudan\", \"sudan\", \"sudan\", \"sudan\", \"sudan\", \"sudanes\", \"sudanes\", \"sudanes\", \"sudanes\", \"sudanes\", \"taiwan\", \"taiwan\", \"taiwan\", \"taiwan\", \"taiwan\", \"takeoff\", \"takeoff\", \"takeoff\", \"takeoff\", \"tall\", \"tall\", \"tall\", \"tall\", \"tall\", \"tax\", \"tax\", \"tax\", \"tax\", \"tax\", \"teacher\", \"teacher\", \"teacher\", \"teacher\", \"teacher\", \"telescop\", \"telescop\", \"telescop\", \"telescop\", \"telescop\", \"tennesse\", \"tennesse\", \"tennesse\", \"tennesse\", \"tennesse\", \"tenni\", \"tenni\", \"tenni\", \"tenni\", \"tenni\", \"territori\", \"territori\", \"territori\", \"territori\", \"territori\", \"texa\", \"texa\", \"texa\", \"texa\", \"texa\", \"tide\", \"tide\", \"tide\", \"tide\", \"tide\", \"titl\", \"titl\", \"titl\", \"titl\", \"titl\", \"tournament\", \"tournament\", \"tournament\", \"tournament\", \"tournament\", \"trauma\", \"trauma\", \"trauma\", \"trauma\", \"trauma\", \"trump\", \"trump\", \"trump\", \"trump\", \"trump\", \"ukrain\", \"ukrain\", \"ukrain\", \"ukrain\", \"ukrain\", \"uncrew\", \"uncrew\", \"uncrew\", \"uncrew\", \"uncrew\", \"vega\", \"vega\", \"vega\", \"vega\", \"vega\", \"vehicl\", \"vehicl\", \"vehicl\", \"vehicl\", \"vehicl\", \"vote\", \"vote\", \"vote\", \"vote\", \"vote\", \"voter\", \"voter\", \"voter\", \"voter\", \"voter\", \"wed\", \"wed\", \"wed\", \"wed\", \"wed\", \"west\", \"west\", \"west\", \"west\", \"west\", \"worker\", \"worker\", \"worker\", \"worker\", \"worker\"]}, \"R\": 30, \"lambda.step\": 0.01, \"plot.opts\": {\"xlab\": \"PC1\", \"ylab\": \"PC2\"}, \"topic.order\": [2, 3, 4, 5, 1]};\n",
       "\n",
       "function LDAvis_load_lib(url, callback){\n",
       "  var s = document.createElement('script');\n",
       "  s.src = url;\n",
       "  s.async = true;\n",
       "  s.onreadystatechange = s.onload = callback;\n",
       "  s.onerror = function(){console.warn(\"failed to load library \" + url);};\n",
       "  document.getElementsByTagName(\"head\")[0].appendChild(s);\n",
       "}\n",
       "\n",
       "if(typeof(LDAvis) !== \"undefined\"){\n",
       "   // already loaded: just create the visualization\n",
       "   !function(LDAvis){\n",
       "       new LDAvis(\"#\" + \"ldavis_el216901406907294996648566204320\", ldavis_el216901406907294996648566204320_data);\n",
       "   }(LDAvis);\n",
       "}else if(typeof define === \"function\" && define.amd){\n",
       "   // require.js is available: use it to load d3/LDAvis\n",
       "   require.config({paths: {d3: \"https://d3js.org/d3.v5\"}});\n",
       "   require([\"d3\"], function(d3){\n",
       "      window.d3 = d3;\n",
       "      LDAvis_load_lib(\"https://cdn.jsdelivr.net/gh/bmabey/pyLDAvis@3.4.0/pyLDAvis/js/ldavis.v3.0.0.js\", function(){\n",
       "        new LDAvis(\"#\" + \"ldavis_el216901406907294996648566204320\", ldavis_el216901406907294996648566204320_data);\n",
       "      });\n",
       "    });\n",
       "}else{\n",
       "    // require.js not available: dynamically load d3 & LDAvis\n",
       "    LDAvis_load_lib(\"https://d3js.org/d3.v5.js\", function(){\n",
       "         LDAvis_load_lib(\"https://cdn.jsdelivr.net/gh/bmabey/pyLDAvis@3.4.0/pyLDAvis/js/ldavis.v3.0.0.js\", function(){\n",
       "                 new LDAvis(\"#\" + \"ldavis_el216901406907294996648566204320\", ldavis_el216901406907294996648566204320_data);\n",
       "            })\n",
       "         });\n",
       "}\n",
       "</script>"
      ],
      "text/plain": [
       "PreparedData(topic_coordinates=              x         y  topics  cluster       Freq\n",
       "topic                                                \n",
       "1      0.041408  0.010776       1        1  22.282512\n",
       "2     -0.043628  0.025572       2        1  22.024333\n",
       "3     -0.017030 -0.042017       3        1  21.300092\n",
       "4      0.013391 -0.010523       4        1  18.323272\n",
       "0      0.005859  0.016192       5        1  16.069790, topic_info=           Term        Freq       Total Category  logprob  loglift\n",
       "2384       moon  587.000000  587.000000  Default  30.0000  30.0000\n",
       "807       sudan  251.000000  251.000000  Default  29.0000  29.0000\n",
       "1149      trump  608.000000  608.000000  Default  28.0000  28.0000\n",
       "1891   starship  155.000000  155.000000  Default  27.0000  27.0000\n",
       "1890     spacex  226.000000  226.000000  Default  26.0000  26.0000\n",
       "...         ...         ...         ...      ...      ...      ...\n",
       "2221       crew   57.889448  192.858435   Topic5  -6.2245   0.6248\n",
       "303      pandem   57.882070  195.696591   Topic5  -6.2247   0.6101\n",
       "2494  astronaut   60.782998  245.702119   Topic5  -6.1758   0.4314\n",
       "684        texa   58.898889  239.862181   Topic5  -6.2072   0.4240\n",
       "982      chines   59.387955  317.791828   Topic5  -6.1990   0.1509\n",
       "\n",
       "[319 rows x 6 columns], token_table=      Topic      Freq    Term\n",
       "term                         \n",
       "2160      1  0.612365   aaron\n",
       "2160      2  0.056964   aaron\n",
       "2160      3  0.113928   aaron\n",
       "2160      4  0.128169   aaron\n",
       "2160      5  0.085446   aaron\n",
       "...     ...       ...     ...\n",
       "325       1  0.104099  worker\n",
       "325       2  0.213404  worker\n",
       "325       3  0.130124  worker\n",
       "325       4  0.348733  worker\n",
       "325       5  0.202994  worker\n",
       "\n",
       "[1308 rows x 3 columns], R=30, lambda_step=0.01, plot_opts={'xlab': 'PC1', 'ylab': 'PC2'}, topic_order=[2, 3, 4, 5, 1])"
      ]
     },
     "execution_count": 64,
     "metadata": {},
     "output_type": "execute_result"
    }
   ],
   "source": [
    "pyLDAvis.enable_notebook()\n",
    "id2word=dictionary\n",
    "vis = pyLDAvis.gensim_models.prepare(lda_model, bow_corpus, id2word)\n",
    "vis"
   ]
  },
  {
   "cell_type": "markdown",
   "metadata": {},
   "source": [
    "## Running LDA using TF-IDF ##"
   ]
  },
  {
   "cell_type": "code",
   "execution_count": 65,
   "metadata": {},
   "outputs": [
    {
     "name": "stderr",
     "output_type": "stream",
     "text": [
      "<frozen importlib._bootstrap>:228: RuntimeWarning: scipy._lib.messagestream.MessageStream size changed, may indicate binary incompatibility. Expected 56 from C header, got 64 from PyObject\n",
      "<frozen importlib._bootstrap>:228: RuntimeWarning: scipy._lib.messagestream.MessageStream size changed, may indicate binary incompatibility. Expected 56 from C header, got 64 from PyObject\n"
     ]
    }
   ],
   "source": [
    "'''\n",
    "Define lda model using corpus_tfidf, again using gensim.models.LdaMulticore()\n",
    "'''\n",
    "\n",
    "lda_model_tfidf = gensim.models.LdaMulticore(corpus_tfidf, \n",
    "                                       num_topics=5, \n",
    "                                       id2word = dictionary, \n",
    "                                       passes = 2, \n",
    "                                       workers=2)"
   ]
  },
  {
   "cell_type": "code",
   "execution_count": 66,
   "metadata": {},
   "outputs": [
    {
     "name": "stdout",
     "output_type": "stream",
     "text": [
      "Topic: 0 Word: 0.004*\"sudan\" + 0.003*\"evacu\" + 0.002*\"militari\" + 0.002*\"russia\" + 0.002*\"beach\" + 0.002*\"station\" + 0.002*\"employe\" + 0.002*\"parent\" + 0.002*\"incom\" + 0.002*\"bank\"\n",
      "\n",
      "\n",
      "Topic: 1 Word: 0.005*\"trump\" + 0.003*\"race\" + 0.002*\"leagu\" + 0.002*\"desanti\" + 0.002*\"champion\" + 0.002*\"tournament\" + 0.002*\"player\" + 0.002*\"round\" + 0.002*\"hospit\" + 0.002*\"republican\"\n",
      "\n",
      "\n",
      "Topic: 2 Word: 0.003*\"jet\" + 0.003*\"chines\" + 0.002*\"rocket\" + 0.002*\"beij\" + 0.002*\"ukrain\" + 0.002*\"flight\" + 0.002*\"starship\" + 0.002*\"spacex\" + 0.002*\"republican\" + 0.002*\"minist\"\n",
      "\n",
      "\n",
      "Topic: 3 Word: 0.003*\"plastic\" + 0.002*\"pollut\" + 0.002*\"race\" + 0.002*\"disney\" + 0.002*\"music\" + 0.002*\"trump\" + 0.002*\"vote\" + 0.002*\"asteroid\" + 0.002*\"fish\" + 0.002*\"republican\"\n",
      "\n",
      "\n",
      "Topic: 4 Word: 0.004*\"moon\" + 0.003*\"anim\" + 0.003*\"nasa\" + 0.003*\"telescop\" + 0.003*\"solar\" + 0.003*\"speci\" + 0.002*\"orbit\" + 0.002*\"bird\" + 0.002*\"galaxi\" + 0.002*\"australian\"\n",
      "\n",
      "\n"
     ]
    }
   ],
   "source": [
    "'''\n",
    "For each topic, we will explore the words occuring in that topic and its relative weight\n",
    "'''\n",
    "for idx, topic in lda_model_tfidf.print_topics(-1):\n",
    "    print(\"Topic: {} Word: {}\".format(idx, topic))\n",
    "    print(\"\\n\")"
   ]
  },
  {
   "cell_type": "code",
   "execution_count": 67,
   "metadata": {},
   "outputs": [
    {
     "data": {
      "text/html": [
       "\n",
       "<link rel=\"stylesheet\" type=\"text/css\" href=\"https://cdn.jsdelivr.net/gh/bmabey/pyLDAvis@3.4.0/pyLDAvis/js/ldavis.v1.0.0.css\">\n",
       "\n",
       "\n",
       "<div id=\"ldavis_el216901406898417544004187442477\" style=\"background-color:white;\"></div>\n",
       "<script type=\"text/javascript\">\n",
       "\n",
       "var ldavis_el216901406898417544004187442477_data = {\"mdsDat\": {\"x\": [0.029330571636783168, -0.03258010905815621, 0.001480775427902217, -0.010410243381772719, 0.012179005375243461], \"y\": [-0.023391893370136193, -0.012830499664078114, 0.020602129542939742, -0.0020953386357823903, 0.017715602127056976], \"topics\": [1, 2, 3, 4, 5], \"cluster\": [1, 1, 1, 1, 1], \"Freq\": [26.174132870993233, 24.839683309624167, 21.526071895158815, 15.535108123761795, 11.925003800461988]}, \"tinfo\": {\"Term\": [\"sudan\", \"jet\", \"trump\", \"plastic\", \"evacu\", \"disney\", \"militari\", \"telescop\", \"moon\", \"pollut\", \"asteroid\", \"taiwan\", \"starship\", \"race\", \"music\", \"speci\", \"galaxi\", \"beach\", \"solar\", \"sudanes\", \"erupt\", \"deposit\", \"webb\", \"anim\", \"desanti\", \"chines\", \"dive\", \"tenni\", \"austin\", \"bank\", \"telescop\", \"jupit\", \"galaxi\", \"webb\", \"meteor\", \"magnet\", \"solar\", \"juic\", \"hubbl\", \"hemispher\", \"saturn\", \"clock\", \"astronom\", \"teeth\", \"infrar\", \"habit\", \"intrigu\", \"comet\", \"infect\", \"australian\", \"cell\", \"glow\", \"observatori\", \"moon\", \"remnant\", \"skeleton\", \"ring\", \"cosmic\", \"outer\", \"celesti\", \"anim\", \"bone\", \"temperatur\", \"male\", \"sleep\", \"speci\", \"orbit\", \"abort\", \"bird\", \"nasa\", \"egg\", \"mar\", \"australia\", \"fossil\", \"discov\", \"heat\", \"drug\", \"eclips\", \"spacecraft\", \"energi\", \"medic\", \"black\", \"minist\", \"tenni\", \"nomin\", \"kennedi\", \"tournament\", \"hay\", \"vega\", \"desanti\", \"trump\", \"augusta\", \"master\", \"jerusalem\", \"jackson\", \"gestur\", \"champion\", \"primari\", \"madrid\", \"factori\", \"resum\", \"rome\", \"ball\", \"candidaci\", \"grand\", \"donald\", \"prix\", \"robert\", \"relianc\", \"laugh\", \"carlo\", \"player\", \"italian\", \"newspap\", \"poll\", \"golf\", \"patient\", \"teacher\", \"race\", \"candid\", \"isra\", \"leagu\", \"hospit\", \"round\", \"presidenti\", \"titl\", \"club\", \"book\", \"goal\", \"republican\", \"injuri\", \"hole\", \"black\", \"match\", \"pollut\", \"jet\", \"draft\", \"starship\", \"aaron\", \"mask\", \"quarterback\", \"migrant\", \"mexican\", \"bath\", \"estat\", \"oklahoma\", \"ladi\", \"kyiv\", \"booster\", \"bottl\", \"hurrican\", \"airlin\", \"bankruptci\", \"chad\", \"navi\", \"jinp\", \"airplan\", \"adam\", \"mediat\", \"sovereignti\", \"debt\", \"authent\", \"missil\", \"chines\", \"brazil\", \"flight\", \"spacex\", \"pick\", \"beij\", \"tiger\", \"trade\", \"georgia\", \"playoff\", \"rocket\", \"ukrain\", \"fuel\", \"border\", \"victim\", \"minist\", \"price\", \"russia\", \"militari\", \"republican\", \"green\", \"engin\", \"russian\", \"lake\", \"bird\", \"vehicl\", \"moon\", \"contain\", \"plastic\", \"disney\", \"dive\", \"discrimin\", \"atlanta\", \"empir\", \"homeland\", \"music\", \"layoff\", \"postpon\", \"drag\", \"chile\", \"sheriff\", \"desir\", \"asteroid\", \"tennesse\", \"philadelphia\", \"medal\", \"successor\", \"musician\", \"tenur\", \"grain\", \"youth\", \"elector\", \"wisdom\", \"spill\", \"pump\", \"reviv\", \"contamin\", \"pollut\", \"peter\", \"meat\", \"anxieti\", \"instagram\", \"fish\", \"convers\", \"nativ\", \"smith\", \"vote\", \"race\", \"career\", \"counti\", \"environment\", \"connect\", \"rocket\", \"energi\", \"titl\", \"trump\", \"republican\", \"hunter\", \"ukrain\", \"plant\", \"west\", \"letter\", \"nasa\", \"russian\", \"florida\", \"sudan\", \"sudanes\", \"deposit\", \"civilian\", \"evacu\", \"faction\", \"mail\", \"dragon\", \"antarctica\", \"royal\", \"erupt\", \"expedit\", \"accumul\", \"dissent\", \"guardian\", \"taiwan\", \"egypt\", \"clash\", \"twin\", \"husband\", \"embassi\", \"submit\", \"paramilitari\", \"afghanistan\", \"extens\", \"smell\", \"ceasefir\", \"nest\", \"incom\", \"sampl\", \"beach\", \"militari\", \"citizen\", \"bank\", \"employe\", \"weapon\", \"island\", \"station\", \"austin\", \"russia\", \"arm\", \"river\", \"parent\", \"film\", \"survey\", \"crew\", \"district\", \"speci\", \"employ\", \"king\", \"nasa\", \"russian\", \"florida\"], \"Freq\": [6.0, 5.0, 15.0, 5.0, 5.0, 4.0, 8.0, 7.0, 14.0, 8.0, 4.0, 4.0, 4.0, 11.0, 4.0, 10.0, 6.0, 6.0, 8.0, 2.0, 4.0, 2.0, 5.0, 11.0, 6.0, 9.0, 3.0, 5.0, 4.0, 6.0, 5.912397119499218, 3.7358138531571057, 4.653257944332133, 4.216828510005166, 2.6264527642393936, 2.026020319902531, 5.584826291607672, 2.2408221427231716, 2.097661062170411, 2.0549130554765043, 1.4153196501165661, 2.1476088546642074, 3.830589910438707, 1.3683320578151006, 2.328837950806738, 2.196995092911522, 1.3382966015529942, 3.067966970483447, 3.295896923668961, 4.576660157671402, 2.925413619725288, 1.339771115897371, 2.050275019574691, 8.478080876368638, 1.4269853065353626, 1.395746058698901, 2.778333575717635, 1.5314401062606409, 1.4975314897083087, 1.5608678327281458, 6.617452060242834, 2.1162179226347306, 3.745933497608631, 3.2049283630621153, 2.879937407730004, 5.495125076017754, 4.849903218899972, 4.139486452950555, 4.659276653948275, 5.920620835665869, 2.5646666535326235, 3.1377089295266503, 4.009686490676161, 2.8548784839281014, 3.0141957929542524, 2.810226977152452, 3.162051139310165, 3.061704970344957, 2.8866266558164146, 3.0766524421312913, 3.0859692278590662, 3.0631168001414837, 2.893041084914825, 3.787711855197207, 2.7371935633301576, 3.2176487890362773, 4.128512660424454, 2.1622354632361795, 2.983320213923634, 4.170420012586698, 9.268355305007741, 1.8459954677971309, 2.9058054185065796, 2.275000063100211, 3.0463084654583232, 1.6544172169510984, 4.142147227675423, 2.896386418573512, 2.2431028279783183, 1.9333586417554725, 1.292703965413066, 1.5114472161411006, 2.7388698479927, 1.135713368902405, 2.7399201469421888, 2.9091377263445275, 1.5129431500082562, 3.0457651748846306, 1.1500719309204845, 1.4731866960648012, 1.6101603568763883, 4.089962118363673, 1.7483832797291743, 3.42384782323973, 2.8240741133768736, 3.133010902897185, 2.3951657601376932, 3.130014794386496, 5.502610435847186, 3.054721930192553, 3.0643567385234967, 4.4222189371837395, 3.9126067246916407, 3.9894995395733317, 3.1913804777594246, 3.4516107725909566, 3.023535025113888, 3.4667597682060607, 3.4082935978818893, 3.8187611706422917, 3.1691321868897337, 3.0625826804055847, 3.1582998304295278, 2.958690020321926, 2.961880968947291, 4.779303280721032, 2.6696240319053572, 3.3216857572737553, 2.3157444023778795, 2.03293997091454, 2.3984921946443425, 2.9493534613347774, 2.3429408465667283, 2.898910646946207, 1.6742995089438693, 2.0790617347058147, 1.8748843355294815, 1.1124339980383644, 1.6495158418970328, 2.154988824963968, 1.3354603572951333, 1.6551642006559721, 1.7688781270424483, 1.195603094779762, 1.7673793162110956, 1.0653631507231094, 0.9441390407621232, 1.5575018012201431, 0.8386573956490789, 1.192328618807383, 2.536180867152193, 1.2175924933294056, 1.8701931250033963, 4.71682322478716, 2.4308280021688145, 3.5274142347617334, 3.1488802797841586, 2.5245188897818025, 3.7562433051801802, 1.8403134807129762, 2.8265171241936007, 2.166426215504977, 2.271560414584476, 3.7634276336822423, 3.619973817264175, 2.681349506097509, 2.2330045727353673, 2.679047491096351, 3.112704241647112, 2.584678963768166, 3.0843193247911467, 2.8461884804092623, 3.121369822373866, 2.505326720192103, 2.4926149014792776, 2.714361932487953, 2.4166043057545634, 2.582308143529279, 2.5860807939231947, 2.5566084684733346, 2.405684077430666, 3.4596269464069587, 2.416867602437247, 1.929829711139195, 1.2674315857998566, 1.3387368911049875, 1.011613297181567, 1.6081022564986522, 2.3837674406589455, 1.3648040365512744, 1.1635710813382836, 1.4910032934072992, 1.193793704913993, 1.757878200984373, 1.2849800158155198, 2.1461491501822785, 1.9437528172807954, 1.3733707870811884, 1.0700776122015074, 0.8528970040240573, 0.6914750528581964, 0.7225575194458996, 1.0413377407858, 1.0675955531599457, 0.857327505198958, 0.6497282048402718, 1.3942063797657862, 0.6630908769323275, 0.7788394054071229, 1.0167758915798573, 3.0497608310985576, 1.1440224904167324, 1.1569473211052856, 0.989130218468848, 1.5000592357459392, 2.1326337529969264, 1.4358314455457855, 1.485605680655118, 1.613241128041158, 2.235276508752712, 2.5850952136216097, 1.6408229999313306, 1.8464474093826821, 1.7304175956178696, 1.5906580007627389, 1.9634022671761635, 1.8466264359030442, 1.801873931526598, 2.3003531646185493, 2.0593401482138, 1.5971726505938206, 1.7945734805160178, 1.691337948059478, 1.5730557891175019, 1.6220642622298622, 1.7354502300236008, 1.6513809968778472, 1.604452325687223, 4.026664421215358, 1.3730899268374055, 1.4110204496980607, 1.2401369711589791, 2.4624287688182624, 0.5859513853811804, 0.7397671239650675, 0.9450509199273701, 0.8518609726804491, 1.2986217805269533, 1.5870177862203445, 0.6688298617275725, 0.6093703055367988, 0.6085463854589752, 0.831986509308247, 1.5507974248775276, 0.8125950082165455, 0.8667017701670778, 0.6199595645780558, 1.232801034261792, 0.7322656565532406, 0.6556755866213992, 0.6189292827482947, 0.9242435589229504, 1.0910341866231106, 0.7880535683530049, 0.6432463770185396, 0.9080717309639725, 1.6666474081065261, 1.1635562324655784, 1.9626435661273736, 2.394093791046486, 1.282452610557107, 1.6609253795888388, 1.780387287282827, 1.3208180256820539, 1.6299638780192947, 1.781880398539241, 1.2538871448072642, 1.9879164054257754, 1.1612924174669321, 1.459338846508537, 1.7404068327191757, 1.3330619677871476, 1.3193164314816028, 1.3407358651747645, 1.3445233300283577, 1.6179109718139115, 1.2600915700758497, 1.2545226869745085, 1.3765620523846671, 1.3078513367450164, 1.2841572298848412], \"Total\": [6.0, 5.0, 15.0, 5.0, 5.0, 4.0, 8.0, 7.0, 14.0, 8.0, 4.0, 4.0, 4.0, 11.0, 4.0, 10.0, 6.0, 6.0, 8.0, 2.0, 4.0, 2.0, 5.0, 11.0, 6.0, 9.0, 3.0, 5.0, 4.0, 6.0, 7.832484612667464, 5.022330305970757, 6.328042703588861, 5.751051400750561, 3.6888952571388343, 2.8920065170917364, 8.142437511768732, 3.285754723134546, 3.1211877896057416, 3.093045148717173, 2.148570892485839, 3.283094965512623, 5.891545093653848, 2.1180156752037425, 3.6600231310352442, 3.454685387893965, 2.129592580278854, 4.909622062668847, 5.2792331697249875, 7.487659726665031, 4.804643393638392, 2.2118213174905175, 3.3905461515340214, 14.032990276402877, 2.3688494545463565, 2.3183156199918655, 4.62371977397253, 2.5533954332795257, 2.5005201149362377, 2.6072457952903525, 11.460168414754408, 3.5842322200304757, 6.5458610082793705, 5.697933603507113, 5.118985655399783, 10.51338990563043, 9.246752432357951, 7.76257022850689, 8.992389554507103, 13.029478922148764, 4.575595472685829, 6.049391276002298, 9.110370735749333, 5.331788318420994, 5.950711437500211, 5.37472245047763, 6.758458342173469, 6.353773660957628, 6.177918938805931, 8.081715425226413, 8.661030299576826, 8.991040866463624, 8.885212568063894, 5.418202803338004, 3.9991031882792156, 4.74202049768228, 6.134112593138133, 3.2635080782048864, 4.791563657261328, 6.75148995624642, 15.105252406015525, 3.0206211347562695, 4.7762467819995695, 3.768570760334613, 5.047373359025717, 2.8132110658125833, 7.0526177503353376, 4.953670188225208, 3.887169435429508, 3.3788615295860787, 2.2729372780642, 2.666523444868973, 4.83598381949996, 2.017050195584768, 4.895459307982752, 5.201309301502332, 2.7058643297399074, 5.451492168776376, 2.0655932463655633, 2.6534170829079096, 2.9038052450062497, 7.377625904600917, 3.179742270033845, 6.328289025453752, 5.301968362043152, 5.933636415360144, 4.454690691824754, 5.940309712562274, 11.106663805697613, 5.848651575968413, 5.9417619387450324, 9.130197194698491, 8.672504129578824, 9.285129576060841, 6.765758198278419, 7.784498818846832, 6.439777825487216, 8.550181226143637, 8.302050296559038, 11.26448399103244, 7.300761200140534, 7.133572856154284, 8.991040866463624, 6.652612119835281, 8.081624310148298, 5.731453776342143, 3.884706298246054, 4.90690304956353, 3.5260720885940056, 3.434989675162718, 4.267280066959966, 5.290877395530502, 4.216838309045334, 5.22061904068835, 3.080071712794996, 3.8837352261555607, 3.55242393483664, 2.1099683176243613, 3.1344383900999313, 4.106930215339237, 2.581807125341665, 3.2112004226756587, 3.4490344084251072, 2.3805299706112244, 3.5246251605332817, 2.1656910360554105, 1.9359326132415795, 3.1940889944464073, 1.7216146674248431, 2.449092912594446, 5.216775546749218, 2.5103930550377385, 3.8973586066686075, 9.867222820652247, 5.089924996317933, 7.4699700699483005, 6.685713444812808, 5.382797250405795, 8.274069849635271, 3.8804836578229516, 6.1798249075808, 4.65620474136252, 4.965983067125095, 9.210431219975565, 9.247403864783045, 6.754078116581741, 5.156228035624507, 6.91449842622735, 8.885212568063894, 6.665397809132262, 10.037746262011817, 8.787626976435106, 11.26448399103244, 6.8600441935603875, 7.1740791729390025, 9.719770502414056, 6.563952661114581, 8.992389554507103, 9.132275167665973, 14.032990276402877, 6.514289766685145, 5.822306752094709, 4.257347574626172, 3.6568218128171104, 2.5614087778824173, 2.720930113318169, 2.059967001660639, 3.326542240925898, 4.976222957606956, 2.861777776271019, 2.470758079857823, 3.243867731188363, 2.648783467920342, 3.9133855521732115, 2.9266004686517104, 4.913971841159601, 4.539346996966692, 3.245209948905896, 2.5898391509390537, 2.075416771858178, 1.6934234129815988, 1.776711648600806, 2.5908303335903304, 2.674670705949578, 2.196021792140768, 1.6917798528621344, 3.65591889649297, 1.7496176295158674, 2.0576179306681737, 2.688402357135443, 8.081624310148298, 3.1053770542969747, 3.17279006737317, 2.6721730589189594, 4.279090606189853, 6.539587815823957, 4.1456468426816, 4.346676682201534, 5.0116582885777, 7.919279792419244, 11.106663805697613, 5.50252534478866, 7.3320557254739525, 6.7260448066227685, 5.7748305196828955, 9.210431219975565, 8.081715425226413, 7.784498818846832, 15.105252406015525, 11.26448399103244, 5.878905912654774, 9.247403864783045, 7.887009610932282, 6.2421482968075095, 7.657518545381097, 13.029478922148764, 9.719770502414056, 8.253040444321487, 6.3602873788406455, 2.4665842493623793, 2.969801422176431, 2.8712462549261435, 5.890090327942344, 1.439622720340092, 1.8421562868916457, 2.405509253087638, 2.2038085176597795, 3.3892594490420125, 4.155649919335726, 1.7921068956893462, 1.640344120052458, 1.6458483604149208, 2.3712313146901853, 4.440303027121889, 2.339227758493708, 2.5036861319579744, 1.7930071308975224, 3.567835253695959, 2.1647368449421123, 1.9741755284481783, 1.8666187316655045, 2.8037233154758177, 3.3570544776076856, 2.4608747287672292, 2.036021661382883, 2.880721664840551, 5.304004403431137, 3.7137243041444385, 6.414331609649916, 8.787626976435106, 4.300911010037772, 6.264170594429917, 6.8473588465594775, 4.811362924927001, 6.944155781128809, 7.977592900591294, 4.818484684589521, 10.037746262011817, 4.2931496591184874, 6.355459762532617, 8.745087766014535, 5.724956815348007, 5.848216700747505, 6.099344914328464, 6.230565792269626, 10.51338990563043, 6.343687542035257, 6.456962131760564, 13.029478922148764, 9.719770502414056, 8.253040444321487], \"Category\": [\"Default\", \"Default\", \"Default\", \"Default\", \"Default\", \"Default\", \"Default\", \"Default\", \"Default\", \"Default\", \"Default\", \"Default\", \"Default\", \"Default\", \"Default\", \"Default\", \"Default\", \"Default\", \"Default\", \"Default\", \"Default\", \"Default\", \"Default\", \"Default\", \"Default\", \"Default\", \"Default\", \"Default\", \"Default\", \"Default\", \"Topic1\", \"Topic1\", \"Topic1\", \"Topic1\", \"Topic1\", \"Topic1\", \"Topic1\", \"Topic1\", \"Topic1\", \"Topic1\", \"Topic1\", \"Topic1\", \"Topic1\", \"Topic1\", \"Topic1\", \"Topic1\", \"Topic1\", \"Topic1\", \"Topic1\", \"Topic1\", \"Topic1\", \"Topic1\", \"Topic1\", \"Topic1\", \"Topic1\", \"Topic1\", \"Topic1\", \"Topic1\", \"Topic1\", \"Topic1\", \"Topic1\", \"Topic1\", \"Topic1\", \"Topic1\", \"Topic1\", \"Topic1\", \"Topic1\", \"Topic1\", \"Topic1\", \"Topic1\", \"Topic1\", \"Topic1\", \"Topic1\", \"Topic1\", \"Topic1\", \"Topic1\", \"Topic1\", \"Topic1\", \"Topic1\", \"Topic1\", \"Topic1\", \"Topic1\", \"Topic1\", \"Topic2\", \"Topic2\", \"Topic2\", \"Topic2\", \"Topic2\", \"Topic2\", \"Topic2\", \"Topic2\", \"Topic2\", \"Topic2\", \"Topic2\", \"Topic2\", \"Topic2\", \"Topic2\", \"Topic2\", \"Topic2\", \"Topic2\", \"Topic2\", \"Topic2\", \"Topic2\", \"Topic2\", \"Topic2\", \"Topic2\", \"Topic2\", \"Topic2\", \"Topic2\", \"Topic2\", \"Topic2\", \"Topic2\", \"Topic2\", \"Topic2\", \"Topic2\", \"Topic2\", \"Topic2\", \"Topic2\", \"Topic2\", \"Topic2\", \"Topic2\", \"Topic2\", \"Topic2\", \"Topic2\", \"Topic2\", \"Topic2\", \"Topic2\", \"Topic2\", \"Topic2\", \"Topic2\", \"Topic2\", \"Topic2\", \"Topic2\", \"Topic2\", \"Topic2\", \"Topic3\", \"Topic3\", \"Topic3\", \"Topic3\", \"Topic3\", \"Topic3\", \"Topic3\", \"Topic3\", \"Topic3\", \"Topic3\", \"Topic3\", \"Topic3\", \"Topic3\", \"Topic3\", \"Topic3\", \"Topic3\", \"Topic3\", \"Topic3\", \"Topic3\", \"Topic3\", \"Topic3\", \"Topic3\", \"Topic3\", \"Topic3\", \"Topic3\", \"Topic3\", \"Topic3\", \"Topic3\", \"Topic3\", \"Topic3\", \"Topic3\", \"Topic3\", \"Topic3\", \"Topic3\", \"Topic3\", \"Topic3\", \"Topic3\", \"Topic3\", \"Topic3\", \"Topic3\", \"Topic3\", \"Topic3\", \"Topic3\", \"Topic3\", \"Topic3\", \"Topic3\", \"Topic3\", \"Topic3\", \"Topic3\", \"Topic3\", \"Topic3\", \"Topic3\", \"Topic3\", \"Topic3\", \"Topic3\", \"Topic3\", \"Topic4\", \"Topic4\", \"Topic4\", \"Topic4\", \"Topic4\", \"Topic4\", \"Topic4\", \"Topic4\", \"Topic4\", \"Topic4\", \"Topic4\", \"Topic4\", \"Topic4\", \"Topic4\", \"Topic4\", \"Topic4\", \"Topic4\", \"Topic4\", \"Topic4\", \"Topic4\", \"Topic4\", \"Topic4\", \"Topic4\", \"Topic4\", \"Topic4\", \"Topic4\", \"Topic4\", \"Topic4\", \"Topic4\", \"Topic4\", \"Topic4\", \"Topic4\", \"Topic4\", \"Topic4\", \"Topic4\", \"Topic4\", \"Topic4\", \"Topic4\", \"Topic4\", \"Topic4\", \"Topic4\", \"Topic4\", \"Topic4\", \"Topic4\", \"Topic4\", \"Topic4\", \"Topic4\", \"Topic4\", \"Topic4\", \"Topic4\", \"Topic4\", \"Topic4\", \"Topic4\", \"Topic4\", \"Topic4\", \"Topic4\", \"Topic4\", \"Topic5\", \"Topic5\", \"Topic5\", \"Topic5\", \"Topic5\", \"Topic5\", \"Topic5\", \"Topic5\", \"Topic5\", \"Topic5\", \"Topic5\", \"Topic5\", \"Topic5\", \"Topic5\", \"Topic5\", \"Topic5\", \"Topic5\", \"Topic5\", \"Topic5\", \"Topic5\", \"Topic5\", \"Topic5\", \"Topic5\", \"Topic5\", \"Topic5\", \"Topic5\", \"Topic5\", \"Topic5\", \"Topic5\", \"Topic5\", \"Topic5\", \"Topic5\", \"Topic5\", \"Topic5\", \"Topic5\", \"Topic5\", \"Topic5\", \"Topic5\", \"Topic5\", \"Topic5\", \"Topic5\", \"Topic5\", \"Topic5\", \"Topic5\", \"Topic5\", \"Topic5\", \"Topic5\", \"Topic5\", \"Topic5\", \"Topic5\", \"Topic5\", \"Topic5\", \"Topic5\"], \"logprob\": [30.0, 29.0, 28.0, 27.0, 26.0, 25.0, 24.0, 23.0, 22.0, 21.0, 20.0, 19.0, 18.0, 17.0, 16.0, 15.0, 14.0, 13.0, 12.0, 11.0, 10.0, 9.0, 8.0, 7.0, 6.0, 5.0, 4.0, 3.0, 2.0, 1.0, -5.888, -6.3471, -6.1275, -6.226, -6.6994, -6.959, -5.945, -6.8582, -6.9242, -6.9448, -7.3177, -6.9007, -6.322, -7.3515, -6.8197, -6.878, -7.3737, -6.544, -6.4724, -6.1441, -6.5916, -7.3726, -6.9471, -5.5276, -7.3095, -7.3316, -6.6432, -7.2388, -7.2612, -7.2198, -5.7753, -6.9154, -6.3444, -6.5004, -6.6073, -5.9612, -6.0861, -6.2445, -6.1262, -5.8866, -6.7232, -6.5216, -6.2763, -6.616, -6.5617, -6.6318, -6.5138, -6.5461, -6.605, -6.5412, -6.5382, -6.5456, -6.6027, -6.281, -6.6058, -6.4441, -6.1948, -6.8416, -6.5197, -6.1847, -5.3861, -6.9997, -6.546, -6.7907, -6.4988, -7.1093, -6.1915, -6.5493, -6.8049, -6.9535, -7.356, -7.1997, -6.6052, -7.4855, -6.6048, -6.5449, -7.1987, -6.499, -7.4729, -7.2253, -7.1364, -6.2042, -7.054, -6.382, -6.5745, -6.4707, -6.7393, -6.4717, -5.9075, -6.496, -6.4929, -6.1261, -6.2485, -6.2291, -6.4523, -6.3739, -6.5063, -6.3695, -6.3865, -6.2728, -6.4593, -6.4935, -6.4627, -6.528, -6.5269, -5.9052, -6.4876, -6.2691, -6.6298, -6.7601, -6.5947, -6.388, -6.6181, -6.4052, -6.9541, -6.7376, -6.841, -7.363, -6.9691, -6.7018, -7.1803, -6.9656, -6.8992, -7.2909, -6.9, -7.4062, -7.527, -7.0265, -7.6455, -7.2936, -6.5389, -7.2727, -6.8435, -5.9184, -6.5813, -6.209, -6.3225, -6.5435, -6.1461, -6.8596, -6.4305, -6.6965, -6.6491, -6.1442, -6.1831, -6.4832, -6.6662, -6.4841, -6.3341, -6.5199, -6.3432, -6.4236, -6.3313, -6.5511, -6.5562, -6.471, -6.5872, -6.5209, -6.5194, -6.5309, -6.5917, -5.9022, -6.2609, -6.4859, -6.9064, -6.8517, -7.1318, -6.6683, -6.2747, -6.8324, -6.9919, -6.7439, -6.9662, -6.5793, -6.8926, -6.3797, -6.4788, -6.8261, -7.0756, -7.3025, -7.5123, -7.4683, -7.1029, -7.078, -7.2973, -7.5746, -6.8111, -7.5542, -7.3933, -7.1267, -6.0283, -7.0088, -6.9976, -7.1543, -6.7379, -6.386, -6.7816, -6.7476, -6.6651, -6.339, -6.1936, -6.6482, -6.5301, -6.595, -6.6792, -6.4687, -6.53, -6.5546, -6.3103, -6.421, -6.6751, -6.5586, -6.6179, -6.6904, -6.6597, -6.5921, -6.6418, -6.6706, -5.486, -6.5619, -6.5346, -6.6637, -5.9778, -7.4134, -7.1803, -6.9354, -7.0392, -6.6176, -6.4171, -7.2811, -7.3742, -7.3756, -7.0629, -6.4401, -7.0864, -7.022, -7.357, -6.6696, -7.1905, -7.301, -7.3587, -6.9577, -6.7918, -7.1171, -7.3201, -6.9753, -6.3681, -6.7274, -6.2046, -6.0059, -6.6301, -6.3715, -6.3021, -6.6007, -6.3904, -6.3012, -6.6527, -6.1918, -6.7294, -6.5009, -6.3248, -6.5914, -6.6018, -6.5857, -6.5829, -6.3978, -6.6477, -6.6522, -6.5593, -6.6105, -6.6288], \"loglift\": [30.0, 29.0, 28.0, 27.0, 26.0, 25.0, 24.0, 23.0, 22.0, 21.0, 20.0, 19.0, 18.0, 17.0, 16.0, 15.0, 14.0, 13.0, 12.0, 11.0, 10.0, 9.0, 8.0, 7.0, 6.0, 5.0, 4.0, 3.0, 2.0, 1.0, 1.0592, 1.0445, 1.033, 1.0301, 1.0007, 0.9845, 0.9634, 0.9576, 0.943, 0.9315, 0.923, 0.916, 0.9099, 0.9035, 0.8883, 0.8878, 0.8759, 0.8702, 0.8693, 0.8481, 0.8443, 0.8391, 0.8374, 0.8365, 0.8336, 0.833, 0.8311, 0.8292, 0.8277, 0.8273, 0.7912, 0.8135, 0.7822, 0.765, 0.7652, 0.6916, 0.6951, 0.7117, 0.6829, 0.5516, 0.7615, 0.6839, 0.5197, 0.7157, 0.6602, 0.692, 0.5808, 0.6103, 0.5795, 0.3746, 0.3084, 0.2636, 0.2183, 1.0347, 1.0136, 1.0049, 0.9968, 0.9811, 0.9189, 0.911, 0.9043, 0.9003, 0.8958, 0.888, 0.8878, 0.8618, 0.8605, 0.8561, 0.8429, 0.8344, 0.8284, 0.825, 0.8242, 0.8184, 0.8123, 0.8117, 0.8114, 0.8106, 0.8071, 0.8043, 0.803, 0.8028, 0.7946, 0.7785, 0.7628, 0.7541, 0.7722, 0.752, 0.6904, 0.7432, 0.7306, 0.6678, 0.5968, 0.548, 0.6413, 0.5794, 0.6367, 0.49, 0.5024, 0.311, 0.5582, 0.5472, 0.3465, 0.5825, 0.389, 1.3542, 1.1608, 1.1457, 1.1155, 1.0114, 0.9598, 0.9515, 0.9482, 0.9476, 0.9263, 0.911, 0.8968, 0.8958, 0.8939, 0.891, 0.8767, 0.8732, 0.8682, 0.8472, 0.8456, 0.8265, 0.8178, 0.8177, 0.8167, 0.8161, 0.8147, 0.8123, 0.8016, 0.7978, 0.7969, 0.7856, 0.783, 0.7787, 0.7462, 0.7899, 0.7537, 0.7708, 0.7538, 0.6409, 0.598, 0.6121, 0.699, 0.5877, 0.487, 0.5886, 0.3559, 0.4085, 0.2525, 0.5286, 0.4788, 0.2603, 0.5367, 0.2882, 0.2742, -0.1668, 0.5397, 1.3415, 1.2959, 1.2229, 1.1585, 1.1528, 1.1509, 1.1352, 1.1261, 1.1216, 1.109, 1.0848, 1.0651, 1.0618, 1.039, 1.0337, 1.0139, 1.0022, 0.9782, 0.9728, 0.9664, 0.9623, 0.9506, 0.9437, 0.9215, 0.9051, 0.898, 0.8918, 0.8906, 0.8898, 0.8875, 0.8635, 0.8532, 0.8682, 0.8138, 0.7416, 0.8018, 0.7885, 0.7285, 0.5971, 0.4043, 0.6521, 0.4831, 0.5044, 0.5727, 0.3164, 0.3858, 0.3988, -0.0199, 0.1628, 0.5589, 0.2225, 0.3224, 0.4838, 0.3101, -0.1539, 0.0895, 0.2243, 1.6694, 1.5408, 1.3824, 1.287, 1.2544, 1.2276, 1.2142, 1.1923, 1.176, 1.1672, 1.1639, 1.1409, 1.1363, 1.1316, 1.0792, 1.0746, 1.0692, 1.0657, 1.0645, 1.0639, 1.0426, 1.0243, 1.0226, 1.0168, 1.0026, 0.9878, 0.9743, 0.9721, 0.9689, 0.966, 0.9423, 0.8262, 0.9165, 0.7991, 0.7795, 0.8338, 0.6772, 0.6276, 0.7803, 0.5073, 0.819, 0.6552, 0.5122, 0.6692, 0.6375, 0.6116, 0.5931, 0.255, 0.5103, 0.4881, -0.1211, 0.1208, 0.2661]}, \"token.table\": {\"Topic\": [3, 1, 2, 4, 5, 5, 2, 3, 1, 3, 5, 1, 3, 3, 1, 2, 3, 4, 5, 5, 2, 4, 1, 2, 3, 5, 1, 4, 1, 3, 4, 5, 2, 4, 2, 1, 3, 5, 1, 2, 3, 4, 5, 1, 2, 5, 3, 1, 2, 3, 1, 2, 3, 4, 5, 1, 3, 1, 3, 5, 1, 2, 3, 4, 5, 1, 2, 3, 4, 1, 2, 3, 4, 5, 1, 2, 3, 4, 5, 1, 1, 2, 3, 4, 3, 4, 1, 2, 3, 4, 3, 4, 1, 2, 3, 1, 2, 3, 4, 2, 1, 2, 3, 4, 2, 1, 5, 1, 1, 2, 3, 1, 2, 3, 4, 1, 4, 1, 2, 3, 4, 5, 1, 2, 3, 5, 3, 5, 2, 5, 1, 1, 2, 3, 5, 1, 3, 4, 1, 2, 3, 4, 5, 1, 2, 3, 4, 5, 2, 4, 1, 2, 3, 4, 5, 1, 1, 2, 3, 4, 5, 1, 2, 3, 4, 5, 1, 3, 4, 5, 4, 5, 1, 2, 4, 5, 1, 4, 1, 2, 3, 4, 5, 1, 4, 4, 5, 5, 1, 2, 3, 4, 5, 1, 4, 1, 2, 3, 4, 3, 2, 4, 2, 5, 1, 2, 3, 4, 5, 1, 2, 3, 1, 5, 1, 5, 2, 4, 5, 4, 1, 2, 3, 4, 5, 1, 2, 3, 4, 5, 1, 2, 3, 4, 5, 1, 2, 3, 4, 1, 2, 3, 4, 5, 1, 2, 3, 5, 1, 3, 1, 2, 3, 5, 5, 1, 3, 5, 5, 1, 2, 1, 2, 3, 4, 5, 1, 2, 3, 4, 5, 1, 2, 3, 4, 5, 1, 2, 3, 4, 5, 1, 2, 3, 5, 1, 2, 3, 4, 5, 1, 2, 1, 3, 4, 2, 1, 1, 2, 3, 4, 2, 4, 5, 1, 4, 1, 2, 4, 1, 2, 3, 4, 5, 1, 5, 1, 2, 1, 2, 3, 4, 1, 1, 2, 3, 4, 3, 4, 1, 2, 3, 4, 5, 1, 1, 2, 3, 4, 3, 1, 2, 3, 5, 1, 2, 3, 4, 5, 1, 3, 1, 1, 2, 3, 5, 2, 3, 4, 1, 1, 2, 3, 4, 5, 1, 2, 3, 4, 2, 3, 2, 3, 1, 2, 3, 3, 1, 1, 2, 3, 1, 2, 3, 4, 5, 3, 1, 3, 1, 2, 3, 5, 2, 4, 5, 1, 2, 3, 4, 1, 2, 3, 4, 2, 3, 1, 5, 1, 2, 3, 4, 1, 2, 3, 4, 5, 2, 3, 2, 3, 4, 1, 2, 3, 4, 1, 4, 1, 4, 3, 1, 2, 3, 4, 5, 1, 1, 3, 5, 1, 2, 3, 1, 2, 3, 4, 5, 1, 2, 3, 4, 5, 1, 3, 5, 1, 2, 3, 4, 2, 3, 4, 4, 1, 2, 3, 4, 5, 1, 2, 3, 4, 5, 3, 4, 1, 5, 2, 3, 4, 5, 2, 1, 1, 3, 1, 2, 3, 4, 1, 1, 5, 1, 2, 3, 4, 5, 1, 2, 3, 1, 2, 3, 4, 2, 3, 4, 1, 2, 3, 4, 5, 1, 2, 3, 4, 5, 2, 3, 4, 5, 1, 2, 3, 2, 3, 4, 1, 2, 3, 1, 2, 3, 4, 1, 4, 1, 2, 3, 4, 5, 1, 2, 3, 4, 1, 2, 3, 2, 4, 2, 3, 4, 1, 2, 3, 4, 5, 2, 1, 1, 2, 3, 4, 5, 2, 1, 4, 1, 2, 3, 1, 2, 4, 5, 1, 2, 3, 5, 1, 2, 3, 4, 2, 1, 2, 3, 4, 1, 5, 1, 2, 3, 4, 5, 1, 2, 3, 4, 5, 1, 3, 4, 5, 1, 1, 2, 4, 5, 1, 1, 2, 4, 3, 5, 1, 2, 3, 4, 5, 1, 2, 3, 4, 1, 3, 1, 2, 3, 4, 5, 1, 3, 4, 1, 2, 3, 4, 5, 2, 4, 5, 3, 4, 1, 2, 3, 4, 5, 5, 4, 1, 3, 5, 5, 1, 2, 3, 4, 5, 2, 3, 5, 1, 2, 4, 1, 1, 3, 1, 2, 3, 4, 5, 1, 2, 4, 1, 2, 4, 2, 3, 1, 2, 3, 4, 5, 1, 2, 3, 1, 2, 3, 4, 5, 1, 2, 3, 4, 5, 3, 5, 1, 2, 3, 4, 5, 2, 3, 1, 2, 3, 4, 1, 2, 3, 4, 5, 1, 2, 3, 4, 5, 1, 2, 3, 4, 5, 1, 1, 2, 3, 4, 5, 4, 2, 4], \"Freq\": [0.5672033780788313, 0.5152932446666431, 0.12882331116666076, 0.12882331116666076, 0.12882331116666076, 0.6096281797065972, 0.31307831489313837, 0.6261566297862767, 0.3566685751337381, 0.3566685751337381, 0.3566685751337381, 0.3114100237838076, 0.6228200475676152, 0.5165469051764008, 0.6108112679206216, 0.0872587525600888, 0.1745175051201776, 0.0872587525600888, 0.0872587525600888, 0.45375993058684533, 0.37422725921971345, 0.37422725921971345, 0.23292921966417776, 0.23292921966417776, 0.23292921966417776, 0.23292921966417776, 0.4070027392603128, 0.4070027392603128, 0.6789390450916942, 0.16973476127292356, 0.16973476127292356, 0.16973476127292356, 0.3675213836273442, 0.3675213836273442, 0.6621154758494324, 0.20753412441014918, 0.41506824882029836, 0.20753412441014918, 0.4390600685770004, 0.32929505143275034, 0.1097650171442501, 0.1097650171442501, 0.1097650171442501, 0.6677653876543047, 0.2671061550617219, 0.13355307753086096, 0.39834399557202693, 0.20678315671109915, 0.6203494701332974, 0.20678315671109915, 0.1596380534222994, 0.1596380534222994, 0.3192761068445988, 0.1596380534222994, 0.3192761068445988, 0.28993622028161165, 0.5798724405632233, 0.19154816549650938, 0.5746444964895281, 0.19154816549650938, 0.311801777911067, 0.1559008889555335, 0.1559008889555335, 0.1559008889555335, 0.311801777911067, 0.12085950664824045, 0.2417190132964809, 0.4834380265929618, 0.12085950664824045, 0.5560257337265749, 0.11120514674531498, 0.33361544023594497, 0.11120514674531498, 0.11120514674531498, 0.3336654837361413, 0.3336654837361413, 0.11122182791204709, 0.11122182791204709, 0.11122182791204709, 0.5579995595215632, 0.23391317062200492, 0.3508697559330074, 0.23391317062200492, 0.11695658531100246, 0.6380728382848312, 0.3190364191424156, 0.19394022007773418, 0.19394022007773418, 0.38788044015546835, 0.19394022007773418, 0.48698173456419386, 0.24349086728209693, 0.19646654925630594, 0.19646654925630594, 0.3929330985126119, 0.17097958170544997, 0.51293874511635, 0.17097958170544997, 0.17097958170544997, 0.49577348257815046, 0.1817347376595151, 0.3634694753190302, 0.1817347376595151, 0.3634694753190302, 0.6887514248551801, 0.4911539100820723, 0.4911539100820723, 0.7670930004423586, 0.6243959757704729, 0.20813199192349097, 0.42007452640608434, 0.14179132279676607, 0.5671652911870643, 0.14179132279676607, 0.14179132279676607, 0.3775318036038397, 0.3775318036038397, 0.1013456388059855, 0.3040369164179565, 0.5067281940299275, 0.1013456388059855, 0.1013456388059855, 0.2325088795527573, 0.2325088795527573, 0.2325088795527573, 0.2325088795527573, 0.3482808199694884, 0.3482808199694884, 0.39941108721082513, 0.39941108721082513, 0.6091812819942964, 0.3105697206019193, 0.46585458090287896, 0.15528486030095964, 0.15528486030095964, 0.6110449972943975, 0.20368166576479918, 0.20368166576479918, 0.1731652550826568, 0.1731652550826568, 0.1731652550826568, 0.3463305101653136, 0.1731652550826568, 0.15350867643532212, 0.15350867643532212, 0.30701735287064424, 0.15350867643532212, 0.15350867643532212, 0.3719681309406096, 0.3719681309406096, 0.24121688073004133, 0.24121688073004133, 0.24121688073004133, 0.24121688073004133, 0.24121688073004133, 0.7832707672039827, 0.13638739767425306, 0.2727747953485061, 0.13638739767425306, 0.2727747953485061, 0.13638739767425306, 0.32790406643533776, 0.16395203321766888, 0.16395203321766888, 0.16395203321766888, 0.16395203321766888, 0.19168928987622252, 0.5750678696286675, 0.19168928987622252, 0.19168928987622252, 0.3367228504009355, 0.3367228504009355, 0.14811545399320467, 0.5924618159728187, 0.14811545399320467, 0.14811545399320467, 0.34169337793508303, 0.34169337793508303, 0.504141400823873, 0.1680471336079577, 0.1680471336079577, 0.1680471336079577, 0.1680471336079577, 0.39041015578416416, 0.39041015578416416, 0.4697760671268696, 0.2348880335634348, 0.6075893891876518, 0.3209981351102071, 0.3209981351102071, 0.16049906755510354, 0.16049906755510354, 0.16049906755510354, 0.27346150597084434, 0.5469230119416887, 0.19225928358291686, 0.5767778507487505, 0.19225928358291686, 0.19225928358291686, 0.7722591541487964, 0.30827397504079446, 0.30827397504079446, 0.4157123896806594, 0.4157123896806594, 0.44388821357079233, 0.1479627378569308, 0.1479627378569308, 0.1479627378569308, 0.1479627378569308, 0.4721603506958802, 0.1573867835652934, 0.3147735671305868, 0.6556523665408363, 0.21855078884694543, 0.42749150713051004, 0.42749150713051004, 0.45536888731197916, 0.45536888731197916, 0.4619499142985859, 0.48544466935336905, 0.15763702000984245, 0.15763702000984245, 0.3152740400196849, 0.15763702000984245, 0.15763702000984245, 0.2920834214793518, 0.1460417107396759, 0.2920834214793518, 0.1460417107396759, 0.2920834214793518, 0.3712083192926771, 0.12373610643089236, 0.12373610643089236, 0.24747221286178472, 0.12373610643089236, 0.2787814229238093, 0.13939071146190465, 0.2787814229238093, 0.13939071146190465, 0.14867578625336464, 0.4460273587600939, 0.14867578625336464, 0.2973515725067293, 0.14867578625336464, 0.24063624689537091, 0.24063624689537091, 0.24063624689537091, 0.48127249379074183, 0.3246677653139949, 0.6493355306279898, 0.16977668326341983, 0.16977668326341983, 0.16977668326341983, 0.33955336652683965, 0.5580024285411519, 0.29788018236529273, 0.29788018236529273, 0.29788018236529273, 0.6946264364067296, 0.2959576742769045, 0.591915348553809, 0.17467380667730195, 0.17467380667730195, 0.17467380667730195, 0.3493476133546039, 0.17467380667730195, 0.3058296725002399, 0.15291483625011995, 0.15291483625011995, 0.3058296725002399, 0.15291483625011995, 0.13386934494195651, 0.13386934494195651, 0.5354773797678261, 0.13386934494195651, 0.13386934494195651, 0.12116746631092194, 0.3635023989327658, 0.12116746631092194, 0.24233493262184388, 0.12116746631092194, 0.5626629980104777, 0.18755433267015922, 0.18755433267015922, 0.18755433267015922, 0.296117392407686, 0.148058696203843, 0.4441760886115289, 0.148058696203843, 0.148058696203843, 0.7901337323726213, 0.15802674647452425, 0.21476718820302038, 0.42953437640604075, 0.21476718820302038, 0.7109313710247009, 0.4521160873585292, 0.1204521731715443, 0.36135651951463293, 0.2409043463430886, 0.1204521731715443, 0.5055921512538301, 0.16853071708461, 0.16853071708461, 0.3859766450295556, 0.3859766450295556, 0.20427092476682543, 0.6128127743004763, 0.20427092476682543, 0.2915433113211466, 0.1457716556605733, 0.4373149669817199, 0.1457716556605733, 0.1457716556605733, 0.42172182604237224, 0.42172182604237224, 0.5789239179372088, 0.6128374595904518, 0.5581683570904024, 0.1860561190301341, 0.1860561190301341, 0.1860561190301341, 0.6466119645325874, 0.28036441770894055, 0.42054662656341085, 0.14018220885447027, 0.14018220885447027, 0.300612446070026, 0.601224892140052, 0.23061389998982093, 0.46122779997964186, 0.11530694999491047, 0.11530694999491047, 0.11530694999491047, 0.6407816942833272, 0.3401993550695979, 0.3401993550695979, 0.17009967753479896, 0.3401993550695979, 0.3873256023598836, 0.28028199983844243, 0.28028199983844243, 0.28028199983844243, 0.28028199983844243, 0.18853679671779766, 0.18853679671779766, 0.18853679671779766, 0.18853679671779766, 0.3770735934355953, 0.5682643489217734, 0.18942144964059113, 0.5464446339262059, 0.2739440375013912, 0.41091605625208677, 0.1369720187506956, 0.1369720187506956, 0.2336945140992026, 0.2336945140992026, 0.4673890281984052, 0.46957338660010617, 0.28801197194267, 0.144005985971335, 0.28801197194267, 0.144005985971335, 0.28801197194267, 0.16830024667922178, 0.5049007400376654, 0.16830024667922178, 0.16830024667922178, 0.6289817947976998, 0.3144908973988499, 0.5943685530287546, 0.19812285100958485, 0.26535258685476015, 0.5307051737095203, 0.8723790150133668, 0.46174638180217986, 0.6086881610237903, 0.7964430366606179, 0.6326417191714557, 0.2108805730571519, 0.15487159125205194, 0.3097431825041039, 0.3097431825041039, 0.15487159125205194, 0.15487159125205194, 0.4739407656726865, 0.28149793446484744, 0.5629958689296949, 0.15234722912066168, 0.15234722912066168, 0.30469445824132335, 0.15234722912066168, 0.3768725265400375, 0.3494331419761843, 0.3494331419761843, 0.219053319150797, 0.438106638301594, 0.219053319150797, 0.1095266595753985, 0.26118121531763977, 0.26118121531763977, 0.13059060765881988, 0.26118121531763977, 0.5145132038163941, 0.25725660190819705, 0.6915613738005137, 0.5428421068916718, 0.5265066616700275, 0.17550222055667583, 0.17550222055667583, 0.17550222055667583, 0.49591766561718104, 0.16530588853906036, 0.16530588853906036, 0.16530588853906036, 0.16530588853906036, 0.291121690184594, 0.582243380369188, 0.6281082483648498, 0.20936941612161658, 0.20936941612161658, 0.15031689537684337, 0.4509506861305301, 0.15031689537684337, 0.15031689537684337, 0.3151800083728591, 0.3151800083728591, 0.38612436592342364, 0.38612436592342364, 0.5808500699496131, 0.34637911382743675, 0.34637911382743675, 0.11545970460914559, 0.11545970460914559, 0.11545970460914559, 0.8132516081052537, 0.2371444970642931, 0.4742889941285862, 0.2371444970642931, 0.18900456866468981, 0.18900456866468981, 0.5670137059940695, 0.11379636421545876, 0.11379636421545876, 0.3413890926463763, 0.22759272843091752, 0.22759272843091752, 0.3376396430607519, 0.11254654768691731, 0.3376396430607519, 0.11254654768691731, 0.11254654768691731, 0.2565840357335714, 0.5131680714671428, 0.2565840357335714, 0.5700851951313877, 0.14252129878284692, 0.21378194817427038, 0.07126064939142346, 0.2009556260881236, 0.2009556260881236, 0.4019112521762472, 0.5905197674333007, 0.46049424047193643, 0.15349808015731214, 0.15349808015731214, 0.15349808015731214, 0.07674904007865607, 0.23006081958999383, 0.23006081958999383, 0.23006081958999383, 0.23006081958999383, 0.23006081958999383, 0.5674362262389901, 0.2837181131194951, 0.34713523774444566, 0.34713523774444566, 0.47406178635857954, 0.15802059545285985, 0.15802059545285985, 0.15802059545285985, 0.750168189906317, 0.5898754686159097, 0.25748408214477636, 0.5149681642895527, 0.5407303847027496, 0.10814607694054991, 0.21629215388109982, 0.10814607694054991, 0.39991679891985177, 0.5357280429237644, 0.5357280429237644, 0.22869982023193292, 0.3430497303478994, 0.11434991011596646, 0.11434991011596646, 0.22869982023193292, 0.2244824768272238, 0.4489649536544476, 0.2244824768272238, 0.3220220870171882, 0.3220220870171882, 0.3220220870171882, 0.3220220870171882, 0.3081464730308571, 0.3081464730308571, 0.3081464730308571, 0.18577701397254237, 0.18577701397254237, 0.5573310419176272, 0.18577701397254237, 0.18577701397254237, 0.2535815345308791, 0.12679076726543956, 0.2535815345308791, 0.2535815345308791, 0.12679076726543956, 0.17175323159334174, 0.17175323159334174, 0.5152596947800252, 0.17175323159334174, 0.2710899177949288, 0.5421798355898576, 0.1355449588974644, 0.20136999794059296, 0.4027399958811859, 0.20136999794059296, 0.18860919788941227, 0.5658275936682369, 0.18860919788941227, 0.12373750147532532, 0.371212504425976, 0.12373750147532532, 0.371212504425976, 0.4047340806662641, 0.4047340806662641, 0.14780309474471834, 0.443409284234155, 0.14780309474471834, 0.14780309474471834, 0.14780309474471834, 0.30005710945861325, 0.15002855472930662, 0.45008566418791984, 0.15002855472930662, 0.20187052468228173, 0.6056115740468452, 0.20187052468228173, 0.7391353579771842, 0.571553454383463, 0.2343413097590301, 0.4686826195180602, 0.2343413097590301, 0.09003603759816782, 0.540216225589007, 0.09003603759816782, 0.2701081127945035, 0.09003603759816782, 0.4841224194354393, 0.42214586413702837, 0.08877459462822189, 0.35509837851288756, 0.26632378388466565, 0.17754918925644378, 0.08877459462822189, 0.4399593467232291, 0.48599887525050306, 0.48599887525050306, 0.6488282479590043, 0.21627608265300144, 0.21627608265300144, 0.31469005779733084, 0.15734502889866542, 0.15734502889866542, 0.15734502889866542, 0.18343601513866922, 0.5503080454160076, 0.18343601513866922, 0.18343601513866922, 0.21714509909833582, 0.10857254954916791, 0.43429019819667164, 0.21714509909833582, 0.7500402832941435, 0.10769908936739296, 0.43079635746957184, 0.21539817873478592, 0.10769908936739296, 0.2950497048205188, 0.2950497048205188, 0.19924791360477662, 0.19924791360477662, 0.29887187040716495, 0.19924791360477662, 0.19924791360477662, 0.20576617518934928, 0.20576617518934928, 0.30864926278402394, 0.20576617518934928, 0.10288308759467464, 0.26927146931289997, 0.26927146931289997, 0.26927146931289997, 0.26927146931289997, 0.4654256480422793, 0.25553321712568605, 0.25553321712568605, 0.5110664342513721, 0.25553321712568605, 0.4313476523112538, 0.5860536055293372, 0.19535120184311242, 0.19535120184311242, 0.406359571379299, 0.406359571379299, 0.19953475325305914, 0.19953475325305914, 0.19953475325305914, 0.3990695065061183, 0.19953475325305914, 0.7368800793776871, 0.12281334656294784, 0.12281334656294784, 0.12281334656294784, 0.4083144395451499, 0.4083144395451499, 0.4856004149157452, 0.16186680497191505, 0.16186680497191505, 0.16186680497191505, 0.16186680497191505, 0.14957266838528088, 0.44871800515584265, 0.14957266838528088, 0.4755839976335566, 0.09511679952671132, 0.19023359905342263, 0.09511679952671132, 0.19023359905342263, 0.2735290438087329, 0.2735290438087329, 0.2735290438087329, 0.6113835895467408, 0.2037945298489136, 0.25070218860776433, 0.12535109430388217, 0.25070218860776433, 0.12535109430388217, 0.25070218860776433, 0.5065405712865161, 0.4818309332176555, 0.15722560010838382, 0.15722560010838382, 0.6289024004335353, 0.40541895143395307, 0.34198459160112255, 0.17099229580056127, 0.17099229580056127, 0.17099229580056127, 0.17099229580056127, 0.2252098547986215, 0.450419709597243, 0.450419709597243, 0.33668278200554064, 0.5050241730083109, 0.16834139100277032, 0.4721400373506702, 0.7660404452370337, 0.12767340753950562, 0.611073164392079, 0.15276829109801976, 0.15276829109801976, 0.15276829109801976, 0.15276829109801976, 0.2202960030745007, 0.2202960030745007, 0.4405920061490014, 0.18456304355826766, 0.7382521742330707, 0.5628375323522637, 0.25769983542747993, 0.5153996708549599, 0.1284604215725395, 0.3853812647176186, 0.1284604215725395, 0.256920843145079, 0.1284604215725395, 0.1630227656920808, 0.6520910627683232, 0.1630227656920808, 0.16181688234779898, 0.16181688234779898, 0.48545064704339697, 0.16181688234779898, 0.16181688234779898, 0.06620213771480968, 0.5958192394332871, 0.06620213771480968, 0.13240427542961936, 0.06620213771480968, 0.5577222660009343, 0.5577222660009343, 0.21627691720230954, 0.10813845860115477, 0.4325538344046191, 0.21627691720230954, 0.10813845860115477, 0.6261004161874547, 0.20870013872915155, 0.21900347539693768, 0.21900347539693768, 0.32850521309540653, 0.10950173769846884, 0.14462364995368354, 0.14462364995368354, 0.4338709498610506, 0.14462364995368354, 0.14462364995368354, 0.2525482180733791, 0.2525482180733791, 0.2525482180733791, 0.2525482180733791, 0.12627410903668956, 0.20784131556967764, 0.20784131556967764, 0.20784131556967764, 0.20784131556967764, 0.20784131556967764, 0.6955249955648051, 0.16020125643465424, 0.16020125643465424, 0.16020125643465424, 0.3204025128693085, 0.16020125643465424, 0.5910934559885029, 0.3738778002748469, 0.3738778002748469], \"Term\": [\"aaron\", \"abort\", \"abort\", \"abort\", \"abort\", \"accumul\", \"adam\", \"adam\", \"afghanistan\", \"afghanistan\", \"afghanistan\", \"airlin\", \"airlin\", \"airplan\", \"anim\", \"anim\", \"anim\", \"anim\", \"anim\", \"antarctica\", \"anxieti\", \"anxieti\", \"arm\", \"arm\", \"arm\", \"arm\", \"asteroid\", \"asteroid\", \"astronom\", \"astronom\", \"astronom\", \"astronom\", \"atlanta\", \"atlanta\", \"augusta\", \"austin\", \"austin\", \"austin\", \"australia\", \"australia\", \"australia\", \"australia\", \"australia\", \"australian\", \"australian\", \"australian\", \"authent\", \"ball\", \"ball\", \"ball\", \"bank\", \"bank\", \"bank\", \"bank\", \"bank\", \"bankruptci\", \"bankruptci\", \"bath\", \"bath\", \"bath\", \"beach\", \"beach\", \"beach\", \"beach\", \"beach\", \"beij\", \"beij\", \"beij\", \"beij\", \"bird\", \"bird\", \"bird\", \"bird\", \"bird\", \"black\", \"black\", \"black\", \"black\", \"black\", \"bone\", \"book\", \"book\", \"book\", \"book\", \"booster\", \"booster\", \"border\", \"border\", \"border\", \"border\", \"bottl\", \"bottl\", \"brazil\", \"brazil\", \"brazil\", \"candid\", \"candid\", \"candid\", \"candid\", \"candidaci\", \"career\", \"career\", \"career\", \"career\", \"carlo\", \"ceasefir\", \"ceasefir\", \"celesti\", \"cell\", \"cell\", \"chad\", \"champion\", \"champion\", \"champion\", \"champion\", \"chile\", \"chile\", \"chines\", \"chines\", \"chines\", \"chines\", \"chines\", \"citizen\", \"citizen\", \"citizen\", \"citizen\", \"civilian\", \"civilian\", \"clash\", \"clash\", \"clock\", \"club\", \"club\", \"club\", \"club\", \"comet\", \"comet\", \"comet\", \"connect\", \"connect\", \"connect\", \"connect\", \"connect\", \"contain\", \"contain\", \"contain\", \"contain\", \"contain\", \"contamin\", \"contamin\", \"convers\", \"convers\", \"convers\", \"convers\", \"convers\", \"cosmic\", \"counti\", \"counti\", \"counti\", \"counti\", \"counti\", \"crew\", \"crew\", \"crew\", \"crew\", \"crew\", \"debt\", \"debt\", \"debt\", \"debt\", \"deposit\", \"deposit\", \"desanti\", \"desanti\", \"desanti\", \"desanti\", \"desir\", \"desir\", \"discov\", \"discov\", \"discov\", \"discov\", \"discov\", \"discrimin\", \"discrimin\", \"disney\", \"disney\", \"dissent\", \"district\", \"district\", \"district\", \"district\", \"district\", \"dive\", \"dive\", \"donald\", \"donald\", \"donald\", \"donald\", \"draft\", \"drag\", \"drag\", \"dragon\", \"dragon\", \"drug\", \"drug\", \"drug\", \"drug\", \"drug\", \"eclips\", \"eclips\", \"eclips\", \"egg\", \"egg\", \"egypt\", \"egypt\", \"elector\", \"elector\", \"embassi\", \"empir\", \"employ\", \"employ\", \"employ\", \"employ\", \"employ\", \"employe\", \"employe\", \"employe\", \"employe\", \"employe\", \"energi\", \"energi\", \"energi\", \"energi\", \"energi\", \"engin\", \"engin\", \"engin\", \"engin\", \"environment\", \"environment\", \"environment\", \"environment\", \"environment\", \"erupt\", \"erupt\", \"erupt\", \"erupt\", \"estat\", \"estat\", \"evacu\", \"evacu\", \"evacu\", \"evacu\", \"expedit\", \"extens\", \"extens\", \"extens\", \"faction\", \"factori\", \"factori\", \"film\", \"film\", \"film\", \"film\", \"film\", \"fish\", \"fish\", \"fish\", \"fish\", \"fish\", \"flight\", \"flight\", \"flight\", \"flight\", \"flight\", \"florida\", \"florida\", \"florida\", \"florida\", \"florida\", \"fossil\", \"fossil\", \"fossil\", \"fossil\", \"fuel\", \"fuel\", \"fuel\", \"fuel\", \"fuel\", \"galaxi\", \"galaxi\", \"georgia\", \"georgia\", \"georgia\", \"gestur\", \"glow\", \"goal\", \"goal\", \"goal\", \"goal\", \"golf\", \"golf\", \"golf\", \"grain\", \"grain\", \"grand\", \"grand\", \"grand\", \"green\", \"green\", \"green\", \"green\", \"green\", \"guardian\", \"guardian\", \"habit\", \"hay\", \"heat\", \"heat\", \"heat\", \"heat\", \"hemispher\", \"hole\", \"hole\", \"hole\", \"hole\", \"homeland\", \"homeland\", \"hospit\", \"hospit\", \"hospit\", \"hospit\", \"hospit\", \"hubbl\", \"hunter\", \"hunter\", \"hunter\", \"hunter\", \"hurrican\", \"husband\", \"husband\", \"husband\", \"husband\", \"incom\", \"incom\", \"incom\", \"incom\", \"incom\", \"infect\", \"infect\", \"infrar\", \"injuri\", \"injuri\", \"injuri\", \"injuri\", \"instagram\", \"instagram\", \"instagram\", \"intrigu\", \"island\", \"island\", \"island\", \"island\", \"island\", \"isra\", \"isra\", \"isra\", \"isra\", \"italian\", \"italian\", \"jackson\", \"jackson\", \"jerusalem\", \"jerusalem\", \"jet\", \"jinp\", \"juic\", \"jupit\", \"kennedi\", \"kennedi\", \"king\", \"king\", \"king\", \"king\", \"king\", \"kyiv\", \"ladi\", \"ladi\", \"lake\", \"lake\", \"lake\", \"lake\", \"laugh\", \"layoff\", \"layoff\", \"leagu\", \"leagu\", \"leagu\", \"leagu\", \"letter\", \"letter\", \"letter\", \"letter\", \"madrid\", \"madrid\", \"magnet\", \"mail\", \"male\", \"male\", \"male\", \"male\", \"mar\", \"mar\", \"mar\", \"mar\", \"mar\", \"mask\", \"mask\", \"master\", \"master\", \"master\", \"match\", \"match\", \"match\", \"match\", \"meat\", \"meat\", \"medal\", \"medal\", \"mediat\", \"medic\", \"medic\", \"medic\", \"medic\", \"medic\", \"meteor\", \"mexican\", \"mexican\", \"mexican\", \"migrant\", \"migrant\", \"migrant\", \"militari\", \"militari\", \"militari\", \"militari\", \"militari\", \"minist\", \"minist\", \"minist\", \"minist\", \"minist\", \"missil\", \"missil\", \"missil\", \"moon\", \"moon\", \"moon\", \"moon\", \"music\", \"music\", \"music\", \"musician\", \"nasa\", \"nasa\", \"nasa\", \"nasa\", \"nasa\", \"nativ\", \"nativ\", \"nativ\", \"nativ\", \"nativ\", \"navi\", \"navi\", \"nest\", \"nest\", \"newspap\", \"newspap\", \"newspap\", \"newspap\", \"nomin\", \"observatori\", \"oklahoma\", \"oklahoma\", \"orbit\", \"orbit\", \"orbit\", \"orbit\", \"outer\", \"paramilitari\", \"paramilitari\", \"parent\", \"parent\", \"parent\", \"parent\", \"parent\", \"patient\", \"patient\", \"patient\", \"peter\", \"peter\", \"peter\", \"peter\", \"philadelphia\", \"philadelphia\", \"philadelphia\", \"pick\", \"pick\", \"pick\", \"pick\", \"pick\", \"plant\", \"plant\", \"plant\", \"plant\", \"plant\", \"plastic\", \"plastic\", \"plastic\", \"plastic\", \"player\", \"player\", \"player\", \"playoff\", \"playoff\", \"playoff\", \"poll\", \"poll\", \"poll\", \"pollut\", \"pollut\", \"pollut\", \"pollut\", \"postpon\", \"postpon\", \"presidenti\", \"presidenti\", \"presidenti\", \"presidenti\", \"presidenti\", \"price\", \"price\", \"price\", \"price\", \"primari\", \"primari\", \"primari\", \"prix\", \"pump\", \"quarterback\", \"quarterback\", \"quarterback\", \"race\", \"race\", \"race\", \"race\", \"race\", \"relianc\", \"remnant\", \"republican\", \"republican\", \"republican\", \"republican\", \"republican\", \"resum\", \"reviv\", \"reviv\", \"ring\", \"ring\", \"ring\", \"river\", \"river\", \"river\", \"river\", \"robert\", \"robert\", \"robert\", \"robert\", \"rocket\", \"rocket\", \"rocket\", \"rocket\", \"rome\", \"round\", \"round\", \"round\", \"round\", \"royal\", \"royal\", \"russia\", \"russia\", \"russia\", \"russia\", \"russia\", \"russian\", \"russian\", \"russian\", \"russian\", \"russian\", \"sampl\", \"sampl\", \"sampl\", \"sampl\", \"saturn\", \"sheriff\", \"sheriff\", \"sheriff\", \"sheriff\", \"skeleton\", \"sleep\", \"sleep\", \"sleep\", \"smell\", \"smell\", \"smith\", \"smith\", \"smith\", \"smith\", \"smith\", \"solar\", \"solar\", \"solar\", \"solar\", \"sovereignti\", \"sovereignti\", \"spacecraft\", \"spacecraft\", \"spacecraft\", \"spacecraft\", \"spacecraft\", \"spacex\", \"spacex\", \"spacex\", \"speci\", \"speci\", \"speci\", \"speci\", \"speci\", \"spill\", \"spill\", \"spill\", \"starship\", \"starship\", \"station\", \"station\", \"station\", \"station\", \"station\", \"submit\", \"successor\", \"sudan\", \"sudan\", \"sudan\", \"sudanes\", \"survey\", \"survey\", \"survey\", \"survey\", \"survey\", \"taiwan\", \"taiwan\", \"taiwan\", \"teacher\", \"teacher\", \"teacher\", \"teeth\", \"telescop\", \"telescop\", \"temperatur\", \"temperatur\", \"temperatur\", \"temperatur\", \"temperatur\", \"tennesse\", \"tennesse\", \"tennesse\", \"tenni\", \"tenni\", \"tenur\", \"tiger\", \"tiger\", \"titl\", \"titl\", \"titl\", \"titl\", \"titl\", \"tournament\", \"tournament\", \"tournament\", \"trade\", \"trade\", \"trade\", \"trade\", \"trade\", \"trump\", \"trump\", \"trump\", \"trump\", \"trump\", \"twin\", \"twin\", \"ukrain\", \"ukrain\", \"ukrain\", \"ukrain\", \"ukrain\", \"vega\", \"vega\", \"vehicl\", \"vehicl\", \"vehicl\", \"vehicl\", \"victim\", \"victim\", \"victim\", \"victim\", \"victim\", \"vote\", \"vote\", \"vote\", \"vote\", \"vote\", \"weapon\", \"weapon\", \"weapon\", \"weapon\", \"weapon\", \"webb\", \"west\", \"west\", \"west\", \"west\", \"west\", \"wisdom\", \"youth\", \"youth\"]}, \"R\": 30, \"lambda.step\": 0.01, \"plot.opts\": {\"xlab\": \"PC1\", \"ylab\": \"PC2\"}, \"topic.order\": [5, 2, 3, 4, 1]};\n",
       "\n",
       "function LDAvis_load_lib(url, callback){\n",
       "  var s = document.createElement('script');\n",
       "  s.src = url;\n",
       "  s.async = true;\n",
       "  s.onreadystatechange = s.onload = callback;\n",
       "  s.onerror = function(){console.warn(\"failed to load library \" + url);};\n",
       "  document.getElementsByTagName(\"head\")[0].appendChild(s);\n",
       "}\n",
       "\n",
       "if(typeof(LDAvis) !== \"undefined\"){\n",
       "   // already loaded: just create the visualization\n",
       "   !function(LDAvis){\n",
       "       new LDAvis(\"#\" + \"ldavis_el216901406898417544004187442477\", ldavis_el216901406898417544004187442477_data);\n",
       "   }(LDAvis);\n",
       "}else if(typeof define === \"function\" && define.amd){\n",
       "   // require.js is available: use it to load d3/LDAvis\n",
       "   require.config({paths: {d3: \"https://d3js.org/d3.v5\"}});\n",
       "   require([\"d3\"], function(d3){\n",
       "      window.d3 = d3;\n",
       "      LDAvis_load_lib(\"https://cdn.jsdelivr.net/gh/bmabey/pyLDAvis@3.4.0/pyLDAvis/js/ldavis.v3.0.0.js\", function(){\n",
       "        new LDAvis(\"#\" + \"ldavis_el216901406898417544004187442477\", ldavis_el216901406898417544004187442477_data);\n",
       "      });\n",
       "    });\n",
       "}else{\n",
       "    // require.js not available: dynamically load d3 & LDAvis\n",
       "    LDAvis_load_lib(\"https://d3js.org/d3.v5.js\", function(){\n",
       "         LDAvis_load_lib(\"https://cdn.jsdelivr.net/gh/bmabey/pyLDAvis@3.4.0/pyLDAvis/js/ldavis.v3.0.0.js\", function(){\n",
       "                 new LDAvis(\"#\" + \"ldavis_el216901406898417544004187442477\", ldavis_el216901406898417544004187442477_data);\n",
       "            })\n",
       "         });\n",
       "}\n",
       "</script>"
      ],
      "text/plain": [
       "PreparedData(topic_coordinates=              x         y  topics  cluster       Freq\n",
       "topic                                                \n",
       "4      0.029331 -0.023392       1        1  26.174133\n",
       "1     -0.032580 -0.012830       2        1  24.839683\n",
       "2      0.001481  0.020602       3        1  21.526072\n",
       "3     -0.010410 -0.002095       4        1  15.535108\n",
       "0      0.012179  0.017716       5        1  11.925004, topic_info=         Term       Freq      Total Category  logprob  loglift\n",
       "807     sudan   6.000000   6.000000  Default  30.0000  30.0000\n",
       "2162      jet   5.000000   5.000000  Default  29.0000  29.0000\n",
       "1149    trump  15.000000  15.000000  Default  28.0000  28.0000\n",
       "2466  plastic   5.000000   5.000000  Default  27.0000  27.0000\n",
       "850     evacu   5.000000   5.000000  Default  26.0000  26.0000\n",
       "...       ...        ...        ...      ...      ...      ...\n",
       "388    employ   1.260092   6.343688   Topic5  -6.6477   0.5103\n",
       "472      king   1.254523   6.456962   Topic5  -6.6522   0.4881\n",
       "2332     nasa   1.376562  13.029479   Topic5  -6.5593  -0.1211\n",
       "801   russian   1.307851   9.719771   Topic5  -6.6105   0.1208\n",
       "704   florida   1.284157   8.253040   Topic5  -6.6288   0.2661\n",
       "\n",
       "[301 rows x 6 columns], token_table=      Topic      Freq    Term\n",
       "term                         \n",
       "2160      3  0.567203   aaron\n",
       "2342      1  0.515293   abort\n",
       "2342      2  0.128823   abort\n",
       "2342      4  0.128823   abort\n",
       "2342      5  0.128823   abort\n",
       "...     ...       ...     ...\n",
       "689       4  0.320403    west\n",
       "689       5  0.160201    west\n",
       "2549      4  0.591093  wisdom\n",
       "247       2  0.373878   youth\n",
       "247       4  0.373878   youth\n",
       "\n",
       "[738 rows x 3 columns], R=30, lambda_step=0.01, plot_opts={'xlab': 'PC1', 'ylab': 'PC2'}, topic_order=[5, 2, 3, 4, 1])"
      ]
     },
     "execution_count": 67,
     "metadata": {},
     "output_type": "execute_result"
    }
   ],
   "source": [
    "vis2 = pyLDAvis.gensim_models.prepare(lda_model_tfidf, corpus_tfidf, dictionary)\n",
    "vis2"
   ]
  },
  {
   "cell_type": "markdown",
   "metadata": {},
   "source": [
    "## Performance evaluation by classifying sample document using LDA Bag of Words model\n",
    "\n",
    "We will check to see where our test document would be classified."
   ]
  },
  {
   "cell_type": "code",
   "execution_count": 68,
   "metadata": {},
   "outputs": [
    {
     "data": {
      "text/plain": [
       "['news',\n",
       " 'flash',\n",
       " 'headlin',\n",
       " 'check',\n",
       " 'click',\n",
       " 'foxnew',\n",
       " 'peopl',\n",
       " 'world',\n",
       " 'lose',\n",
       " 'confid',\n",
       " 'import',\n",
       " 'routin',\n",
       " 'childhood',\n",
       " 'vaccin',\n",
       " 'killer',\n",
       " 'diseas',\n",
       " 'like',\n",
       " 'measl',\n",
       " 'polio',\n",
       " 'covid',\n",
       " 'pandem',\n",
       " 'accord',\n",
       " 'report',\n",
       " 'unicef',\n",
       " 'countri',\n",
       " 'survey',\n",
       " 'public',\n",
       " 'percept',\n",
       " 'vaccin',\n",
       " 'children',\n",
       " 'declin',\n",
       " 'agenc',\n",
       " 'say',\n",
       " 'data',\n",
       " 'worri',\n",
       " 'warn',\n",
       " 'signal',\n",
       " 'rise',\n",
       " 'vaccin',\n",
       " 'hesit',\n",
       " 'amid',\n",
       " 'misinform',\n",
       " 'dwindl',\n",
       " 'trust',\n",
       " 'govern',\n",
       " 'polit',\n",
       " 'polaris',\n",
       " 'unicef',\n",
       " 'unit',\n",
       " 'nation',\n",
       " 'children',\n",
       " 'fund',\n",
       " 'say',\n",
       " 'near',\n",
       " 'million',\n",
       " 'african',\n",
       " 'children',\n",
       " 'miss',\n",
       " 'vaccin',\n",
       " 'accord',\n",
       " 'unicef',\n",
       " 'report',\n",
       " 'allow',\n",
       " 'confid',\n",
       " 'routin',\n",
       " 'immun',\n",
       " 'victim',\n",
       " 'pandem',\n",
       " 'catherin',\n",
       " 'russel',\n",
       " 'unicef',\n",
       " 'execut',\n",
       " 'director',\n",
       " 'say',\n",
       " 'statement',\n",
       " 'wave',\n",
       " 'death',\n",
       " 'children',\n",
       " 'measl',\n",
       " 'diphtheria',\n",
       " 'prevent',\n",
       " 'diseas',\n",
       " 'chang',\n",
       " 'percept',\n",
       " 'particular',\n",
       " 'worri',\n",
       " 'agenc',\n",
       " 'say',\n",
       " 'come',\n",
       " 'largest',\n",
       " 'sustain',\n",
       " 'backslid',\n",
       " 'childhood',\n",
       " 'immun',\n",
       " 'generat',\n",
       " 'covid',\n",
       " 'disrupt',\n",
       " 'vial',\n",
       " 'measl',\n",
       " 'mump',\n",
       " 'rubella',\n",
       " 'vaccin',\n",
       " 'pictur',\n",
       " 'seattl',\n",
       " 'washington',\n",
       " 'march',\n",
       " 'peopl',\n",
       " 'wari',\n",
       " 'childhood',\n",
       " 'vaccin',\n",
       " 'coronavirus',\n",
       " 'pandem',\n",
       " 'accord',\n",
       " 'unicef',\n",
       " 'photo',\n",
       " 'vincent',\n",
       " 'thian',\n",
       " 'file',\n",
       " 'total',\n",
       " 'million',\n",
       " 'children',\n",
       " 'miss',\n",
       " 'potenti',\n",
       " 'lifesav',\n",
       " 'vaccin',\n",
       " 'pandem',\n",
       " 'effort',\n",
       " 'catch',\n",
       " 'stall',\n",
       " 'despit',\n",
       " 'increas',\n",
       " 'outbreak',\n",
       " 'pictur',\n",
       " 'vaccin',\n",
       " 'confid',\n",
       " 'vari',\n",
       " 'global',\n",
       " 'accord',\n",
       " 'unicef',\n",
       " 'report',\n",
       " 'flagship',\n",
       " 'annual',\n",
       " 'state',\n",
       " 'world',\n",
       " 'children',\n",
       " 'recommend',\n",
       " 'malaria',\n",
       " 'vaccin',\n",
       " 'african',\n",
       " 'children',\n",
       " 'glimmer',\n",
       " 'hope',\n",
       " 'countri',\n",
       " 'includ',\n",
       " 'papua',\n",
       " 'guinea',\n",
       " 'south',\n",
       " 'korea',\n",
       " 'agreement',\n",
       " 'statement',\n",
       " 'vaccin',\n",
       " 'import',\n",
       " 'children',\n",
       " 'declin',\n",
       " 'ghana',\n",
       " 'seneg',\n",
       " 'japan',\n",
       " 'unit',\n",
       " 'state',\n",
       " 'declin',\n",
       " 'percentag',\n",
       " 'point',\n",
       " 'india',\n",
       " 'china',\n",
       " 'mexico',\n",
       " 'confid',\n",
       " 'remain',\n",
       " 'broad',\n",
       " 'increas',\n",
       " 'report',\n",
       " 'add',\n",
       " 'report',\n",
       " 'stress',\n",
       " 'vaccin',\n",
       " 'confid',\n",
       " 'easili',\n",
       " 'shift',\n",
       " 'result',\n",
       " 'indic',\n",
       " 'long',\n",
       " 'term',\n",
       " 'trend',\n",
       " 'click',\n",
       " 'news',\n",
       " 'despit',\n",
       " 'fall',\n",
       " 'confid',\n",
       " 'respond',\n",
       " 'half',\n",
       " 'countri',\n",
       " 'survey',\n",
       " 'say',\n",
       " 'childhood',\n",
       " 'vaccin',\n",
       " 'import',\n",
       " 'data',\n",
       " 'collect',\n",
       " 'vaccin',\n",
       " 'confid',\n",
       " 'project',\n",
       " 'london',\n",
       " 'school',\n",
       " 'hygien',\n",
       " 'tropic',\n",
       " 'medicin']"
      ]
     },
     "execution_count": 68,
     "metadata": {},
     "output_type": "execute_result"
    }
   ],
   "source": [
    "#Text of sample document 1249\n",
    "\n",
    "processed_docs[1248]"
   ]
  },
  {
   "cell_type": "code",
   "execution_count": 69,
   "metadata": {},
   "outputs": [
    {
     "name": "stdout",
     "output_type": "stream",
     "text": [
      "\n",
      "Score: 0.5814734101295471\t \n",
      "Topic: 0.006*\"trump\" + 0.004*\"florida\" + 0.004*\"russian\" + 0.004*\"medic\" + 0.003*\"goal\" + 0.003*\"nasa\" + 0.003*\"station\" + 0.003*\"bird\" + 0.003*\"murder\" + 0.003*\"russia\"\n",
      "\n",
      "Score: 0.41111451387405396\t \n",
      "Topic: 0.007*\"trump\" + 0.006*\"republican\" + 0.005*\"sudan\" + 0.003*\"credit\" + 0.003*\"vote\" + 0.003*\"round\" + 0.003*\"presidenti\" + 0.003*\"rocket\" + 0.002*\"poll\" + 0.002*\"evacu\"\n"
     ]
    }
   ],
   "source": [
    "#Check which topic our test document belongs to using the LDA Bag of Words model.\n",
    "\n",
    "document_num = 1248\n",
    "\n",
    "# Our test document is document number 4310\n",
    "for index, score in sorted(lda_model[bow_corpus[document_num]], key=lambda tup: -1*tup[1]):\n",
    "    print(\"\\nScore: {}\\t \\nTopic: {}\".format(score, lda_model.print_topic(index, 10)))"
   ]
  },
  {
   "cell_type": "markdown",
   "metadata": {},
   "source": [
    "## Performance evaluation by classifying sample document using LDA TF-IDF model"
   ]
  },
  {
   "cell_type": "code",
   "execution_count": 70,
   "metadata": {},
   "outputs": [
    {
     "name": "stdout",
     "output_type": "stream",
     "text": [
      "\n",
      "Score: 0.8317645192146301\t \n",
      "Topic: 0.005*\"trump\" + 0.003*\"race\" + 0.002*\"leagu\" + 0.002*\"desanti\" + 0.002*\"champion\" + 0.002*\"tournament\" + 0.002*\"player\" + 0.002*\"round\" + 0.002*\"hospit\" + 0.002*\"republican\"\n",
      "\n",
      "Score: 0.16078321635723114\t \n",
      "Topic: 0.003*\"jet\" + 0.003*\"chines\" + 0.002*\"rocket\" + 0.002*\"beij\" + 0.002*\"ukrain\" + 0.002*\"flight\" + 0.002*\"starship\" + 0.002*\"spacex\" + 0.002*\"republican\" + 0.002*\"minist\"\n"
     ]
    }
   ],
   "source": [
    "#Check which topic our test document belongs to using the LDA TF-IDF model.\n",
    "\n",
    "# Our test document is document number 4310\n",
    "for index, score in sorted(lda_model_tfidf[bow_corpus[document_num]], key=lambda tup: -1*tup[1]):\n",
    "    print(\"\\nScore: {}\\t \\nTopic: {}\".format(score, lda_model_tfidf.print_topic(index, 10)))"
   ]
  },
  {
   "cell_type": "markdown",
   "metadata": {},
   "source": [
    "## It has the highest probability (83%) to be part of the topic that we assigned as topic X."
   ]
  },
  {
   "cell_type": "markdown",
   "metadata": {},
   "source": [
    "## Testing model on unseen document ##"
   ]
  },
  {
   "cell_type": "code",
   "execution_count": 71,
   "metadata": {},
   "outputs": [
    {
     "name": "stdout",
     "output_type": "stream",
     "text": [
      "Score: 0.7279661297798157\t Topic: 0.004*\"militari\" + 0.004*\"russia\" + 0.004*\"ukrain\" + 0.004*\"fuel\" + 0.004*\"pollut\"\n",
      "Score: 0.0689203068614006\t Topic: 0.007*\"trump\" + 0.006*\"republican\" + 0.005*\"sudan\" + 0.003*\"credit\" + 0.003*\"vote\"\n",
      "Score: 0.06814376264810562\t Topic: 0.008*\"moon\" + 0.005*\"speci\" + 0.004*\"anim\" + 0.004*\"race\" + 0.004*\"plant\"\n",
      "Score: 0.06764495372772217\t Topic: 0.007*\"moon\" + 0.006*\"nasa\" + 0.005*\"flight\" + 0.005*\"spacex\" + 0.005*\"rocket\"\n",
      "Score: 0.06732484698295593\t Topic: 0.006*\"trump\" + 0.004*\"florida\" + 0.004*\"russian\" + 0.004*\"medic\" + 0.003*\"goal\"\n"
     ]
    }
   ],
   "source": [
    "unseen_document = \"My favorite sports activities are running and swimming.\"\n",
    "\n",
    "# Data preprocessing step for the unseen document\n",
    "bow_vector = dictionary.doc2bow(preprocess(unseen_document))\n",
    "\n",
    "for index, score in sorted(lda_model[bow_vector], key=lambda tup: -1*tup[1]):\n",
    "    print(\"Score: {}\\t Topic: {}\".format(score, lda_model.print_topic(index, 5)))"
   ]
  },
  {
   "cell_type": "markdown",
   "metadata": {},
   "source": [
    "<left><img src=\"images/amazing.gif\" width=\"200\" height=\"100\" /></left>"
   ]
  },
  {
   "cell_type": "markdown",
   "metadata": {},
   "source": [
    "The model correctly classifies the unseen document with '72'% probability to the X category."
   ]
  },
  {
   "cell_type": "markdown",
   "metadata": {},
   "source": [
    "<left><img src=\"images/dualipa.gif\" width=\"500\" height=\"100\" /></left>"
   ]
  },
  {
   "cell_type": "markdown",
   "metadata": {},
   "source": [
    " <b>Concluding in dua lipa style! </b>"
   ]
  }
 ],
 "metadata": {
  "kernelspec": {
   "display_name": "Python 3 (ipykernel)",
   "language": "python",
   "name": "python3"
  },
  "language_info": {
   "codemirror_mode": {
    "name": "ipython",
    "version": 3
   },
   "file_extension": ".py",
   "mimetype": "text/x-python",
   "name": "python",
   "nbconvert_exporter": "python",
   "pygments_lexer": "ipython3",
   "version": "3.9.13"
  }
 },
 "nbformat": 4,
 "nbformat_minor": 4
}
