{
 "cells": [
  {
   "cell_type": "markdown",
   "id": "2fb17381",
   "metadata": {},
   "source": [
    "# Text Complexity with *textstat*"
   ]
  },
  {
   "cell_type": "markdown",
   "id": "0be16457",
   "metadata": {},
   "source": [
    "Textstat is a Python library that is used to determine the complexity of a given text. \n",
    "\n",
    "It provides various measures of complexity, including the Flesch Reading Ease Score, the Flesch-Kincaid Grade Level, and the Automated Readability Index. \n",
    "\n",
    "These measures can be used to assess the readability of a text and help determine the appropriate audience for a given piece of content. \n",
    "\n",
    "Textstat also provides other useful metrics such as the number of words, sentences, and syllables in a text, as well as the average length of words and sentences. \n",
    "\n",
    "With Textstat, it is easy to analyze the complexity of a text and make informed decisions about its readability."
   ]
  },
  {
   "cell_type": "code",
   "execution_count": 1,
   "id": "ebd6cee2",
   "metadata": {},
   "outputs": [],
   "source": [
    "import textstat\n",
    "import pandas as pd"
   ]
  },
  {
   "cell_type": "code",
   "execution_count": 2,
   "id": "af98c8e4",
   "metadata": {},
   "outputs": [],
   "source": [
    "test_data = (\n",
    "    \"Playing games has always been thought to be important to \"\n",
    "    \"the development of well-balanced and creative children; \"\n",
    "    \"however, what part, if any, they should play in the lives \"\n",
    "    \"of adults has never been researched that deeply. I believe \"\n",
    "    \"that playing games is every bit as important for adults \"\n",
    "    \"as for children. Not only is taking time out to play games \"\n",
    "    \"with our children and other adults valuable to building \"\n",
    "    \"interpersonal relationships but is also a wonderful way \"\n",
    "    \"to release built up tension.\")"
   ]
  },
  {
   "cell_type": "code",
   "execution_count": 3,
   "id": "e52eee74",
   "metadata": {},
   "outputs": [
    {
     "data": {
      "text/plain": [
       "52.23"
      ]
     },
     "execution_count": 3,
     "metadata": {},
     "output_type": "execute_result"
    }
   ],
   "source": [
    "textstat.flesch_reading_ease(test_data)\n"
   ]
  },
  {
   "cell_type": "code",
   "execution_count": 4,
   "id": "48915964",
   "metadata": {},
   "outputs": [
    {
     "data": {
      "text/plain": [
       "12.8"
      ]
     },
     "execution_count": 4,
     "metadata": {},
     "output_type": "execute_result"
    }
   ],
   "source": [
    "textstat.flesch_kincaid_grade(test_data)"
   ]
  },
  {
   "cell_type": "code",
   "execution_count": 5,
   "id": "c5555c95",
   "metadata": {},
   "outputs": [
    {
     "data": {
      "text/plain": [
       "12.38"
      ]
     },
     "execution_count": 5,
     "metadata": {},
     "output_type": "execute_result"
    }
   ],
   "source": [
    "textstat.gunning_fog(test_data)"
   ]
  },
  {
   "cell_type": "code",
   "execution_count": 6,
   "id": "6e8b596c",
   "metadata": {},
   "outputs": [
    {
     "data": {
      "text/plain": [
       "12.5"
      ]
     },
     "execution_count": 6,
     "metadata": {},
     "output_type": "execute_result"
    }
   ],
   "source": [
    "textstat.smog_index(test_data) # do it on text with more than 30 sentences"
   ]
  },
  {
   "cell_type": "code",
   "execution_count": 7,
   "id": "1c2f2acc",
   "metadata": {},
   "outputs": [
    {
     "data": {
      "text/plain": [
       "7.3"
      ]
     },
     "execution_count": 7,
     "metadata": {},
     "output_type": "execute_result"
    }
   ],
   "source": [
    "textstat.dale_chall_readability_score(test_data)"
   ]
  },
  {
   "cell_type": "code",
   "execution_count": 8,
   "id": "b6b11906",
   "metadata": {},
   "outputs": [
    {
     "data": {
      "text/plain": [
       "'12th and 13th grade'"
      ]
     },
     "execution_count": 8,
     "metadata": {},
     "output_type": "execute_result"
    }
   ],
   "source": [
    "textstat.text_standard(test_data, float_output=False)"
   ]
  },
  {
   "cell_type": "markdown",
   "id": "7f126241",
   "metadata": {},
   "source": [
    "## Implementing text complexity for our dataset"
   ]
  },
  {
   "cell_type": "code",
   "execution_count": 18,
   "id": "4bc3101a",
   "metadata": {},
   "outputs": [
    {
     "data": {
      "text/html": [
       "<div>\n",
       "<style scoped>\n",
       "    .dataframe tbody tr th:only-of-type {\n",
       "        vertical-align: middle;\n",
       "    }\n",
       "\n",
       "    .dataframe tbody tr th {\n",
       "        vertical-align: top;\n",
       "    }\n",
       "\n",
       "    .dataframe thead th {\n",
       "        text-align: right;\n",
       "    }\n",
       "</style>\n",
       "<table border=\"1\" class=\"dataframe\">\n",
       "  <thead>\n",
       "    <tr style=\"text-align: right;\">\n",
       "      <th></th>\n",
       "      <th>Title</th>\n",
       "      <th>Content</th>\n",
       "    </tr>\n",
       "  </thead>\n",
       "  <tbody>\n",
       "    <tr>\n",
       "      <th>0</th>\n",
       "      <td>\\n      Consumer confidence worsened in April ...</td>\n",
       "      <td>US consumer confidence worsened in April as Am...</td>\n",
       "    </tr>\n",
       "    <tr>\n",
       "      <th>1</th>\n",
       "      <td>\\n      GM earnings much better than expected ...</td>\n",
       "      <td>General Motors reported a much better-than-exp...</td>\n",
       "    </tr>\n",
       "    <tr>\n",
       "      <th>2</th>\n",
       "      <td>\\n      Chevrolet Bolt, GM’s first popular ele...</td>\n",
       "      <td>The Chevrolet Bolt EV, General Motors first fu...</td>\n",
       "    </tr>\n",
       "    <tr>\n",
       "      <th>3</th>\n",
       "      <td>\\n      New home sales rise for the fourth mon...</td>\n",
       "      <td>New home sales rose in March, climbing for the...</td>\n",
       "    </tr>\n",
       "    <tr>\n",
       "      <th>4</th>\n",
       "      <td>\\n      Tucker Carlson out at Fox News\\n</td>\n",
       "      <td>Fox News and Tucker Carlson, the right-wing ex...</td>\n",
       "    </tr>\n",
       "    <tr>\n",
       "      <th>...</th>\n",
       "      <td>...</td>\n",
       "      <td>...</td>\n",
       "    </tr>\n",
       "    <tr>\n",
       "      <th>1180</th>\n",
       "      <td>Hospitals and health care facilities should dr...</td>\n",
       "      <td>Walensky told Congress that masking guidance ‘...</td>\n",
       "    </tr>\n",
       "    <tr>\n",
       "      <th>1181</th>\n",
       "      <td>ChatGPT for health care providers: Can the AI ...</td>\n",
       "      <td>OpenAI CEO Sam Altman said that he was \"a litt...</td>\n",
       "    </tr>\n",
       "    <tr>\n",
       "      <th>1182</th>\n",
       "      <td>Want to get better sleep? Exercise for this lo...</td>\n",
       "      <td>Get the rest you need with these simple tweaks...</td>\n",
       "    </tr>\n",
       "    <tr>\n",
       "      <th>1183</th>\n",
       "      <td>Massachusetts town says Avian Flu detected amo...</td>\n",
       "      <td>Fox News Flash top headlines are here. Check o...</td>\n",
       "    </tr>\n",
       "    <tr>\n",
       "      <th>1184</th>\n",
       "      <td>The world lost faith in childhood vaccines dur...</td>\n",
       "      <td>Fox News Flash top headlines are here. Check o...</td>\n",
       "    </tr>\n",
       "  </tbody>\n",
       "</table>\n",
       "<p>1185 rows × 2 columns</p>\n",
       "</div>"
      ],
      "text/plain": [
       "                                                  Title  \\\n",
       "0     \\n      Consumer confidence worsened in April ...   \n",
       "1     \\n      GM earnings much better than expected ...   \n",
       "2     \\n      Chevrolet Bolt, GM’s first popular ele...   \n",
       "3     \\n      New home sales rise for the fourth mon...   \n",
       "4          \\n      Tucker Carlson out at Fox News\\n       \n",
       "...                                                 ...   \n",
       "1180  Hospitals and health care facilities should dr...   \n",
       "1181  ChatGPT for health care providers: Can the AI ...   \n",
       "1182  Want to get better sleep? Exercise for this lo...   \n",
       "1183  Massachusetts town says Avian Flu detected amo...   \n",
       "1184  The world lost faith in childhood vaccines dur...   \n",
       "\n",
       "                                                Content  \n",
       "0     US consumer confidence worsened in April as Am...  \n",
       "1     General Motors reported a much better-than-exp...  \n",
       "2     The Chevrolet Bolt EV, General Motors first fu...  \n",
       "3     New home sales rose in March, climbing for the...  \n",
       "4     Fox News and Tucker Carlson, the right-wing ex...  \n",
       "...                                                 ...  \n",
       "1180  Walensky told Congress that masking guidance ‘...  \n",
       "1181  OpenAI CEO Sam Altman said that he was \"a litt...  \n",
       "1182  Get the rest you need with these simple tweaks...  \n",
       "1183  Fox News Flash top headlines are here. Check o...  \n",
       "1184  Fox News Flash top headlines are here. Check o...  \n",
       "\n",
       "[1185 rows x 2 columns]"
      ]
     },
     "execution_count": 18,
     "metadata": {},
     "output_type": "execute_result"
    }
   ],
   "source": [
    "df = pd.read_csv('output-merged.csv')\n",
    "df = df[['Title', 'Content']]\n",
    "df"
   ]
  },
  {
   "cell_type": "code",
   "execution_count": 19,
   "id": "1e8c36a5",
   "metadata": {},
   "outputs": [],
   "source": [
    "df['Flesch Reading'] = 0\n",
    "for i, row in df.iterrows():\n",
    "    text = row['Content']  # replace 'text_column' with the name of the column containing the text\n",
    "    score = textstat.flesch_reading_ease(text)\n",
    "    df.loc[i, 'Flesch Reading'] = score"
   ]
  },
  {
   "cell_type": "code",
   "execution_count": 20,
   "id": "121047a8",
   "metadata": {},
   "outputs": [],
   "source": [
    "df['Flesch-Kincaid'] = 0\n",
    "for i, row in df.iterrows():\n",
    "    text = row['Content']  # replace 'text_column' with the name of the column containing the text\n",
    "    score = textstat.flesch_kincaid_grade(text)\n",
    "    df.loc[i, 'Flesch-Kincaid'] = score"
   ]
  },
  {
   "cell_type": "code",
   "execution_count": 21,
   "id": "a6d5f463",
   "metadata": {},
   "outputs": [],
   "source": [
    "df['Smog Index'] = 0\n",
    "for i, row in df.iterrows():\n",
    "    text = row['Content']  # replace 'text_column' with the name of the column containing the text\n",
    "    score = textstat.smog_index(text)\n",
    "    df.loc[i, 'Smog Index'] = score"
   ]
  },
  {
   "cell_type": "code",
   "execution_count": 22,
   "id": "05f0afe2",
   "metadata": {},
   "outputs": [],
   "source": [
    "df['Standard Score'] = 0\n",
    "for i, row in df.iterrows():\n",
    "    text = row['Content']  # replace 'text_column' with the name of the column containing the text\n",
    "    score = textstat.text_standard(text, float_output=False)\n",
    "    df.loc[i, 'Standard Score'] = score"
   ]
  },
  {
   "cell_type": "code",
   "execution_count": 23,
   "id": "894b1ca9",
   "metadata": {},
   "outputs": [
    {
     "data": {
      "text/html": [
       "<div>\n",
       "<style scoped>\n",
       "    .dataframe tbody tr th:only-of-type {\n",
       "        vertical-align: middle;\n",
       "    }\n",
       "\n",
       "    .dataframe tbody tr th {\n",
       "        vertical-align: top;\n",
       "    }\n",
       "\n",
       "    .dataframe thead th {\n",
       "        text-align: right;\n",
       "    }\n",
       "</style>\n",
       "<table border=\"1\" class=\"dataframe\">\n",
       "  <thead>\n",
       "    <tr style=\"text-align: right;\">\n",
       "      <th></th>\n",
       "      <th>Title</th>\n",
       "      <th>Content</th>\n",
       "      <th>Flesch Reading</th>\n",
       "      <th>Flesch-Kincaid</th>\n",
       "      <th>Smog Index</th>\n",
       "      <th>Standard Score</th>\n",
       "    </tr>\n",
       "  </thead>\n",
       "  <tbody>\n",
       "    <tr>\n",
       "      <th>0</th>\n",
       "      <td>\\n      Consumer confidence worsened in April ...</td>\n",
       "      <td>US consumer confidence worsened in April as Am...</td>\n",
       "      <td>50.36</td>\n",
       "      <td>11.4</td>\n",
       "      <td>13.4</td>\n",
       "      <td>13th and 14th grade</td>\n",
       "    </tr>\n",
       "    <tr>\n",
       "      <th>1</th>\n",
       "      <td>\\n      GM earnings much better than expected ...</td>\n",
       "      <td>General Motors reported a much better-than-exp...</td>\n",
       "      <td>70.53</td>\n",
       "      <td>7.8</td>\n",
       "      <td>10.6</td>\n",
       "      <td>9th and 10th grade</td>\n",
       "    </tr>\n",
       "    <tr>\n",
       "      <th>2</th>\n",
       "      <td>\\n      Chevrolet Bolt, GM’s first popular ele...</td>\n",
       "      <td>The Chevrolet Bolt EV, General Motors first fu...</td>\n",
       "      <td>64.04</td>\n",
       "      <td>10.3</td>\n",
       "      <td>12.5</td>\n",
       "      <td>12th and 13th grade</td>\n",
       "    </tr>\n",
       "    <tr>\n",
       "      <th>3</th>\n",
       "      <td>\\n      New home sales rise for the fourth mon...</td>\n",
       "      <td>New home sales rose in March, climbing for the...</td>\n",
       "      <td>60.85</td>\n",
       "      <td>9.4</td>\n",
       "      <td>11.9</td>\n",
       "      <td>10th and 11th grade</td>\n",
       "    </tr>\n",
       "    <tr>\n",
       "      <th>4</th>\n",
       "      <td>\\n      Tucker Carlson out at Fox News\\n</td>\n",
       "      <td>Fox News and Tucker Carlson, the right-wing ex...</td>\n",
       "      <td>60.14</td>\n",
       "      <td>9.7</td>\n",
       "      <td>12.2</td>\n",
       "      <td>11th and 12th grade</td>\n",
       "    </tr>\n",
       "    <tr>\n",
       "      <th>...</th>\n",
       "      <td>...</td>\n",
       "      <td>...</td>\n",
       "      <td>...</td>\n",
       "      <td>...</td>\n",
       "      <td>...</td>\n",
       "      <td>...</td>\n",
       "    </tr>\n",
       "    <tr>\n",
       "      <th>1180</th>\n",
       "      <td>Hospitals and health care facilities should dr...</td>\n",
       "      <td>Walensky told Congress that masking guidance ‘...</td>\n",
       "      <td>49.55</td>\n",
       "      <td>11.7</td>\n",
       "      <td>14.3</td>\n",
       "      <td>12th and 13th grade</td>\n",
       "    </tr>\n",
       "    <tr>\n",
       "      <th>1181</th>\n",
       "      <td>ChatGPT for health care providers: Can the AI ...</td>\n",
       "      <td>OpenAI CEO Sam Altman said that he was \"a litt...</td>\n",
       "      <td>35.91</td>\n",
       "      <td>14.9</td>\n",
       "      <td>16.1</td>\n",
       "      <td>14th and 15th grade</td>\n",
       "    </tr>\n",
       "    <tr>\n",
       "      <th>1182</th>\n",
       "      <td>Want to get better sleep? Exercise for this lo...</td>\n",
       "      <td>Get the rest you need with these simple tweaks...</td>\n",
       "      <td>61.87</td>\n",
       "      <td>9.1</td>\n",
       "      <td>12.6</td>\n",
       "      <td>10th and 11th grade</td>\n",
       "    </tr>\n",
       "    <tr>\n",
       "      <th>1183</th>\n",
       "      <td>Massachusetts town says Avian Flu detected amo...</td>\n",
       "      <td>Fox News Flash top headlines are here. Check o...</td>\n",
       "      <td>58.01</td>\n",
       "      <td>10.5</td>\n",
       "      <td>12.6</td>\n",
       "      <td>12th and 13th grade</td>\n",
       "    </tr>\n",
       "    <tr>\n",
       "      <th>1184</th>\n",
       "      <td>The world lost faith in childhood vaccines dur...</td>\n",
       "      <td>Fox News Flash top headlines are here. Check o...</td>\n",
       "      <td>50.16</td>\n",
       "      <td>11.5</td>\n",
       "      <td>12.8</td>\n",
       "      <td>9th and 10th grade</td>\n",
       "    </tr>\n",
       "  </tbody>\n",
       "</table>\n",
       "<p>1185 rows × 6 columns</p>\n",
       "</div>"
      ],
      "text/plain": [
       "                                                  Title  \\\n",
       "0     \\n      Consumer confidence worsened in April ...   \n",
       "1     \\n      GM earnings much better than expected ...   \n",
       "2     \\n      Chevrolet Bolt, GM’s first popular ele...   \n",
       "3     \\n      New home sales rise for the fourth mon...   \n",
       "4          \\n      Tucker Carlson out at Fox News\\n       \n",
       "...                                                 ...   \n",
       "1180  Hospitals and health care facilities should dr...   \n",
       "1181  ChatGPT for health care providers: Can the AI ...   \n",
       "1182  Want to get better sleep? Exercise for this lo...   \n",
       "1183  Massachusetts town says Avian Flu detected amo...   \n",
       "1184  The world lost faith in childhood vaccines dur...   \n",
       "\n",
       "                                                Content  Flesch Reading  \\\n",
       "0     US consumer confidence worsened in April as Am...           50.36   \n",
       "1     General Motors reported a much better-than-exp...           70.53   \n",
       "2     The Chevrolet Bolt EV, General Motors first fu...           64.04   \n",
       "3     New home sales rose in March, climbing for the...           60.85   \n",
       "4     Fox News and Tucker Carlson, the right-wing ex...           60.14   \n",
       "...                                                 ...             ...   \n",
       "1180  Walensky told Congress that masking guidance ‘...           49.55   \n",
       "1181  OpenAI CEO Sam Altman said that he was \"a litt...           35.91   \n",
       "1182  Get the rest you need with these simple tweaks...           61.87   \n",
       "1183  Fox News Flash top headlines are here. Check o...           58.01   \n",
       "1184  Fox News Flash top headlines are here. Check o...           50.16   \n",
       "\n",
       "      Flesch-Kincaid  Smog Index       Standard Score  \n",
       "0               11.4        13.4  13th and 14th grade  \n",
       "1                7.8        10.6   9th and 10th grade  \n",
       "2               10.3        12.5  12th and 13th grade  \n",
       "3                9.4        11.9  10th and 11th grade  \n",
       "4                9.7        12.2  11th and 12th grade  \n",
       "...              ...         ...                  ...  \n",
       "1180            11.7        14.3  12th and 13th grade  \n",
       "1181            14.9        16.1  14th and 15th grade  \n",
       "1182             9.1        12.6  10th and 11th grade  \n",
       "1183            10.5        12.6  12th and 13th grade  \n",
       "1184            11.5        12.8   9th and 10th grade  \n",
       "\n",
       "[1185 rows x 6 columns]"
      ]
     },
     "execution_count": 23,
     "metadata": {},
     "output_type": "execute_result"
    }
   ],
   "source": [
    "df"
   ]
  },
  {
   "attachments": {
    "image.png": {
     "image/png": "[encoded data removed]"
    }
   },
   "cell_type": "markdown",
   "id": "fe99377a",
   "metadata": {},
   "source": [
    "The table is an example of values. While the maximum score is 121.22, there is no limit on how low the score can be. A negative score is valid.\n",
    "![image.png](attachment:image.png)"
   ]
  },
  {
   "cell_type": "code",
   "execution_count": 24,
   "id": "50e286cc",
   "metadata": {
    "scrolled": false
   },
   "outputs": [
    {
     "data": {
      "text/plain": [
       "Text(0, 0.5, 'Frequency')"
      ]
     },
     "execution_count": 24,
     "metadata": {},
     "output_type": "execute_result"
    },
    {
     "data": {
      "image/png": "[encoded data removed]",
      "text/plain": [
       "<Figure size 640x480 with 1 Axes>"
      ]
     },
     "metadata": {},
     "output_type": "display_data"
    }
   ],
   "source": [
    "import matplotlib.pyplot as plt\n",
    "df['Flesch Reading'].hist()\n",
    "plt.title('Histogram of Flesch Reading')\n",
    "plt.xlabel('Flesch Reading')\n",
    "plt.ylabel('Frequency')"
   ]
  },
  {
   "cell_type": "code",
   "execution_count": 25,
   "id": "2ad032bc",
   "metadata": {},
   "outputs": [
    {
     "data": {
      "text/plain": [
       "Text(0, 0.5, 'Frequency')"
      ]
     },
     "execution_count": 25,
     "metadata": {},
     "output_type": "execute_result"
    },
    {
     "data": {
      "image/png": "[encoded data removed]",
      "text/plain": [
       "<Figure size 640x480 with 1 Axes>"
      ]
     },
     "metadata": {},
     "output_type": "display_data"
    }
   ],
   "source": [
    "df['Flesch-Kincaid'].hist()\n",
    "plt.title('Histogram of Flesch-Kincaid')\n",
    "plt.xlabel('Flesch-Kincaid')\n",
    "plt.ylabel('Frequency')\n",
    "\n",
    "# score of 10-12 means a 10th to 12th grader can read the articles"
   ]
  },
  {
   "cell_type": "code",
   "execution_count": 26,
   "id": "405d613e",
   "metadata": {},
   "outputs": [
    {
     "data": {
      "text/plain": [
       "Text(0, 0.5, 'Frequency')"
      ]
     },
     "execution_count": 26,
     "metadata": {},
     "output_type": "execute_result"
    },
    {
     "data": {
      "image/png": "[encoded data removed]",
      "text/plain": [
       "<Figure size 640x480 with 1 Axes>"
      ]
     },
     "metadata": {},
     "output_type": "display_data"
    }
   ],
   "source": [
    "df['Smog Index'].hist()\n",
    "plt.title('Histogram of Smog Index')\n",
    "plt.xlabel('Smog Index')\n",
    "plt.ylabel('Frequency')\n",
    "\n",
    "# smog index of 12.5 means a 12th grader could read the article"
   ]
  }
 ],
 "metadata": {
  "kernelspec": {
   "display_name": "Python 3 (ipykernel)",
   "language": "python",
   "name": "python3"
  },
  "language_info": {
   "codemirror_mode": {
    "name": "ipython",
    "version": 3
   },
   "file_extension": ".py",
   "mimetype": "text/x-python",
   "name": "python",
   "nbconvert_exporter": "python",
   "pygments_lexer": "ipython3",
   "version": "3.9.13"
  }
 },
 "nbformat": 4,
 "nbformat_minor": 5
}
